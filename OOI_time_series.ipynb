{
 "cells": [
  {
   "cell_type": "markdown",
   "id": "90ff8eea-58ca-47ef-bd6c-cff8569a69c7",
   "metadata": {},
   "source": [
    "# Extract time series of GLORYS12V1 data at OOI mooring locations\n",
    "Created by Ivan Lima on Tue May 10 2022 08:51:24 -0400"
   ]
  },
  {
   "cell_type": "code",
   "execution_count": 2,
   "id": "e7ccff8a-6469-48cc-9a9b-2a0b1d07cda0",
   "metadata": {},
   "outputs": [
    {
     "name": "stdout",
     "output_type": "stream",
     "text": [
      "Last updated on Tue May 10 11:45:41 2022\n"
     ]
    }
   ],
   "source": [
    "%matplotlib inline\n",
    "import xarray as xr\n",
    "import numpy as np\n",
    "import seaborn as sns\n",
    "import matplotlib.pyplot as plt\n",
    "import ccsm_utils as ccsm\n",
    "import os, datetime, glob\n",
    "from tqdm import notebook\n",
    "print('Last updated on {}'.format(datetime.datetime.now().ctime()))"
   ]
  },
  {
   "cell_type": "code",
   "execution_count": 3,
   "id": "53200626-16de-4dc9-8b47-93e552e133d2",
   "metadata": {},
   "outputs": [],
   "source": [
    "sns.set_theme(context='paper', style='ticks', palette='tab10', rc={'figure.dpi':100, 'figure.figsize':[5, 5], 'axes.grid':True})"
   ]
  },
  {
   "cell_type": "markdown",
   "id": "a31fee09-7618-426d-a901-6a7b27aecfe5",
   "metadata": {},
   "source": [
    "## Read GLORYS12V1 data"
   ]
  },
  {
   "cell_type": "code",
   "execution_count": 4,
   "id": "3af3f250-c6ef-496b-9862-2760e5049c50",
   "metadata": {},
   "outputs": [
    {
     "data": {
      "text/plain": [
       "Data variables:\n",
       "    Temperature           (time, depth, latitude, longitude) float32 dask.array<chunksize=(31, 50, 145, 169), meta=np.ndarray>\n",
       "    Salinity              (time, depth, latitude, longitude) float32 dask.array<chunksize=(31, 50, 145, 169), meta=np.ndarray>\n",
       "    DIC                   (time, depth, latitude, longitude) float32 dask.array<chunksize=(31, 50, 145, 169), meta=np.ndarray>\n",
       "    TA                    (time, depth, latitude, longitude) float32 dask.array<chunksize=(31, 50, 145, 169), meta=np.ndarray>\n",
       "    pH                    (time, depth, latitude, longitude) float64 dask.array<chunksize=(31, 50, 145, 169), meta=np.ndarray>\n",
       "    saturation_calcite    (time, depth, latitude, longitude) float64 dask.array<chunksize=(31, 50, 145, 169), meta=np.ndarray>\n",
       "    saturation_aragonite  (time, depth, latitude, longitude) float64 dask.array<chunksize=(31, 50, 145, 169), meta=np.ndarray>"
      ]
     },
     "execution_count": 4,
     "metadata": {},
     "output_type": "execute_result"
    }
   ],
   "source": [
    "filelist = glob.glob('/bali/data/ilima/GLORYS12V1/daily/BGC/GLORYS12V1_NW_Atlantic_201?-??_BGC.nc')\n",
    "filelist.sort()\n",
    "ds = xr.open_mfdataset(filelist)\n",
    "ds.data_vars"
   ]
  },
  {
   "cell_type": "markdown",
   "id": "945a3c79-b3d8-4925-af71-0613de1b4bde",
   "metadata": {},
   "source": [
    "## Extract time series at OOI moorings"
   ]
  },
  {
   "cell_type": "code",
   "execution_count": 7,
   "id": "39576ad3-efd4-4f05-bdfc-de6bf2367e24",
   "metadata": {},
   "outputs": [
    {
     "name": "stdout",
     "output_type": "stream",
     "text": [
      "extracting OSSM\n"
     ]
    },
    {
     "data": {
      "application/vnd.jupyter.widget-view+json": {
       "model_id": "cfe6647fc0ad47f8921c41a288a1a32e",
       "version_major": 2,
       "version_minor": 0
      },
      "text/plain": [
       "  0%|          | 0/7 [00:00<?, ?it/s]"
      ]
     },
     "metadata": {},
     "output_type": "display_data"
    },
    {
     "name": "stdout",
     "output_type": "stream",
     "text": [
      "extracting ISSM\n"
     ]
    },
    {
     "data": {
      "application/vnd.jupyter.widget-view+json": {
       "model_id": "e3d1f023a9954912bb194637217b5fbc",
       "version_major": 2,
       "version_minor": 0
      },
      "text/plain": [
       "  0%|          | 0/7 [00:00<?, ?it/s]"
      ]
     },
     "metadata": {},
     "output_type": "display_data"
    },
    {
     "name": "stdout",
     "output_type": "stream",
     "text": [
      "extracting CNSM\n"
     ]
    },
    {
     "data": {
      "application/vnd.jupyter.widget-view+json": {
       "model_id": "0abecba085e747f683f9662d62bcf040",
       "version_major": 2,
       "version_minor": 0
      },
      "text/plain": [
       "  0%|          | 0/7 [00:00<?, ?it/s]"
      ]
     },
     "metadata": {},
     "output_type": "display_data"
    }
   ],
   "source": [
    "## OOI mooring positions\n",
    "# OSSM: 39.9371 N, 70.887 W\n",
    "# ISSM: 40.3619 N, 70.8783 W\n",
    "# CNSM: 40.1334 N, 70.7785 W\n",
    "OOI_moorings = {'OSSM': (-70.8870, 39.9371),\n",
    "                'ISSM': (-70.8783, 40.3619),\n",
    "                'CNSM': (-70.7785, 40.1334)}\n",
    "\n",
    "tlon, tlat = np.meshgrid(ds.longitude.values, ds.latitude.values)\n",
    "now = datetime.datetime.now().ctime()\n",
    "\n",
    "for loc in OOI_moorings:\n",
    "    print('extracting {}'.format(loc))\n",
    "    da_dict = {}\n",
    "    for vname in notebook.tqdm(ds.data_vars):\n",
    "        ts = ccsm.extract_loc_vec(*OOI_moorings[loc], tlon, tlat, ds[vname].values)\n",
    "        ts = np.ma.compress_cols(ts) # remove masked values (bottom)\n",
    "        zz = ts.shape[1]             # index of bottom grid cell\n",
    "        da_dict[vname] = xr.DataArray(ts, coords=[ds.coords['time'], ds.coords['depth'][:zz]], dims=['time', 'depth'], name=vname)\n",
    "\n",
    "    attrs={'contents':'Time series of GLORYS12V1 output at OOI-{} mooring'.format(loc),\n",
    "           'history':'Created by Ivan Lima <ilima@whoi.edu> on {}'.format(now)}\n",
    "    ds_out = xr.Dataset(da_dict)\n",
    "    ds_out.attrs.update(attrs)\n",
    "    for vname in ds.data_vars:\n",
    "            ds_out[vname].attrs.update(ds[vname].attrs)\n",
    "\n",
    "    ds_out.to_netcdf('data/OOI-{}_time_series.nc'.format(loc), mode='w', unlimited_dims=['time'])"
   ]
  },
  {
   "cell_type": "markdown",
   "id": "99b07ec6-a55c-4f2f-b0fd-86e484c0a6be",
   "metadata": {},
   "source": [
    "---"
   ]
  },
  {
   "cell_type": "code",
   "execution_count": null,
   "id": "dc49d82e-6da2-44a7-a734-e2a2cdef5107",
   "metadata": {},
   "outputs": [],
   "source": [
    "fig, axs = plt.subplots(2, 3, sharex=True, sharey=True, figsize=(15, 10))\n",
    "fig.subplots_adjust(hspace=0.125)\n",
    "for ax, vname in zip(axs.ravel(), ['Temperature','Salinity','DIC','TA','pH','saturation_aragonite']):\n",
    "    _ = ds_out[vname].plot(x='time', y='depth', ax=ax)\n",
    "    ax.invert_yaxis()\n",
    "    _ = ax.set_title('OOI')\n",
    "\n",
    "# fig.savefig('ooi.png', dpi=300, bbox_inches='tight')"
   ]
  }
 ],
 "metadata": {
  "kernelspec": {
   "display_name": "Python 3 (ipykernel)",
   "language": "python",
   "name": "python3"
  },
  "language_info": {
   "codemirror_mode": {
    "name": "ipython",
    "version": 3
   },
   "file_extension": ".py",
   "mimetype": "text/x-python",
   "name": "python",
   "nbconvert_exporter": "python",
   "pygments_lexer": "ipython3",
   "version": "3.9.10"
  },
  "widgets": {
   "application/vnd.jupyter.widget-state+json": {
    "state": {
     "0902a8b799db4f8bbf4d4c1ba725bb30": {
      "model_module": "@jupyter-widgets/controls",
      "model_module_version": "1.5.0",
      "model_name": "HTMLModel",
      "state": {
       "layout": "IPY_MODEL_f360733cec1746438a7af0ff5b5ac159",
       "style": "IPY_MODEL_0ea48f750d7847128aff7d0973645910",
       "value": "100%"
      }
     },
     "0abecba085e747f683f9662d62bcf040": {
      "model_module": "@jupyter-widgets/controls",
      "model_module_version": "1.5.0",
      "model_name": "HBoxModel",
      "state": {
       "children": [
        "IPY_MODEL_f1e0e68461e04aa984afcd0a12ab737e",
        "IPY_MODEL_b59330608135416ca51dd88960104810",
        "IPY_MODEL_15391868591a43eba4f38fcbd26396cf"
       ],
       "layout": "IPY_MODEL_f87a0ae5f22a4cf7b71d15ff10fb7a41"
      }
     },
     "0ea48f750d7847128aff7d0973645910": {
      "model_module": "@jupyter-widgets/controls",
      "model_module_version": "1.5.0",
      "model_name": "DescriptionStyleModel",
      "state": {
       "description_width": ""
      }
     },
     "15391868591a43eba4f38fcbd26396cf": {
      "model_module": "@jupyter-widgets/controls",
      "model_module_version": "1.5.0",
      "model_name": "HTMLModel",
      "state": {
       "layout": "IPY_MODEL_f5a3acc063964418b5eedfd03801e403",
       "style": "IPY_MODEL_f31b83b318ef49c98b5690d5361293fb",
       "value": " 7/7 [12:00&lt;00:00, 127.69s/it]"
      }
     },
     "26d282f6e7f54cc39200cfc3bee7047c": {
      "model_module": "@jupyter-widgets/base",
      "model_module_version": "1.2.0",
      "model_name": "LayoutModel",
      "state": {}
     },
     "2b9bf21f70244ef981501d3f132dd6b6": {
      "model_module": "@jupyter-widgets/base",
      "model_module_version": "1.2.0",
      "model_name": "LayoutModel",
      "state": {}
     },
     "3e38f8a63bc543d986f94cae78693dd8": {
      "model_module": "@jupyter-widgets/base",
      "model_module_version": "1.2.0",
      "model_name": "LayoutModel",
      "state": {}
     },
     "40c3d4238a6e40b59331ed6827540471": {
      "model_module": "@jupyter-widgets/controls",
      "model_module_version": "1.5.0",
      "model_name": "DescriptionStyleModel",
      "state": {
       "description_width": ""
      }
     },
     "441455d08ada40f1a7c3232e4c35dd80": {
      "model_module": "@jupyter-widgets/base",
      "model_module_version": "1.2.0",
      "model_name": "LayoutModel",
      "state": {}
     },
     "56c733a4eb614c2ba8b53f28311a6337": {
      "model_module": "@jupyter-widgets/controls",
      "model_module_version": "1.5.0",
      "model_name": "FloatProgressModel",
      "state": {
       "bar_style": "success",
       "layout": "IPY_MODEL_814c9690e2a84cfea0847042627ce4d3",
       "max": 7,
       "style": "IPY_MODEL_912b70ca1bf740d69bc24b9e404c7037",
       "value": 7
      }
     },
     "5a5570b0bc0e4fc58a48410a566570f7": {
      "model_module": "@jupyter-widgets/controls",
      "model_module_version": "1.5.0",
      "model_name": "HTMLModel",
      "state": {
       "layout": "IPY_MODEL_9c33061fc08c464b9a2273daa346c08f",
       "style": "IPY_MODEL_67919c82edf64abe9df725be13fa3b89",
       "value": "100%"
      }
     },
     "60d7ef74db084204b79c07f2550a91fe": {
      "model_module": "@jupyter-widgets/controls",
      "model_module_version": "1.5.0",
      "model_name": "HTMLModel",
      "state": {
       "layout": "IPY_MODEL_3e38f8a63bc543d986f94cae78693dd8",
       "style": "IPY_MODEL_a8b68dc649494b97b23adfcd79ee1307",
       "value": " 7/7 [11:58&lt;00:00, 126.63s/it]"
      }
     },
     "60e367bb348b4b8c80f01b7f7584a1f4": {
      "model_module": "@jupyter-widgets/controls",
      "model_module_version": "1.5.0",
      "model_name": "FloatProgressModel",
      "state": {
       "bar_style": "success",
       "layout": "IPY_MODEL_441455d08ada40f1a7c3232e4c35dd80",
       "max": 7,
       "style": "IPY_MODEL_e28f90b72e5e48ae8b287aee2c5a50d7",
       "value": 7
      }
     },
     "67919c82edf64abe9df725be13fa3b89": {
      "model_module": "@jupyter-widgets/controls",
      "model_module_version": "1.5.0",
      "model_name": "DescriptionStyleModel",
      "state": {
       "description_width": ""
      }
     },
     "814c9690e2a84cfea0847042627ce4d3": {
      "model_module": "@jupyter-widgets/base",
      "model_module_version": "1.2.0",
      "model_name": "LayoutModel",
      "state": {}
     },
     "912b70ca1bf740d69bc24b9e404c7037": {
      "model_module": "@jupyter-widgets/controls",
      "model_module_version": "1.5.0",
      "model_name": "ProgressStyleModel",
      "state": {
       "description_width": ""
      }
     },
     "963aa8050b8f4e3e9abc775490d28b88": {
      "model_module": "@jupyter-widgets/base",
      "model_module_version": "1.2.0",
      "model_name": "LayoutModel",
      "state": {}
     },
     "9c33061fc08c464b9a2273daa346c08f": {
      "model_module": "@jupyter-widgets/base",
      "model_module_version": "1.2.0",
      "model_name": "LayoutModel",
      "state": {}
     },
     "a4b55f7ddf234ee0baf529adfebef22f": {
      "model_module": "@jupyter-widgets/base",
      "model_module_version": "1.2.0",
      "model_name": "LayoutModel",
      "state": {}
     },
     "a8b68dc649494b97b23adfcd79ee1307": {
      "model_module": "@jupyter-widgets/controls",
      "model_module_version": "1.5.0",
      "model_name": "DescriptionStyleModel",
      "state": {
       "description_width": ""
      }
     },
     "b0453bc090e3495dbbc2b693a72c04e8": {
      "model_module": "@jupyter-widgets/controls",
      "model_module_version": "1.5.0",
      "model_name": "HTMLModel",
      "state": {
       "layout": "IPY_MODEL_b88ea6a1446f4f6aa796636b78148213",
       "style": "IPY_MODEL_40c3d4238a6e40b59331ed6827540471",
       "value": " 7/7 [12:44&lt;00:00, 133.80s/it]"
      }
     },
     "b59330608135416ca51dd88960104810": {
      "model_module": "@jupyter-widgets/controls",
      "model_module_version": "1.5.0",
      "model_name": "FloatProgressModel",
      "state": {
       "bar_style": "success",
       "layout": "IPY_MODEL_963aa8050b8f4e3e9abc775490d28b88",
       "max": 7,
       "style": "IPY_MODEL_fe028488814c4617a827baa7cd44c4ce",
       "value": 7
      }
     },
     "b88ea6a1446f4f6aa796636b78148213": {
      "model_module": "@jupyter-widgets/base",
      "model_module_version": "1.2.0",
      "model_name": "LayoutModel",
      "state": {}
     },
     "cfe6647fc0ad47f8921c41a288a1a32e": {
      "model_module": "@jupyter-widgets/controls",
      "model_module_version": "1.5.0",
      "model_name": "HBoxModel",
      "state": {
       "children": [
        "IPY_MODEL_5a5570b0bc0e4fc58a48410a566570f7",
        "IPY_MODEL_56c733a4eb614c2ba8b53f28311a6337",
        "IPY_MODEL_60d7ef74db084204b79c07f2550a91fe"
       ],
       "layout": "IPY_MODEL_a4b55f7ddf234ee0baf529adfebef22f"
      }
     },
     "d54eccd958804bde99a6c68ee8e72eba": {
      "model_module": "@jupyter-widgets/controls",
      "model_module_version": "1.5.0",
      "model_name": "DescriptionStyleModel",
      "state": {
       "description_width": ""
      }
     },
     "e28f90b72e5e48ae8b287aee2c5a50d7": {
      "model_module": "@jupyter-widgets/controls",
      "model_module_version": "1.5.0",
      "model_name": "ProgressStyleModel",
      "state": {
       "description_width": ""
      }
     },
     "e3d1f023a9954912bb194637217b5fbc": {
      "model_module": "@jupyter-widgets/controls",
      "model_module_version": "1.5.0",
      "model_name": "HBoxModel",
      "state": {
       "children": [
        "IPY_MODEL_0902a8b799db4f8bbf4d4c1ba725bb30",
        "IPY_MODEL_60e367bb348b4b8c80f01b7f7584a1f4",
        "IPY_MODEL_b0453bc090e3495dbbc2b693a72c04e8"
       ],
       "layout": "IPY_MODEL_2b9bf21f70244ef981501d3f132dd6b6"
      }
     },
     "f1e0e68461e04aa984afcd0a12ab737e": {
      "model_module": "@jupyter-widgets/controls",
      "model_module_version": "1.5.0",
      "model_name": "HTMLModel",
      "state": {
       "layout": "IPY_MODEL_26d282f6e7f54cc39200cfc3bee7047c",
       "style": "IPY_MODEL_d54eccd958804bde99a6c68ee8e72eba",
       "value": "100%"
      }
     },
     "f31b83b318ef49c98b5690d5361293fb": {
      "model_module": "@jupyter-widgets/controls",
      "model_module_version": "1.5.0",
      "model_name": "DescriptionStyleModel",
      "state": {
       "description_width": ""
      }
     },
     "f360733cec1746438a7af0ff5b5ac159": {
      "model_module": "@jupyter-widgets/base",
      "model_module_version": "1.2.0",
      "model_name": "LayoutModel",
      "state": {}
     },
     "f5a3acc063964418b5eedfd03801e403": {
      "model_module": "@jupyter-widgets/base",
      "model_module_version": "1.2.0",
      "model_name": "LayoutModel",
      "state": {}
     },
     "f87a0ae5f22a4cf7b71d15ff10fb7a41": {
      "model_module": "@jupyter-widgets/base",
      "model_module_version": "1.2.0",
      "model_name": "LayoutModel",
      "state": {}
     },
     "fe028488814c4617a827baa7cd44c4ce": {
      "model_module": "@jupyter-widgets/controls",
      "model_module_version": "1.5.0",
      "model_name": "ProgressStyleModel",
      "state": {
       "description_width": ""
      }
     }
    },
    "version_major": 2,
    "version_minor": 0
   }
  }
 },
 "nbformat": 4,
 "nbformat_minor": 5
}
