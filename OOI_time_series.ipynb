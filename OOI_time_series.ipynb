{
 "cells": [
  {
   "cell_type": "markdown",
   "id": "90ff8eea-58ca-47ef-bd6c-cff8569a69c7",
   "metadata": {},
   "source": [
    "# Extract time series of GLORYS12V1 data at OOI mooring locations\n",
    "Created by Ivan Lima on Tue May 10 2022 08:51:24 -0400"
   ]
  },
  {
   "cell_type": "code",
   "execution_count": null,
   "id": "e7ccff8a-6469-48cc-9a9b-2a0b1d07cda0",
   "metadata": {},
   "outputs": [],
   "source": [
    "%matplotlib inline\n",
    "import xarray as xr\n",
    "import numpy as np\n",
    "import seaborn as sns\n",
    "import matplotlib.pyplot as plt\n",
    "import ccsm_utils as ccsm\n",
    "import os, datetime, glob\n",
    "from tqdm import notebook\n",
    "print('Last updated on {}'.format(datetime.datetime.now().ctime()))"
   ]
  },
  {
   "cell_type": "code",
   "execution_count": null,
   "id": "53200626-16de-4dc9-8b47-93e552e133d2",
   "metadata": {},
   "outputs": [],
   "source": [
    "sns.set_theme(context='paper', style='ticks', palette='tab10', rc={'figure.dpi':100, 'figure.figsize':[5, 5], 'axes.grid':True})"
   ]
  },
  {
   "cell_type": "markdown",
   "id": "a31fee09-7618-426d-a901-6a7b27aecfe5",
   "metadata": {},
   "source": [
    "## Read GLORYS12V1 data"
   ]
  },
  {
   "cell_type": "code",
   "execution_count": null,
   "id": "3af3f250-c6ef-496b-9862-2760e5049c50",
   "metadata": {},
   "outputs": [],
   "source": [
    "filelist = glob.glob('/bali/data/ilima/GLORYS12V1/daily/BGC/GLORYS12V1_NW_Atlantic_201?-??_BGC.nc')\n",
    "filelist.sort()\n",
    "ds = xr.open_mfdataset(filelist)\n",
    "ds.data_vars"
   ]
  },
  {
   "cell_type": "markdown",
   "id": "945a3c79-b3d8-4925-af71-0613de1b4bde",
   "metadata": {},
   "source": [
    "## Extract time series at OOI moorings"
   ]
  },
  {
   "cell_type": "code",
   "execution_count": null,
   "id": "39576ad3-efd4-4f05-bdfc-de6bf2367e24",
   "metadata": {},
   "outputs": [],
   "source": [
    "## OOI mooring positions\n",
    "# OSSM: 39.9371 N, 70.887 W\n",
    "# ISSM: 40.3619 N, 70.8783 W\n",
    "# CNSM: 40.1334 N, 70.7785 W\n",
    "OOI_moorings = {'OSSM': (-70.8870, 39.9371),\n",
    "                'ISSM': (-70.8783, 40.3619),\n",
    "                'CNSM': (-70.7785, 40.1334)}\n",
    "\n",
    "tlon, tlat = np.meshgrid(ds.longitude.values, ds.latitude.values)\n",
    "now = datetime.datetime.now().ctime()\n",
    "\n",
    "for loc in OOI_moorings:\n",
    "    print('extracting {}'.format(loc))\n",
    "    da_dict = {}\n",
    "    for vname in notebook.tqdm(ds.data_vars):\n",
    "        ts = ccsm.extract_loc_vec(*OOI_moorings[loc], tlon, tlat, ds[vname].values)\n",
    "        ts = np.ma.compress_cols(ts) # remove masked values (bottom)\n",
    "        zz = ts.shape[1]             # index of bottom grid cell\n",
    "        da_dict[vname] = xr.DataArray(ts, coords=[ds.coords['time'], ds.coords['depth'][:zz]], dims=['time', 'depth'], name=vname)\n",
    "\n",
    "    attrs={'contents':'Time series of GLORYS12V1 output at OOI-{} mooring'.format(loc),\n",
    "           'history':'Created by Ivan Lima <ilima@whoi.edu> on {}'.format(now)}\n",
    "    ds_out = xr.Dataset(da_dict)\n",
    "    ds_out.attrs.update(attrs)\n",
    "    for vname in ds.data_vars:\n",
    "            ds_out[vname].attrs.update(ds[vname].attrs)\n",
    "\n",
    "    ds_out.to_netcdf('data/OOI-{}_time_series.nc'.format(loc), mode='w', unlimited_dims=['time'])"
   ]
  },
  {
   "cell_type": "code",
   "execution_count": null,
   "id": "09f2232d-887e-4c2f-9d16-5e15754dc70e",
   "metadata": {},
   "outputs": [],
   "source": [
    "filelist = glob.glob('/bali/data/ilima/GLORYS12V1/daily/BGC/GLORYS12V1_NW_Atlantic_201?_surf_pCO2.nc')\n",
    "filelist.sort()\n",
    "ds = xr.open_mfdataset(filelist)\n",
    "ds.data_vars"
   ]
  },
  {
   "cell_type": "code",
   "execution_count": null,
   "id": "e2af4755-b1e6-4aa9-97f2-bbfef7fb0fe7",
   "metadata": {},
   "outputs": [],
   "source": [
    "now = datetime.datetime.now().ctime()\n",
    "\n",
    "for loc in OOI_moorings:\n",
    "    print('extracting {}'.format(loc))\n",
    "    da_dict = {}\n",
    "    for vname in notebook.tqdm(ds.data_vars):\n",
    "        ts = ccsm.extract_loc_vec(*OOI_moorings[loc], tlon, tlat, ds[vname].values)\n",
    "        da_dict[vname] = xr.DataArray(ts, coords=[ds.coords['time']], dims=['time'], name=vname)\n",
    "\n",
    "    attrs={'contents':'Time series of pCO2 derived from GLORYS12V1 output at OOI-{} mooring'.format(loc),\n",
    "           'history':'Created by Ivan Lima <ilima@whoi.edu> on {}'.format(now)}\n",
    "    ds_out = xr.Dataset(da_dict)\n",
    "    ds_out.attrs.update(attrs)\n",
    "    for vname in ds.data_vars:\n",
    "            ds_out[vname].attrs.update(ds[vname].attrs)\n",
    "\n",
    "    ds_out.to_netcdf('data/OOI-{}_surf_pCO2.nc'.format(loc), mode='w', unlimited_dims=['time'])"
   ]
  },
  {
   "cell_type": "code",
   "execution_count": null,
   "id": "39b27e94-ae54-49eb-b4ac-0350b6817975",
   "metadata": {},
   "outputs": [],
   "source": [
    "fig, ax = plt.subplots()\n",
    "_ = ds_out['pCO2'].plot(ax=ax)\n",
    "_ = ax.set_title('OOI')\n",
    "sns.despine(fig)\n",
    "# fig.savefig('ooi.png', dpi=300, bbox_inches='tight')"
   ]
  },
  {
   "cell_type": "markdown",
   "id": "99b07ec6-a55c-4f2f-b0fd-86e484c0a6be",
   "metadata": {},
   "source": [
    "---"
   ]
  },
  {
   "cell_type": "code",
   "execution_count": null,
   "id": "dc49d82e-6da2-44a7-a734-e2a2cdef5107",
   "metadata": {},
   "outputs": [],
   "source": [
    "fig, axs = plt.subplots(2, 3, sharex=True, sharey=True, figsize=(15, 10))\n",
    "fig.subplots_adjust(hspace=0.125)\n",
    "for ax, vname in zip(axs.ravel(), ['Temperature','Salinity','DIC','TA','pH','saturation_aragonite']):\n",
    "    _ = ds_out[vname].plot(x='time', y='depth', ax=ax)\n",
    "    ax.invert_yaxis()\n",
    "    _ = ax.set_title('OOI')\n",
    "\n",
    "# fig.savefig('ooi.png', dpi=300, bbox_inches='tight')"
   ]
  }
 ],
 "metadata": {
  "kernelspec": {
   "display_name": "Python 3 (ipykernel)",
   "language": "python",
   "name": "python3"
  },
  "language_info": {
   "codemirror_mode": {
    "name": "ipython",
    "version": 3
   },
   "file_extension": ".py",
   "mimetype": "text/x-python",
   "name": "python",
   "nbconvert_exporter": "python",
   "pygments_lexer": "ipython3",
   "version": "3.9.10"
  },
  "widgets": {
   "application/vnd.jupyter.widget-state+json": {
    "state": {},
    "version_major": 2,
    "version_minor": 0
   }
  }
 },
 "nbformat": 4,
 "nbformat_minor": 5
}
