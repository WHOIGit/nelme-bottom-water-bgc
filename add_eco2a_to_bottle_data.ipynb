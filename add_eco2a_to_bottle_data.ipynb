{
 "cells": [
  {
   "cell_type": "markdown",
   "id": "67a8845c-195f-4219-b5e2-368e2ac00a03",
   "metadata": {},
   "source": [
    "# Merge Louise's bottle data with data from ECO2A cruise\n",
    "Created by Ivan Lima on Mon Mar  7 2022 15:57:46 -0500"
   ]
  },
  {
   "cell_type": "code",
   "execution_count": 1,
   "id": "8a273cdb-eac9-44fb-843c-49b65f17773e",
   "metadata": {},
   "outputs": [
    {
     "name": "stdout",
     "output_type": "stream",
     "text": [
      "Last updated on Wed Apr  6 15:09:53 2022\n"
     ]
    }
   ],
   "source": [
    "import pandas as pd\n",
    "import numpy as np\n",
    "import os, datetime, warnings\n",
    "print('Last updated on {}'.format(datetime.datetime.now().ctime()))"
   ]
  },
  {
   "cell_type": "markdown",
   "id": "141becb8-6faa-4e41-be19-5a9af0662f21",
   "metadata": {},
   "source": [
    "## Read ECO2A data"
   ]
  },
  {
   "cell_type": "code",
   "execution_count": 2,
   "id": "3c81cdd9-ba67-4b47-9ea0-d4749d61cc8d",
   "metadata": {},
   "outputs": [
    {
     "name": "stdout",
     "output_type": "stream",
     "text": [
      "<class 'pandas.core.frame.DataFrame'>\n",
      "Int64Index: 1032 entries, 0 to 2479\n",
      "Data columns (total 25 columns):\n",
      " #   Column         Non-Null Count  Dtype         \n",
      "---  ------         --------------  -----         \n",
      " 0   EXPOCODE       1032 non-null   object        \n",
      " 1   Accession      1032 non-null   int64         \n",
      " 2   Cruise_ID      1032 non-null   object        \n",
      " 3   Date           1032 non-null   datetime64[ns]\n",
      " 4   Year           1032 non-null   int64         \n",
      " 5   Month          1032 non-null   int64         \n",
      " 6   Day            1032 non-null   int64         \n",
      " 7   Time_UTC       1032 non-null   object        \n",
      " 8   Depth          1032 non-null   float64       \n",
      " 9   Temperature    1032 non-null   float64       \n",
      " 10  Salinity       1032 non-null   float64       \n",
      " 11  Oxygen         941 non-null    float64       \n",
      " 12  DIC            1032 non-null   float64       \n",
      " 13  TA             1032 non-null   float64       \n",
      " 14  DIC_FLAG       1032 non-null   int64         \n",
      " 15  TA_FLAG        1032 non-null   int64         \n",
      " 16  Longitude      1032 non-null   float64       \n",
      " 17  Latitude       1032 non-null   float64       \n",
      " 18  bottom_depth   1032 non-null   float64       \n",
      " 19  pCO2_monthave  1032 non-null   float64       \n",
      " 20  SLA            1032 non-null   float64       \n",
      " 21  SST            1032 non-null   float64       \n",
      " 22  SST_hires      1032 non-null   float64       \n",
      " 23  Chl            1032 non-null   float64       \n",
      " 24  KD490          1032 non-null   float64       \n",
      "dtypes: datetime64[ns](1), float64(15), int64(6), object(3)\n",
      "memory usage: 209.6+ KB\n"
     ]
    }
   ],
   "source": [
    "df_ecoa2 = pd.read_csv('data/eco2a_satellite_data.csv', parse_dates=['Date'], index_col=0, na_values=-999)\n",
    "\n",
    "# remove bad/questionable data points\n",
    "df_ecoa2 = df_ecoa2[df_ecoa2.DIC_FLAG.isin([2, 6])] \n",
    "df_ecoa2 = df_ecoa2[df_ecoa2.TA_FLAG.isin([2, 6])]\n",
    "\n",
    "df_ecoa2.info()"
   ]
  },
  {
   "cell_type": "markdown",
   "id": "3dc1c812-7104-4061-820f-4f349f165c02",
   "metadata": {},
   "source": [
    "## Read Louise's bottle data"
   ]
  },
  {
   "cell_type": "code",
   "execution_count": 3,
   "id": "13d3008e-38bd-4bcf-afcb-9465dcaf7414",
   "metadata": {},
   "outputs": [
    {
     "name": "stdout",
     "output_type": "stream",
     "text": [
      "<class 'pandas.core.frame.DataFrame'>\n",
      "Int64Index: 2748 entries, 0 to 3039\n",
      "Data columns (total 31 columns):\n",
      " #   Column         Non-Null Count  Dtype         \n",
      "---  ------         --------------  -----         \n",
      " 0   EXPOCODE       1473 non-null   object        \n",
      " 1   Accession      101 non-null    float64       \n",
      " 2   Cruise_ID      2029 non-null   object        \n",
      " 3   Date           2748 non-null   datetime64[ns]\n",
      " 4   Year           2748 non-null   int64         \n",
      " 5   Month          2748 non-null   int64         \n",
      " 6   Day            2748 non-null   int64         \n",
      " 7   Time_UTC       2668 non-null   object        \n",
      " 8   Latitude       2748 non-null   float64       \n",
      " 9   Longitude      2748 non-null   float64       \n",
      " 10  Depth          2748 non-null   float64       \n",
      " 11  Salinity       2748 non-null   float64       \n",
      " 12  Temperature    2748 non-null   float64       \n",
      " 13  Oxygen         2748 non-null   float64       \n",
      " 14  DIC            2748 non-null   float64       \n",
      " 15  DIC_FLAG       2454 non-null   float64       \n",
      " 16  TA             2748 non-null   float64       \n",
      " 17  TA_FLAG        2454 non-null   float64       \n",
      " 18  pCO2_yearave   2748 non-null   float64       \n",
      " 19  pCO2_monthave  2748 non-null   float64       \n",
      " 20  bottom_depth   2748 non-null   int64         \n",
      " 21  ADT            2748 non-null   float64       \n",
      " 22  UGOS           2748 non-null   float64       \n",
      " 23  VGOS           2748 non-null   float64       \n",
      " 24  SLA            2748 non-null   float64       \n",
      " 25  UGOSA          2748 non-null   float64       \n",
      " 26  VGOSA          2748 non-null   float64       \n",
      " 27  SST            2748 non-null   float64       \n",
      " 28  SST_hires      2748 non-null   float64       \n",
      " 29  Chl            2748 non-null   float64       \n",
      " 30  KD490          2748 non-null   float64       \n",
      "dtypes: datetime64[ns](1), float64(23), int64(4), object(3)\n",
      "memory usage: 687.0+ KB\n"
     ]
    }
   ],
   "source": [
    "df_bottle = pd.read_csv('data/bottle_satellite_data.csv', parse_dates=['Date'], index_col=0)\n",
    "\n",
    "bot_cols = ['EXPOCODE', 'Accession', 'Cruise_ID', 'Date','Year', 'Month', 'Day', 'Time_UTC',\n",
    "            'Latitude', 'Longitude', 'Depth', 'Salinity', 'Temperature', 'Oxygen', 'DIC', \n",
    "            'DIC_FLAG', 'TA', 'TA_FLAG', 'pCO2_yearave', 'pCO2_monthave', 'bottom_depth',\n",
    "            'ADT', 'UGOS', 'VGOS', 'SLA', 'UGOSA', 'VGOSA', 'SST', 'SST_hires', 'Chl', 'KD490']\n",
    "\n",
    "df_bottle = df_bottle[bot_cols]\n",
    "df_bottle.info()"
   ]
  },
  {
   "cell_type": "markdown",
   "id": "a2253cb1-4f46-4785-ab05-6da363e4534d",
   "metadata": {},
   "source": [
    "## Concatenate ECO2A cruise data and Louise's bottle data  "
   ]
  },
  {
   "cell_type": "code",
   "execution_count": 4,
   "id": "a48c277b-c703-49e9-b6ce-9144478b246f",
   "metadata": {},
   "outputs": [
    {
     "name": "stdout",
     "output_type": "stream",
     "text": [
      "<class 'pandas.core.frame.DataFrame'>\n",
      "RangeIndex: 3780 entries, 0 to 3779\n",
      "Data columns (total 31 columns):\n",
      " #   Column         Non-Null Count  Dtype         \n",
      "---  ------         --------------  -----         \n",
      " 0   EXPOCODE       2505 non-null   object        \n",
      " 1   Accession      1133 non-null   float64       \n",
      " 2   Cruise_ID      3061 non-null   object        \n",
      " 3   Date           3780 non-null   datetime64[ns]\n",
      " 4   Year           3780 non-null   int64         \n",
      " 5   Month          3780 non-null   int64         \n",
      " 6   Day            3780 non-null   int64         \n",
      " 7   Time_UTC       3700 non-null   object        \n",
      " 8   Latitude       3780 non-null   float64       \n",
      " 9   Longitude      3780 non-null   float64       \n",
      " 10  Depth          3780 non-null   float64       \n",
      " 11  Salinity       3780 non-null   float64       \n",
      " 12  Temperature    3780 non-null   float64       \n",
      " 13  Oxygen         3689 non-null   float64       \n",
      " 14  DIC            3780 non-null   float64       \n",
      " 15  DIC_FLAG       3486 non-null   float64       \n",
      " 16  TA             3780 non-null   float64       \n",
      " 17  TA_FLAG        3486 non-null   float64       \n",
      " 18  pCO2_yearave   2748 non-null   float64       \n",
      " 19  pCO2_monthave  3780 non-null   float64       \n",
      " 20  bottom_depth   3780 non-null   float64       \n",
      " 21  ADT            2748 non-null   float64       \n",
      " 22  UGOS           2748 non-null   float64       \n",
      " 23  VGOS           2748 non-null   float64       \n",
      " 24  SLA            3780 non-null   float64       \n",
      " 25  UGOSA          2748 non-null   float64       \n",
      " 26  VGOSA          2748 non-null   float64       \n",
      " 27  SST            3780 non-null   float64       \n",
      " 28  SST_hires      3780 non-null   float64       \n",
      " 29  Chl            3780 non-null   float64       \n",
      " 30  KD490          3780 non-null   float64       \n",
      "dtypes: datetime64[ns](1), float64(24), int64(3), object(3)\n",
      "memory usage: 915.6+ KB\n"
     ]
    }
   ],
   "source": [
    "df_all = pd.concat([df_bottle, df_ecoa2], axis=0, ignore_index=True)\n",
    "df_all.info()"
   ]
  },
  {
   "cell_type": "markdown",
   "id": "a69d5f53-b69a-4e86-ae0d-240deedf05aa",
   "metadata": {},
   "source": [
    "## Clean merged dataset & write it to CSV file"
   ]
  },
  {
   "cell_type": "code",
   "execution_count": 5,
   "id": "60fd5c05-dfb4-4918-a84c-28d7425bcd80",
   "metadata": {},
   "outputs": [
    {
     "name": "stdout",
     "output_type": "stream",
     "text": [
      "<class 'pandas.core.frame.DataFrame'>\n",
      "Int64Index: 3623 entries, 0 to 3779\n",
      "Data columns (total 34 columns):\n",
      " #   Column         Non-Null Count  Dtype         \n",
      "---  ------         --------------  -----         \n",
      " 0   EXPOCODE       2488 non-null   object        \n",
      " 1   Accession      1124 non-null   float64       \n",
      " 2   Cruise_ID      3044 non-null   object        \n",
      " 3   Date           3623 non-null   datetime64[ns]\n",
      " 4   Year           3623 non-null   int64         \n",
      " 5   Month          3623 non-null   int64         \n",
      " 6   Day            3623 non-null   int64         \n",
      " 7   Time_UTC       3543 non-null   object        \n",
      " 8   Latitude       3623 non-null   float64       \n",
      " 9   Longitude      3623 non-null   float64       \n",
      " 10  Depth          3623 non-null   float64       \n",
      " 11  Salinity       3623 non-null   float64       \n",
      " 12  Temperature    3623 non-null   float64       \n",
      " 13  Oxygen         3533 non-null   float64       \n",
      " 14  DIC            3623 non-null   float64       \n",
      " 15  DIC_FLAG       3329 non-null   float64       \n",
      " 16  TA             3623 non-null   float64       \n",
      " 17  TA_FLAG        3329 non-null   float64       \n",
      " 18  pCO2_yearave   2600 non-null   float64       \n",
      " 19  pCO2_monthave  3623 non-null   float64       \n",
      " 20  bottom_depth   3623 non-null   float64       \n",
      " 21  ADT            2600 non-null   float64       \n",
      " 22  UGOS           2600 non-null   float64       \n",
      " 23  VGOS           2600 non-null   float64       \n",
      " 24  SLA            3623 non-null   float64       \n",
      " 25  UGOSA          2600 non-null   float64       \n",
      " 26  VGOSA          2600 non-null   float64       \n",
      " 27  SST            3623 non-null   float64       \n",
      " 28  SST_hires      3623 non-null   float64       \n",
      " 29  Chl            3623 non-null   float64       \n",
      " 30  KD490          3623 non-null   float64       \n",
      " 31  outlier        3623 non-null   bool          \n",
      " 32  log_Chl        3623 non-null   float64       \n",
      " 33  log_KD490      3623 non-null   float64       \n",
      "dtypes: bool(1), datetime64[ns](1), float64(26), int64(3), object(3)\n",
      "memory usage: 965.9+ KB\n"
     ]
    }
   ],
   "source": [
    "df_all['bottom_depth'] = df_all.bottom_depth.abs() # convert negative to positive values\n",
    "df_all = df_all[df_all.bottom_depth>8] # remove points in very shallow water (Chesapeake Bay & Buzzards Bay)\n",
    "\n",
    "# flag anomalous O2 values\n",
    "df_all['outlier'] = False # outlier flag\n",
    "df_all.loc[df_all.Oxygen>500, 'outlier'] = True\n",
    "df_all.loc[(df_all.Oxygen>300) & (df_all.Depth>200), 'outlier'] = True\n",
    "df_all = df_all[df_all.outlier==False]\n",
    "\n",
    "df_all = df_all.drop(1736) # remove record with bad temperature value\n",
    "\n",
    "df_all['log_Chl'] = np.log(df_all.Chl)     # log-transformed Chl\n",
    "df_all['log_KD490'] = np.log(df_all.KD490) # log-transformed KD490\n",
    "\n",
    "# write cleaned data to CSV file\n",
    "df_all.to_csv('data/bottle_satellite_data_clean.csv')\n",
    "\n",
    "df_all.info()"
   ]
  }
 ],
 "metadata": {
  "kernelspec": {
   "display_name": "Python 3 (ipykernel)",
   "language": "python",
   "name": "python3"
  },
  "language_info": {
   "codemirror_mode": {
    "name": "ipython",
    "version": 3
   },
   "file_extension": ".py",
   "mimetype": "text/x-python",
   "name": "python",
   "nbconvert_exporter": "python",
   "pygments_lexer": "ipython3",
   "version": "3.9.10"
  },
  "widgets": {
   "application/vnd.jupyter.widget-state+json": {
    "state": {},
    "version_major": 2,
    "version_minor": 0
   }
  }
 },
 "nbformat": 4,
 "nbformat_minor": 5
}
