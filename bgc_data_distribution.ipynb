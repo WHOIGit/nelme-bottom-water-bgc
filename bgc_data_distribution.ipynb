{
 "cells": [
  {
   "cell_type": "markdown",
   "id": "2af96154-3a11-4f9b-9bef-482c674c3dfc",
   "metadata": {},
   "source": [
    "# Spatial distribution of surface and bottom DIC and TA data\n",
    "Created by Ivan Lima on Thu Jan  6 2022 14:07:12 -0500"
   ]
  },
  {
   "cell_type": "code",
   "execution_count": null,
   "id": "942813ad-c0cc-4aa3-93ff-4b4e46af6661",
   "metadata": {},
   "outputs": [],
   "source": [
    "import pandas as pd\n",
    "import numpy as np\n",
    "import holoviews as hv\n",
    "import hvplot.pandas, datetime\n",
    "from my_bokeh_themes import *\n",
    "print('Last updated on {}'.format(datetime.datetime.now().ctime()))"
   ]
  },
  {
   "cell_type": "markdown",
   "id": "23f0f9c8-b34b-4e3d-9caa-1288617c708d",
   "metadata": {},
   "source": [
    "## Read data "
   ]
  },
  {
   "cell_type": "code",
   "execution_count": null,
   "id": "62670ee9-b51a-4a74-a92a-40d0278d4ab4",
   "metadata": {},
   "outputs": [],
   "source": [
    "df_surface = pd.read_hdf('data/bgc_surface.h5', key='df_surface')\n",
    "df_bottom = pd.read_hdf('data/bgc_bottom.h5', key='df_bottom')"
   ]
  },
  {
   "cell_type": "markdown",
   "id": "5b227d17-1bde-4c83-8226-9a5937a4cb6b",
   "metadata": {},
   "source": [
    "## Seasonal distribution"
   ]
  },
  {
   "cell_type": "markdown",
   "id": "62c0c46e-cf96-42d0-9ad4-4792dac21654",
   "metadata": {},
   "source": [
    "### Surface data"
   ]
  },
  {
   "cell_type": "code",
   "execution_count": null,
   "id": "81d9582c-061f-44d4-9f4c-c7f0b260df6a",
   "metadata": {},
   "outputs": [],
   "source": [
    "p_surface = hv.Layout()\n",
    "for season in ['winter','spring','summer','fall']:\n",
    "    df = df_surface[df_surface.season==season]\n",
    "    p = df.hvplot.points('Longitude', 'Latitude', geo=True, xlabel='longitude', ylabel='latitude', clabel='Alkalinity',\n",
    "                         cmap='bmy', title='{} surface data'.format(season.upper()), frame_width=400, rasterize=True,\n",
    "                         c='TA', colorbar=True, coastline='50m', features={'land':'50m'})\n",
    "    p_surface += p\n",
    "\n",
    "p_surface.cols(2)"
   ]
  },
  {
   "cell_type": "markdown",
   "id": "e233e22c-6f0f-4aa5-8052-a9356572ce7e",
   "metadata": {},
   "source": [
    "### Bottom data"
   ]
  },
  {
   "cell_type": "code",
   "execution_count": null,
   "id": "080a3f39-0271-4d19-aeb8-f28c7a612129",
   "metadata": {},
   "outputs": [],
   "source": [
    "p_bottom = hv.Layout()\n",
    "for season in ['winter','spring','summer','fall']:\n",
    "    df = df_bottom[df_bottom.season==season]\n",
    "    p = df.hvplot.points('Longitude', 'Latitude', geo=True, xlabel='longitude', ylabel='latitude', clabel='Alkalinity',\n",
    "                         cmap='bmy', title='{} bottom data'.format(season.upper()), frame_width=400, rasterize=True,\n",
    "                         c='TA', colorbar=True, coastline='50m', features={'land':'50m'})\n",
    "    p_bottom += p\n",
    "\n",
    "p_bottom.cols(2)"
   ]
  },
  {
   "cell_type": "markdown",
   "id": "fdddce1a-f55d-4338-ac10-f2be3d3ee46b",
   "metadata": {},
   "source": [
    "### Points where observation depth is higher than bottom depth"
   ]
  },
  {
   "cell_type": "code",
   "execution_count": null,
   "id": "60f64438-97f9-46a1-b57c-3bf11bb01e3d",
   "metadata": {},
   "outputs": [],
   "source": [
    "df_zdiff = df_bottom[df_bottom.Depth - df_bottom.bottom_depth > 50]\n",
    "df_zdiff.hvplot.points('Longitude', 'Latitude', geo=True, xlabel='longitude', ylabel='latitude', cmap='bmy',\n",
    "                        title='Bottom data', tiles='EsriImagery', frame_width=450, rasterize=True,\n",
    "                         c='TA', clabel='Alkalinity', colorbar=True)"
   ]
  },
  {
   "cell_type": "markdown",
   "id": "34089c7b-507b-4a2f-94ae-e796898869e0",
   "metadata": {},
   "source": [
    "#### Depth differences distribution"
   ]
  },
  {
   "cell_type": "code",
   "execution_count": null,
   "id": "7466bcd4-78f9-48f3-952e-d682f705427d",
   "metadata": {},
   "outputs": [],
   "source": [
    "zdiff = df_bottom.Depth - df_bottom.bottom_depth\n",
    "zdiff = zdiff[zdiff>0]\n",
    "zdiff.hvplot.hist(xlabel='Depth difference', ylabel='Frequency', aspect=1.1, frame_width=400, grid=True)"
   ]
  },
  {
   "cell_type": "markdown",
   "id": "804b0bf8-6420-4c6e-b32e-a5151fb1ad29",
   "metadata": {},
   "source": [
    "## Monthly distribution"
   ]
  },
  {
   "cell_type": "markdown",
   "id": "5583dbe8-11f0-4aaf-a0ac-d211e09b22f8",
   "metadata": {},
   "source": [
    "### Surface data"
   ]
  },
  {
   "cell_type": "code",
   "execution_count": null,
   "id": "71d75c9c-29a6-439d-92d3-a126dc0f9540",
   "metadata": {},
   "outputs": [],
   "source": [
    "month_name = {1:'Jan', 2:'Feb', 3:'Mar', 4:'Apr', 5:'May', 6:'Jun',\n",
    "              7:'Jul', 8:'Aug', 9:'Sep', 10:'Oct', 11:'Nov', 12:'Dec'}\n",
    "p_monthly = hv.Layout()\n",
    "for month in range(1,13):\n",
    "    df = df_surface[df_surface.Date.dt.month==month]\n",
    "    p = df.hvplot.points('Longitude', 'Latitude', geo=True, xlabel='longitude', ylabel='latitude', clabel='Alkalinity',\n",
    "                         cmap='bmy', title='{} surface data'.format(month_name[month]), frame_width=300,\n",
    "                         rasterize=True, c='TA', colorbar=True, coastline='50m', features={'land':'50m'})\n",
    "    p_monthly += p\n",
    "\n",
    "p_monthly.cols(3)"
   ]
  },
  {
   "cell_type": "markdown",
   "id": "f1ec8a70-c807-41c0-ae57-5ea0fb814616",
   "metadata": {},
   "source": [
    "### Bottom data"
   ]
  },
  {
   "cell_type": "code",
   "execution_count": null,
   "id": "c7c42ab2-d9d1-4a07-8e21-89df080e1bef",
   "metadata": {},
   "outputs": [],
   "source": [
    "p_monthly = hv.Layout()\n",
    "for month in range(1,13):\n",
    "    df = df_bottom[df_bottom.Date.dt.month==month]\n",
    "    p = df.hvplot.points('Longitude', 'Latitude', geo=True, xlabel='longitude', ylabel='latitude', clabel='Alkalinity',\n",
    "                         cmap='bmy', title='{} bottom data'.format(month_name[month]), frame_width=300,\n",
    "                         rasterize=True, c='TA', colorbar=True, coastline='50m', features={'land':'50m'})    \n",
    "    p_monthly += p\n",
    "\n",
    "p_monthly.cols(3)"
   ]
  }
 ],
 "metadata": {
  "kernelspec": {
   "display_name": "Python 3 (ipykernel)",
   "language": "python",
   "name": "python3"
  },
  "language_info": {
   "codemirror_mode": {
    "name": "ipython",
    "version": 3
   },
   "file_extension": ".py",
   "mimetype": "text/x-python",
   "name": "python",
   "nbconvert_exporter": "python",
   "pygments_lexer": "ipython3",
   "version": "3.9.7"
  },
  "widgets": {
   "application/vnd.jupyter.widget-state+json": {
    "state": {},
    "version_major": 2,
    "version_minor": 0
   }
  }
 },
 "nbformat": 4,
 "nbformat_minor": 5
}
