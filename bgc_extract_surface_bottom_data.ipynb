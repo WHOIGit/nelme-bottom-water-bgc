{
 "cells": [
  {
   "cell_type": "markdown",
   "id": "bb98af56-d176-4478-b37b-eb5229c9446c",
   "metadata": {},
   "source": [
    "# Compute additional carbon chemistry variables and extract surface and bottom data\n",
    "Created by Ivan Lima on Thu Jan  6 2022 11:17:56 -0500"
   ]
  },
  {
   "cell_type": "markdown",
   "id": "0503980d-e1e0-4868-8294-0475538c2d17",
   "metadata": {},
   "source": [
    "In this notebook we compute additional carbon chemistry variables, extract the data near the surface and bottom and create seasonal and monthly fields of surface and bottom DIC and TA using interpolation. "
   ]
  },
  {
   "cell_type": "code",
   "execution_count": 1,
   "id": "31feb5fe-22ca-4d43-8bb6-b3eb77a949e5",
   "metadata": {},
   "outputs": [
    {
     "name": "stdout",
     "output_type": "stream",
     "text": [
      "Last updated on Wed Apr  6 17:03:29 2022\n"
     ]
    }
   ],
   "source": [
    "import pandas as pd\n",
    "import numpy as np\n",
    "import datetime, warnings\n",
    "from tqdm import notebook\n",
    "warnings.filterwarnings('ignore')\n",
    "print('Last updated on {}'.format(datetime.datetime.now().ctime()))"
   ]
  },
  {
   "cell_type": "markdown",
   "id": "9567c8a1-86e7-457f-bb2d-637533da6daf",
   "metadata": {},
   "source": [
    "## Read data"
   ]
  },
  {
   "cell_type": "code",
   "execution_count": 2,
   "id": "93df2005-b39f-47eb-9dd7-d60dbcb23d9f",
   "metadata": {},
   "outputs": [
    {
     "data": {
      "text/html": [
       "<div>\n",
       "<style scoped>\n",
       "    .dataframe tbody tr th:only-of-type {\n",
       "        vertical-align: middle;\n",
       "    }\n",
       "\n",
       "    .dataframe tbody tr th {\n",
       "        vertical-align: top;\n",
       "    }\n",
       "\n",
       "    .dataframe thead th {\n",
       "        text-align: right;\n",
       "    }\n",
       "</style>\n",
       "<table border=\"1\" class=\"dataframe\">\n",
       "  <thead>\n",
       "    <tr style=\"text-align: right;\">\n",
       "      <th></th>\n",
       "      <th>Cast</th>\n",
       "      <th>Latitude</th>\n",
       "      <th>Longitude</th>\n",
       "      <th>Date</th>\n",
       "      <th>Depth</th>\n",
       "      <th>Temperature</th>\n",
       "      <th>Salinity</th>\n",
       "      <th>DIC</th>\n",
       "      <th>TA</th>\n",
       "      <th>bottom_depth</th>\n",
       "      <th>Platform_Type</th>\n",
       "      <th>season</th>\n",
       "    </tr>\n",
       "  </thead>\n",
       "  <tbody>\n",
       "    <tr>\n",
       "      <th>5686516</th>\n",
       "      <td>15637258.0</td>\n",
       "      <td>44.267502</td>\n",
       "      <td>-63.317699</td>\n",
       "      <td>2013-01-09</td>\n",
       "      <td>0.991947</td>\n",
       "      <td>3.952</td>\n",
       "      <td>30.871000</td>\n",
       "      <td>2026.018433</td>\n",
       "      <td>2128.127441</td>\n",
       "      <td>144</td>\n",
       "      <td>1.0</td>\n",
       "      <td>winter</td>\n",
       "    </tr>\n",
       "    <tr>\n",
       "      <th>5686517</th>\n",
       "      <td>15637258.0</td>\n",
       "      <td>44.267502</td>\n",
       "      <td>-63.317699</td>\n",
       "      <td>2013-01-09</td>\n",
       "      <td>1.487919</td>\n",
       "      <td>3.943</td>\n",
       "      <td>30.868999</td>\n",
       "      <td>2026.168091</td>\n",
       "      <td>2128.027832</td>\n",
       "      <td>144</td>\n",
       "      <td>1.0</td>\n",
       "      <td>winter</td>\n",
       "    </tr>\n",
       "    <tr>\n",
       "      <th>5686518</th>\n",
       "      <td>15637258.0</td>\n",
       "      <td>44.267502</td>\n",
       "      <td>-63.317699</td>\n",
       "      <td>2013-01-09</td>\n",
       "      <td>1.983890</td>\n",
       "      <td>3.937</td>\n",
       "      <td>30.870001</td>\n",
       "      <td>2026.392456</td>\n",
       "      <td>2127.993164</td>\n",
       "      <td>144</td>\n",
       "      <td>1.0</td>\n",
       "      <td>winter</td>\n",
       "    </tr>\n",
       "    <tr>\n",
       "      <th>5686519</th>\n",
       "      <td>15637258.0</td>\n",
       "      <td>44.267502</td>\n",
       "      <td>-63.317699</td>\n",
       "      <td>2013-01-09</td>\n",
       "      <td>2.479859</td>\n",
       "      <td>3.936</td>\n",
       "      <td>30.870001</td>\n",
       "      <td>2026.564087</td>\n",
       "      <td>2127.935303</td>\n",
       "      <td>144</td>\n",
       "      <td>1.0</td>\n",
       "      <td>winter</td>\n",
       "    </tr>\n",
       "    <tr>\n",
       "      <th>5686520</th>\n",
       "      <td>15637258.0</td>\n",
       "      <td>44.267502</td>\n",
       "      <td>-63.317699</td>\n",
       "      <td>2013-01-09</td>\n",
       "      <td>2.975827</td>\n",
       "      <td>3.936</td>\n",
       "      <td>30.870001</td>\n",
       "      <td>2026.731812</td>\n",
       "      <td>2127.877686</td>\n",
       "      <td>144</td>\n",
       "      <td>1.0</td>\n",
       "      <td>winter</td>\n",
       "    </tr>\n",
       "  </tbody>\n",
       "</table>\n",
       "</div>"
      ],
      "text/plain": [
       "               Cast   Latitude  Longitude       Date     Depth  Temperature  \\\n",
       "5686516  15637258.0  44.267502 -63.317699 2013-01-09  0.991947        3.952   \n",
       "5686517  15637258.0  44.267502 -63.317699 2013-01-09  1.487919        3.943   \n",
       "5686518  15637258.0  44.267502 -63.317699 2013-01-09  1.983890        3.937   \n",
       "5686519  15637258.0  44.267502 -63.317699 2013-01-09  2.479859        3.936   \n",
       "5686520  15637258.0  44.267502 -63.317699 2013-01-09  2.975827        3.936   \n",
       "\n",
       "          Salinity          DIC           TA  bottom_depth  Platform_Type  \\\n",
       "5686516  30.871000  2026.018433  2128.127441           144            1.0   \n",
       "5686517  30.868999  2026.168091  2128.027832           144            1.0   \n",
       "5686518  30.870001  2026.392456  2127.993164           144            1.0   \n",
       "5686519  30.870001  2026.564087  2127.935303           144            1.0   \n",
       "5686520  30.870001  2026.731812  2127.877686           144            1.0   \n",
       "\n",
       "         season  \n",
       "5686516  winter  \n",
       "5686517  winter  \n",
       "5686518  winter  \n",
       "5686519  winter  \n",
       "5686520  winter  "
      ]
     },
     "execution_count": 2,
     "metadata": {},
     "output_type": "execute_result"
    }
   ],
   "source": [
    "cols = ['Cast', 'Latitude', 'Longitude', 'Date', 'Depth', 'Temperature', 'Salinity', 'DIC', 'TA', 'bottom_depth', 'Platform_Type']\n",
    "df_wod = pd.read_hdf('data/CombinedCTD_satellite_bgc_pytorch_2002-2019.h5', key='df_ctd')\n",
    "df_wod = df_wod[cols]\n",
    "df_wod = df_wod[df_wod.Date.dt.year>2012] # use only contemporary data\n",
    "df_wod = df_wod[df_wod.Depth<600]         # use only shelf data\n",
    "df_wod.loc[df_wod.Date.dt.month.isin([1,2,12]),'season'] = 'winter' # set seasons\n",
    "df_wod.loc[df_wod.Date.dt.month.isin([3,4,5]),'season'] = 'spring'\n",
    "df_wod.loc[df_wod.Date.dt.month.isin([6,7,8]),'season'] = 'summer'\n",
    "df_wod.loc[df_wod.Date.dt.month.isin([9,10,11]),'season'] = 'fall'\n",
    "df_wod.head()"
   ]
  },
  {
   "cell_type": "markdown",
   "id": "31b2180d-2417-481d-876f-d7e30945d59f",
   "metadata": {},
   "source": [
    "## Remove ouliers ($x < -3\\sigma$ or $ x > 3\\sigma$)"
   ]
  },
  {
   "cell_type": "code",
   "execution_count": 3,
   "id": "57695dc1-87d8-4398-a9ee-8a668e9437cd",
   "metadata": {},
   "outputs": [
    {
     "name": "stdout",
     "output_type": "stream",
     "text": [
      "Original data: 8,417,747 points\n",
      "Cleaned data:  8,379,138 points\n",
      "38,609 points removed (0.46%)\n"
     ]
    }
   ],
   "source": [
    "df = df_wod[['Temperature', 'Salinity', 'DIC', 'TA']]\n",
    "df_clean = df[np.abs(df - df.mean()) < 3*df.std()].dropna()\n",
    "n_orig, n_clean = len(df_wod), len(df_clean)\n",
    "df_wod = df_wod.reindex(df_clean.index)\n",
    "print('Original data: {:,} points'.format(n_orig))\n",
    "print('Cleaned data:  {:,} points'.format(n_clean))\n",
    "print('{:,} points removed ({:.2f}%)'.format(n_orig - n_clean, (n_orig - n_clean)/n_orig * 100))"
   ]
  },
  {
   "cell_type": "markdown",
   "id": "5ecda255-3e2d-4b4c-ac86-482e507a02fc",
   "metadata": {},
   "source": [
    "## Compute additional carbon chemistry variables"
   ]
  },
  {
   "cell_type": "code",
   "execution_count": 4,
   "id": "fd13d37d-f1be-44fe-823e-cbf8e16781c9",
   "metadata": {},
   "outputs": [
    {
     "data": {
      "text/html": [
       "<div>\n",
       "<style scoped>\n",
       "    .dataframe tbody tr th:only-of-type {\n",
       "        vertical-align: middle;\n",
       "    }\n",
       "\n",
       "    .dataframe tbody tr th {\n",
       "        vertical-align: top;\n",
       "    }\n",
       "\n",
       "    .dataframe thead th {\n",
       "        text-align: right;\n",
       "    }\n",
       "</style>\n",
       "<table border=\"1\" class=\"dataframe\">\n",
       "  <thead>\n",
       "    <tr style=\"text-align: right;\">\n",
       "      <th></th>\n",
       "      <th>Cast</th>\n",
       "      <th>Latitude</th>\n",
       "      <th>Longitude</th>\n",
       "      <th>Date</th>\n",
       "      <th>Depth</th>\n",
       "      <th>Temperature</th>\n",
       "      <th>Salinity</th>\n",
       "      <th>DIC</th>\n",
       "      <th>TA</th>\n",
       "      <th>bottom_depth</th>\n",
       "      <th>Platform_Type</th>\n",
       "      <th>season</th>\n",
       "      <th>pH</th>\n",
       "      <th>pCO2</th>\n",
       "      <th>fCO2</th>\n",
       "      <th>saturation_calcite</th>\n",
       "      <th>saturation_aragonite</th>\n",
       "    </tr>\n",
       "  </thead>\n",
       "  <tbody>\n",
       "    <tr>\n",
       "      <th>5686516</th>\n",
       "      <td>15637258.0</td>\n",
       "      <td>44.267502</td>\n",
       "      <td>-63.317699</td>\n",
       "      <td>2013-01-09</td>\n",
       "      <td>0.991947</td>\n",
       "      <td>3.952</td>\n",
       "      <td>30.871000</td>\n",
       "      <td>2026.018433</td>\n",
       "      <td>2128.127441</td>\n",
       "      <td>144</td>\n",
       "      <td>1.0</td>\n",
       "      <td>winter</td>\n",
       "      <td>7.989841</td>\n",
       "      <td>428.509684</td>\n",
       "      <td>426.723842</td>\n",
       "      <td>1.991852</td>\n",
       "      <td>1.244721</td>\n",
       "    </tr>\n",
       "    <tr>\n",
       "      <th>5686517</th>\n",
       "      <td>15637258.0</td>\n",
       "      <td>44.267502</td>\n",
       "      <td>-63.317699</td>\n",
       "      <td>2013-01-09</td>\n",
       "      <td>1.487919</td>\n",
       "      <td>3.943</td>\n",
       "      <td>30.868999</td>\n",
       "      <td>2026.168091</td>\n",
       "      <td>2128.027832</td>\n",
       "      <td>144</td>\n",
       "      <td>1.0</td>\n",
       "      <td>winter</td>\n",
       "      <td>7.989217</td>\n",
       "      <td>429.129701</td>\n",
       "      <td>427.341061</td>\n",
       "      <td>1.988314</td>\n",
       "      <td>1.242497</td>\n",
       "    </tr>\n",
       "    <tr>\n",
       "      <th>5686518</th>\n",
       "      <td>15637258.0</td>\n",
       "      <td>44.267502</td>\n",
       "      <td>-63.317699</td>\n",
       "      <td>2013-01-09</td>\n",
       "      <td>1.983890</td>\n",
       "      <td>3.937</td>\n",
       "      <td>30.870001</td>\n",
       "      <td>2026.392456</td>\n",
       "      <td>2127.993164</td>\n",
       "      <td>144</td>\n",
       "      <td>1.0</td>\n",
       "      <td>winter</td>\n",
       "      <td>7.988471</td>\n",
       "      <td>429.892801</td>\n",
       "      <td>428.100838</td>\n",
       "      <td>1.984660</td>\n",
       "      <td>1.240216</td>\n",
       "    </tr>\n",
       "    <tr>\n",
       "      <th>5686519</th>\n",
       "      <td>15637258.0</td>\n",
       "      <td>44.267502</td>\n",
       "      <td>-63.317699</td>\n",
       "      <td>2013-01-09</td>\n",
       "      <td>2.479859</td>\n",
       "      <td>3.936</td>\n",
       "      <td>30.870001</td>\n",
       "      <td>2026.564087</td>\n",
       "      <td>2127.935303</td>\n",
       "      <td>144</td>\n",
       "      <td>1.0</td>\n",
       "      <td>winter</td>\n",
       "      <td>7.987753</td>\n",
       "      <td>430.634282</td>\n",
       "      <td>428.839205</td>\n",
       "      <td>1.981431</td>\n",
       "      <td>1.238205</td>\n",
       "    </tr>\n",
       "    <tr>\n",
       "      <th>5686520</th>\n",
       "      <td>15637258.0</td>\n",
       "      <td>44.267502</td>\n",
       "      <td>-63.317699</td>\n",
       "      <td>2013-01-09</td>\n",
       "      <td>2.975827</td>\n",
       "      <td>3.936</td>\n",
       "      <td>30.870001</td>\n",
       "      <td>2026.731812</td>\n",
       "      <td>2127.877686</td>\n",
       "      <td>144</td>\n",
       "      <td>1.0</td>\n",
       "      <td>winter</td>\n",
       "      <td>7.987031</td>\n",
       "      <td>431.382436</td>\n",
       "      <td>429.584240</td>\n",
       "      <td>1.978266</td>\n",
       "      <td>1.236234</td>\n",
       "    </tr>\n",
       "  </tbody>\n",
       "</table>\n",
       "</div>"
      ],
      "text/plain": [
       "               Cast   Latitude  Longitude       Date     Depth  Temperature  \\\n",
       "5686516  15637258.0  44.267502 -63.317699 2013-01-09  0.991947        3.952   \n",
       "5686517  15637258.0  44.267502 -63.317699 2013-01-09  1.487919        3.943   \n",
       "5686518  15637258.0  44.267502 -63.317699 2013-01-09  1.983890        3.937   \n",
       "5686519  15637258.0  44.267502 -63.317699 2013-01-09  2.479859        3.936   \n",
       "5686520  15637258.0  44.267502 -63.317699 2013-01-09  2.975827        3.936   \n",
       "\n",
       "          Salinity          DIC           TA  bottom_depth  Platform_Type  \\\n",
       "5686516  30.871000  2026.018433  2128.127441           144            1.0   \n",
       "5686517  30.868999  2026.168091  2128.027832           144            1.0   \n",
       "5686518  30.870001  2026.392456  2127.993164           144            1.0   \n",
       "5686519  30.870001  2026.564087  2127.935303           144            1.0   \n",
       "5686520  30.870001  2026.731812  2127.877686           144            1.0   \n",
       "\n",
       "         season        pH        pCO2        fCO2  saturation_calcite  \\\n",
       "5686516  winter  7.989841  428.509684  426.723842            1.991852   \n",
       "5686517  winter  7.989217  429.129701  427.341061            1.988314   \n",
       "5686518  winter  7.988471  429.892801  428.100838            1.984660   \n",
       "5686519  winter  7.987753  430.634282  428.839205            1.981431   \n",
       "5686520  winter  7.987031  431.382436  429.584240            1.978266   \n",
       "\n",
       "         saturation_aragonite  \n",
       "5686516              1.244721  \n",
       "5686517              1.242497  \n",
       "5686518              1.240216  \n",
       "5686519              1.238205  \n",
       "5686520              1.236234  "
      ]
     },
     "execution_count": 4,
     "metadata": {},
     "output_type": "execute_result"
    }
   ],
   "source": [
    "import PyCO2SYS as pyco2\n",
    "import gsw\n",
    "\n",
    "pressure =  gsw.p_from_z(-df_wod.Depth.values, df_wod.Latitude.values) # water pressure in dbar\n",
    "kwargs = dict(\n",
    "    par1 = df_wod.TA.values,   # TA\n",
    "    par2 = df_wod.DIC.values,  # DIC\n",
    "    par1_type = 1,             # type 1 = alkalinity\n",
    "    par2_type = 2,             # type 2 = DIC\n",
    "    salinity = df_wod.Salinity.values,\n",
    "    temperature = df_wod.Temperature.values,\n",
    "    pressure = pressure,\n",
    "    opt_k_carbonic = 10,  # LDK00, Lueker et al 2000\n",
    "    opt_k_bisulfate = 1,  # D90a, Dickson 1990\n",
    "    opt_total_borate = 2, # LKB10, Lee et al 2010\n",
    "    opt_k_fluoride = 2    # PF87, Perez & Fraga 1987\n",
    ")\n",
    "\n",
    "results = pyco2.sys(**kwargs)\n",
    "co2sys_vars = ['pH', 'pCO2', 'fCO2', 'saturation_calcite', 'saturation_aragonite']\n",
    "for vname in co2sys_vars:\n",
    "    df_wod[vname] = results[vname]\n",
    "\n",
    "df_wod.head()"
   ]
  },
  {
   "cell_type": "markdown",
   "id": "0518c60e-9399-400b-be3e-04fbd5887473",
   "metadata": {},
   "source": [
    "## Save data to HDF5 file"
   ]
  },
  {
   "cell_type": "code",
   "execution_count": 5,
   "id": "690ee6d2-9dd2-4392-8d43-c87b0aa82e72",
   "metadata": {},
   "outputs": [
    {
     "name": "stdout",
     "output_type": "stream",
     "text": [
      "writing data/bgc_all_2013-2019.h5\n"
     ]
    }
   ],
   "source": [
    "yr_min, yr_max = df_wod.Date.dt.year.min(), df_wod.Date.dt.year.max()\n",
    "outfile = 'data/bgc_all_{}-{}.h5'.format(yr_min, yr_max)\n",
    "print('writing {}'.format(outfile))\n",
    "df_wod.to_hdf(outfile, key='df_wod_bgc', mode='w', complevel=9)"
   ]
  },
  {
   "cell_type": "markdown",
   "id": "d78706fd-1503-4954-b644-b000821dc181",
   "metadata": {},
   "source": [
    "## Extract surface & bottom data"
   ]
  },
  {
   "cell_type": "code",
   "execution_count": 6,
   "id": "d94a0920-e03e-4530-88ea-6b46d868ccff",
   "metadata": {},
   "outputs": [],
   "source": [
    "# Exclude glider data\n",
    "df_wod = df_wod[df_wod.Platform_Type!=2]"
   ]
  },
  {
   "cell_type": "code",
   "execution_count": 7,
   "id": "cc03fa79-2e5f-42f5-baff-d5c7dc8664cc",
   "metadata": {},
   "outputs": [
    {
     "name": "stdout",
     "output_type": "stream",
     "text": [
      "writing data/bgc_surface_2013-2019.h5\n"
     ]
    }
   ],
   "source": [
    "# get surface values (mean for upper 5 m)\n",
    "df_tmp1 = df_wod[df_wod.Depth<=5].groupby('Cast').mean()\n",
    "df_tmp2 = df_wod.loc[df_wod.Depth<=5, ['Cast','Date','season']].groupby('Cast').nth(0)\n",
    "df_surface = pd.concat([df_tmp1, df_tmp2], axis=1)[cols[1:] + ['season'] + co2sys_vars]\n",
    "# write data to hdf5 file\n",
    "outfile = 'data/bgc_surface_{}-{}.h5'.format(yr_min, yr_max)\n",
    "print('writing {}'.format(outfile))\n",
    "df_surface.to_hdf(outfile, key='df_surface', mode='w', complevel=9)\n",
    "# df_surface.head()"
   ]
  },
  {
   "cell_type": "code",
   "execution_count": 8,
   "id": "1e78bf27-0f41-4c79-9e80-8b17f4c36ba0",
   "metadata": {},
   "outputs": [
    {
     "name": "stdout",
     "output_type": "stream",
     "text": [
      "writing data/bgc_bottom_2013-2019.h5\n"
     ]
    }
   ],
   "source": [
    "# get values at the bottom of each cast\n",
    "def get_bottom_vals(dfgrp):\n",
    "    return dfgrp.sort_values('Depth')[-1:][cols[1:] + ['season'] + co2sys_vars]\n",
    "\n",
    "df_bottom = df_wod.groupby('Cast').apply(get_bottom_vals).reset_index(1, drop=True)\n",
    "\n",
    "# write data to hdf5 file\n",
    "outfile = 'data/bgc_bottom_{}-{}.h5'.format(yr_min, yr_max)\n",
    "print('writing {}'.format(outfile))\n",
    "df_bottom.to_hdf(outfile, key='df_bottom', mode='w', complevel=9)\n",
    "# df_bottom.head()"
   ]
  },
  {
   "cell_type": "markdown",
   "id": "5d044cc1-3b85-4069-9adc-a2829eca046f",
   "metadata": {},
   "source": [
    "## Interpolate data into horizontal fields"
   ]
  },
  {
   "cell_type": "markdown",
   "id": "35d22156-13a6-4b17-87b9-2638b44d9ed6",
   "metadata": {},
   "source": [
    "### Create grid"
   ]
  },
  {
   "cell_type": "code",
   "execution_count": 9,
   "id": "f232cd94-0267-4686-a4bd-156c33762013",
   "metadata": {},
   "outputs": [],
   "source": [
    "# lon_min, lon_max = np.round(df_wod.Longitude.min()), np.round(df_wod.Longitude.max())\n",
    "# lat_min, lat_max = np.round(df_wod.Latitude.min()), np.round(df_wod.Latitude.max())\n",
    "\n",
    "lon_min, lon_max = np.round(df_wod.Longitude.min()), -65 # NELME region\n",
    "lat_min, lat_max = np.round(df_wod.Latitude.min()), 45.5 # NELME region\n",
    "\n",
    "# dx = 0.10 # grid resolution in degrees\n",
    "# xx = np.arange(lon_min, lon_max+dx/4, dx)\n",
    "# yy = np.arange(lat_min, lat_max+dx/4, dx)\n",
    "# lon, lat = np.meshgrid(xx, yy)\n",
    "\n",
    "c = (lat_max - lat_min)/(lon_max - lon_min)\n",
    "npts = 89 # number of points -> 0.125 degree resolution\n",
    "xx = np.linspace(lon_min, lon_max, npts)\n",
    "yy = np.linspace(lat_min, lat_max, int(np.round(c * npts)))\n",
    "lon, lat = np.meshgrid(xx, yy)"
   ]
  },
  {
   "cell_type": "code",
   "execution_count": 10,
   "id": "9de3088e-d6ff-43fd-a9fc-b5fc8ca7094c",
   "metadata": {},
   "outputs": [],
   "source": [
    "# import hvplot.pandas\n",
    "# df_grid = pd.DataFrame({'lon':lon.ravel(), 'lat':lat.ravel()})\n",
    "# df_grid.hvplot.points('lon', 'lat', geo=True, xlabel='longitude', ylabel='latitude',\n",
    "#                       title='Data grid', tiles='EsriTerrain', frame_width=300, size=1, c='red')"
   ]
  },
  {
   "cell_type": "markdown",
   "id": "208ce88d-87c4-4652-9f41-62203f445b54",
   "metadata": {},
   "source": [
    "### Create topography mask"
   ]
  },
  {
   "cell_type": "code",
   "execution_count": 11,
   "id": "e25e8d8b-e3db-437d-9a9a-9ff4bfe9ac11",
   "metadata": {},
   "outputs": [],
   "source": [
    "import xarray as xr\n",
    "from scipy.interpolate import griddata\n",
    "\n",
    "ds_topo = xr.open_dataset('data/etopo5.nc')\n",
    "X = np.where(ds_topo.X>180, ds_topo.X-360, ds_topo.X) # 0:360 -> -180:180\n",
    "lon_topo, lat_topo = np.meshgrid(X, ds_topo.Y.values)\n",
    "grid_topo = griddata((lon_topo.ravel(), lat_topo.ravel()), ds_topo.bath.values.ravel(), (lon,lat), method='linear')\n",
    "ds_topo.close()\n",
    "\n",
    "shelf_mask = (grid_topo<-5) & (grid_topo>-600)\n",
    "da_mask = xr.DataArray(shelf_mask, coords={'lat':yy, 'lon':xx},\n",
    "                       attrs = {'long_name':'shelf mask'}, name='SHELF_MASK')"
   ]
  },
  {
   "cell_type": "code",
   "execution_count": 12,
   "id": "37747141-a254-4d64-a628-c683c5b9bc09",
   "metadata": {},
   "outputs": [],
   "source": [
    "# import hvplot.xarray\n",
    "# da_topo = xr.DataArray(grid_topo, coords={'lat':yy, 'lon':xx},\n",
    "#                        attrs = {'long_name':'topography'}, name='Topography')\n",
    "# da_topo.hvplot(geo=True, coastline='50m', frame_width=300, cmap='kbc', title='Topography')"
   ]
  },
  {
   "cell_type": "markdown",
   "id": "d09b09c6-489f-494c-adc4-91a5a9ad7885",
   "metadata": {},
   "source": [
    "### Seasonal fields"
   ]
  },
  {
   "cell_type": "markdown",
   "id": "153f3af3-b097-4bcd-8baf-ac9029b264d2",
   "metadata": {},
   "source": [
    "#### Interpolate surface fields"
   ]
  },
  {
   "cell_type": "code",
   "execution_count": 13,
   "id": "be21683f-05a7-4e84-9569-21ee0458ad37",
   "metadata": {},
   "outputs": [
    {
     "data": {
      "application/vnd.jupyter.widget-view+json": {
       "model_id": "2e2dbb4f674e4e5cbfb57f4ad522af22",
       "version_major": 2,
       "version_minor": 0
      },
      "text/plain": [
       "season:   0%|          | 0/4 [00:00<?, ?it/s]"
      ]
     },
     "metadata": {},
     "output_type": "display_data"
    }
   ],
   "source": [
    "import pyresample as prs\n",
    "\n",
    "varinfo = {\n",
    "    'Temperature': {\n",
    "        'long_name':'temperature',\n",
    "        'units':'degree C'},\n",
    "    'Salinity': {\n",
    "        'long_name':'salinity',\n",
    "        'units':'PSU'},\n",
    "    'DIC': {\n",
    "        'long_name':'dissolved inorganic carbon',\n",
    "        'units':'micro mol/kg'},\n",
    "    'TA': {\n",
    "        'long_name':'total alkalinity',\n",
    "        'units':'micro mol/kg'},\n",
    "    'pH': {\n",
    "        'long_name':'pH',\n",
    "        'units':''},\n",
    "    'pCO2': {\n",
    "        'long_name':'seawater partial pressure of CO2',\n",
    "        'units':'micro atm'},\n",
    "    'fCO2': {'long_name':'seawater fugacity of CO2',\n",
    "             'units':'micro atm'},\n",
    "    'saturation_calcite': {\n",
    "        'long_name':'calcite saturation state',\n",
    "        'units':''},\n",
    "    'saturation_aragonite':{\n",
    "        'long_name':'aragonite saturation state',\n",
    "        'units':''}\n",
    "}\n",
    "\n",
    "out_grid = prs.geometry.SwathDefinition(lons=lon, lats=lat)\n",
    "radius = 100000 # in meters\n",
    "wf = lambda r: 1 - r/radius # weighting function\n",
    "\n",
    "# dictionary to collect interpolated data\n",
    "datavars = {}\n",
    "for vname in varinfo:\n",
    "    datavars[vname] = []\n",
    "    \n",
    "# interpolate data\n",
    "for season in notebook.tqdm(['winter','spring','summer','fall'], desc='season'):\n",
    "    df = df_surface[df_surface.season==season]\n",
    "    in_grid = prs.geometry.SwathDefinition(lons=df.Longitude.values, lats=df.Latitude.values)\n",
    "    for vname in varinfo:\n",
    "        # arr_data = griddata((df.Longitude, df.Latitude), df[vname], (lon,lat), method='linear')\n",
    "        arr_data = prs.kd_tree.resample_custom(in_grid, df[vname].values, out_grid,\n",
    "                                               radius_of_influence=radius, weight_funcs=wf,\n",
    "                                               fill_value=np.nan, nprocs=2)\n",
    "        datavars[vname].append(arr_data)\n",
    "\n",
    "# dictionary of data arrays\n",
    "vardict = {}\n",
    "seasons = range(1,5)\n",
    "for vname in varinfo:\n",
    "    data = np.stack(datavars[vname], axis=0)\n",
    "    da = xr.DataArray(data, coords={'season':seasons, 'lat':yy, 'lon':xx},\n",
    "                      attrs = varinfo[vname], name=vname)\n",
    "    vardict[vname] = da.where(da_mask)\n",
    "\n",
    "# create xarray DataSet and write it to netcdf file\n",
    "attrs = {'contents':'Seasonal interpolated surface data',\n",
    "         'seasons':'1 = winter (DJF), 2 = spring (MAM), 3 = summer (JJA), 4 = fall (SON)',\n",
    "         'history':'Created by Ivan Lima <ilima@whoi.edu> on {}'.format(datetime.datetime.now().ctime())}\n",
    "ds_surface_seasonal = xr.Dataset(vardict, attrs=attrs)\n",
    "ds_surface_seasonal.to_netcdf('data/bgc_surface_seasonal.nc', mode='w')"
   ]
  },
  {
   "cell_type": "markdown",
   "id": "2cbc242c-a19c-451a-a6b0-f9db750188cc",
   "metadata": {},
   "source": [
    "#### Interpolate bottom fields"
   ]
  },
  {
   "cell_type": "code",
   "execution_count": 14,
   "id": "2da4eb74-3012-4a9c-9ef3-ce463774e224",
   "metadata": {},
   "outputs": [
    {
     "data": {
      "application/vnd.jupyter.widget-view+json": {
       "model_id": "7692b0021da94a45954b51855008c82e",
       "version_major": 2,
       "version_minor": 0
      },
      "text/plain": [
       "season:   0%|          | 0/4 [00:00<?, ?it/s]"
      ]
     },
     "metadata": {},
     "output_type": "display_data"
    }
   ],
   "source": [
    "varinfo_bot = {k:varinfo[k] for k in ['Temperature', 'Salinity', 'DIC', 'TA', 'pH', 'saturation_calcite', 'saturation_aragonite']}\n",
    "\n",
    "# dictionary to collect interpolated data\n",
    "datavars = {}\n",
    "for vname in varinfo_bot:\n",
    "    datavars[vname] = []\n",
    "    \n",
    "# interpolate data\n",
    "for season in notebook.tqdm(['winter','spring','summer','fall'], desc='season'):\n",
    "    df = df_bottom[df_bottom.season==season]\n",
    "    in_grid = prs.geometry.SwathDefinition(lons=df.Longitude.values, lats=df.Latitude.values)\n",
    "    for vname in varinfo_bot:\n",
    "        # arr_data = griddata((df.Longitude, df.Latitude), df[vname], (lon,lat), method='linear')\n",
    "        arr_data = prs.kd_tree.resample_custom(in_grid, df[vname].values, out_grid,\n",
    "                                               radius_of_influence=radius, weight_funcs=wf,\n",
    "                                               fill_value=np.nan, nprocs=2)\n",
    "        datavars[vname].append(arr_data)\n",
    "\n",
    "# dictionary of data arrays\n",
    "vardict = {}\n",
    "for vname in varinfo_bot:\n",
    "    data = np.stack(datavars[vname], axis=0)\n",
    "    da = xr.DataArray(data, coords={'season':seasons, 'lat':yy, 'lon':xx},\n",
    "                      attrs = varinfo[vname], name=vname)\n",
    "    vardict[vname] = da.where(da_mask)\n",
    "\n",
    "# create xarray DataSet and write it to netcdf file\n",
    "attrs = {'contents':'Seasonal interpolated bottom data',\n",
    "         'seasons':'1 = winter (DJF), 2 = spring (MAM), 3 = summer (JJA), 4 = fall (SON)',\n",
    "         'history':'Created by Ivan Lima <ilima@whoi.edu> on {}'.format(datetime.datetime.now().ctime())}\n",
    "ds_bottom_seasonal = xr.Dataset(vardict, attrs=attrs)\n",
    "ds_bottom_seasonal.to_netcdf('data/bgc_bottom_seasonal.nc', mode='w')"
   ]
  },
  {
   "cell_type": "markdown",
   "id": "21fd1975-59e2-4ada-adf3-f6f0998162f8",
   "metadata": {},
   "source": [
    "### Monthly fields"
   ]
  },
  {
   "cell_type": "markdown",
   "id": "d996ca2c-4289-412f-954a-f71f2be53869",
   "metadata": {},
   "source": [
    "#### Interpolate surface fields"
   ]
  },
  {
   "cell_type": "code",
   "execution_count": 15,
   "id": "89a93fb4-0766-4eed-b8b7-d2c41c675736",
   "metadata": {},
   "outputs": [
    {
     "data": {
      "application/vnd.jupyter.widget-view+json": {
       "model_id": "fe172cb9ae674c8181ff79782b581c54",
       "version_major": 2,
       "version_minor": 0
      },
      "text/plain": [
       "month:   0%|          | 0/12 [00:00<?, ?it/s]"
      ]
     },
     "metadata": {},
     "output_type": "display_data"
    }
   ],
   "source": [
    "# dictionary to collect interpolated data\n",
    "datavars = {}\n",
    "for vname in varinfo:\n",
    "    datavars[vname] = []\n",
    "    \n",
    "# interpolate data\n",
    "months = range(1,13)\n",
    "for mon in notebook.tqdm(months, desc='month'):\n",
    "    df = df_surface[df_surface.Date.dt.month==mon]\n",
    "    in_grid = prs.geometry.SwathDefinition(lons=df.Longitude.values, lats=df.Latitude.values)\n",
    "    for vname in varinfo:\n",
    "        # arr_data = griddata((df.Longitude, df.Latitude), df[vname], (lon,lat), method='linear')\n",
    "        arr_data = prs.kd_tree.resample_custom(in_grid, df[vname].values, out_grid,\n",
    "                                               radius_of_influence=radius, weight_funcs=wf,\n",
    "                                               fill_value=np.nan, nprocs=2)\n",
    "        datavars[vname].append(arr_data)\n",
    "\n",
    "# dictionary of data arrays\n",
    "vardict = {}\n",
    "for vname in varinfo:\n",
    "    data = np.stack(datavars[vname], axis=0)\n",
    "    da = xr.DataArray(data, coords={'month':months, 'lat':yy, 'lon':xx},\n",
    "                      attrs = varinfo[vname], name=vname)\n",
    "    vardict[vname] = da.where(da_mask)\n",
    "\n",
    "# create xarray DataSet and write it to netcdf file\n",
    "attrs = {'contents':'Monthly interpolated surface data',\n",
    "         'history':'Created by Ivan Lima <ilima@whoi.edu> on {}'.format(datetime.datetime.now().ctime())}\n",
    "ds_surface_monthly = xr.Dataset(vardict, attrs=attrs)\n",
    "ds_surface_monthly.to_netcdf('data/bgc_surface_monthly.nc', mode='w')"
   ]
  },
  {
   "cell_type": "markdown",
   "id": "edd181d4-dbf9-4465-ac6a-18ddcc19018b",
   "metadata": {},
   "source": [
    "#### Interpolate bottom fields"
   ]
  },
  {
   "cell_type": "code",
   "execution_count": 16,
   "id": "ee84f757-d6d2-42cc-9d1a-7752eb5e9ebf",
   "metadata": {},
   "outputs": [
    {
     "data": {
      "application/vnd.jupyter.widget-view+json": {
       "model_id": "a5004e44620648a09566d08f54de7278",
       "version_major": 2,
       "version_minor": 0
      },
      "text/plain": [
       "month:   0%|          | 0/12 [00:00<?, ?it/s]"
      ]
     },
     "metadata": {},
     "output_type": "display_data"
    }
   ],
   "source": [
    "# dictionary to collect interpolated data\n",
    "datavars = {}\n",
    "for vname in varinfo_bot:\n",
    "    datavars[vname] = []\n",
    "    \n",
    "# interpolate data\n",
    "for mon in notebook.tqdm(months, desc='month'):\n",
    "    df = df_bottom[df_bottom.Date.dt.month==mon]\n",
    "    in_grid = prs.geometry.SwathDefinition(lons=df.Longitude.values, lats=df.Latitude.values)\n",
    "    for vname in varinfo_bot:\n",
    "        # arr_data = griddata((df.Longitude, df.Latitude), df[vname], (lon,lat), method='linear')\n",
    "        arr_data = prs.kd_tree.resample_custom(in_grid, df[vname].values, out_grid,\n",
    "                                               radius_of_influence=radius, weight_funcs=wf,\n",
    "                                               fill_value=np.nan, nprocs=2)\n",
    "        datavars[vname].append(arr_data)\n",
    "\n",
    "# dictionary of data arrays\n",
    "vardict = {}\n",
    "for vname in varinfo_bot:\n",
    "    data = np.stack(datavars[vname], axis=0)\n",
    "    da = xr.DataArray(data, coords={'month':months, 'lat':yy, 'lon':xx},\n",
    "                      attrs = varinfo[vname], name=vname)\n",
    "    vardict[vname] = da.where(da_mask)\n",
    "\n",
    "# create xarray DataSet and write it to netcdf file\n",
    "attrs = {'contents':'Monthly interpolated bottom data',\n",
    "         'history':'Created by Ivan Lima <ilima@whoi.edu> on {}'.format(datetime.datetime.now().ctime())}\n",
    "ds_bottom_monthly = xr.Dataset(vardict, attrs=attrs)\n",
    "ds_bottom_monthly.to_netcdf('data/bgc_bottom_monthly.nc', mode='w')"
   ]
  }
 ],
 "metadata": {
  "kernelspec": {
   "display_name": "Python 3 (ipykernel)",
   "language": "python",
   "name": "python3"
  },
  "language_info": {
   "codemirror_mode": {
    "name": "ipython",
    "version": 3
   },
   "file_extension": ".py",
   "mimetype": "text/x-python",
   "name": "python",
   "nbconvert_exporter": "python",
   "pygments_lexer": "ipython3",
   "version": "3.9.10"
  },
  "widgets": {
   "application/vnd.jupyter.widget-state+json": {
    "state": {
     "0e363b0ca6944d808503c43618e1a1c7": {
      "model_module": "@jupyter-widgets/controls",
      "model_module_version": "1.5.0",
      "model_name": "ProgressStyleModel",
      "state": {
       "description_width": ""
      }
     },
     "1750f9c6d24e48bc9fe577320309f504": {
      "model_module": "@jupyter-widgets/controls",
      "model_module_version": "1.5.0",
      "model_name": "HTMLModel",
      "state": {
       "layout": "IPY_MODEL_e24d314385c347b5bfb59f07f06da9e4",
       "style": "IPY_MODEL_e3fe8e4ef6bd476e81c19f41117c3ddf",
       "value": "month: 100%"
      }
     },
     "17fab5adbfe64242bce4dcb6bc866f55": {
      "model_module": "@jupyter-widgets/controls",
      "model_module_version": "1.5.0",
      "model_name": "HTMLModel",
      "state": {
       "layout": "IPY_MODEL_7cd774152f8841a7b9c5a2f75a850ac6",
       "style": "IPY_MODEL_5ba5c8e1e3b34f259ebdc76f62249aec",
       "value": "season: 100%"
      }
     },
     "21c31afea2d24df983b639b26f66d817": {
      "model_module": "@jupyter-widgets/controls",
      "model_module_version": "1.5.0",
      "model_name": "FloatProgressModel",
      "state": {
       "bar_style": "success",
       "layout": "IPY_MODEL_eb907264ed88448281046cca756cdf7d",
       "max": 4,
       "style": "IPY_MODEL_95a5e06bd92f45209c3439d8ef679726",
       "value": 4
      }
     },
     "2e2dbb4f674e4e5cbfb57f4ad522af22": {
      "model_module": "@jupyter-widgets/controls",
      "model_module_version": "1.5.0",
      "model_name": "HBoxModel",
      "state": {
       "children": [
        "IPY_MODEL_17fab5adbfe64242bce4dcb6bc866f55",
        "IPY_MODEL_21c31afea2d24df983b639b26f66d817",
        "IPY_MODEL_c3a8898519c54ccd91b801003f6fba6d"
       ],
       "layout": "IPY_MODEL_c72ffb700eef43e7b0b9188129bd02ed"
      }
     },
     "3359ac3535e3445f987b0007b8825d1f": {
      "model_module": "@jupyter-widgets/controls",
      "model_module_version": "1.5.0",
      "model_name": "HTMLModel",
      "state": {
       "layout": "IPY_MODEL_b91c4705d7244efcb665656593ff528f",
       "style": "IPY_MODEL_ef63b3654adf49de8b8198c87d51e731",
       "value": " 4/4 [00:13&lt;00:00,  3.46s/it]"
      }
     },
     "38a982754ba44312995ab79bb290e284": {
      "model_module": "@jupyter-widgets/base",
      "model_module_version": "1.2.0",
      "model_name": "LayoutModel",
      "state": {}
     },
     "3c1d54060de145ab9210876bebdf5d28": {
      "model_module": "@jupyter-widgets/controls",
      "model_module_version": "1.5.0",
      "model_name": "HTMLModel",
      "state": {
       "layout": "IPY_MODEL_47a8f3627459466bad1d5ad4a6a2ff55",
       "style": "IPY_MODEL_ae993fd5218f4c7cbeb0f136807a096a",
       "value": "season: 100%"
      }
     },
     "3d720f90f9ac452e83848424ea3d25ef": {
      "model_module": "@jupyter-widgets/controls",
      "model_module_version": "1.5.0",
      "model_name": "ProgressStyleModel",
      "state": {
       "description_width": ""
      }
     },
     "4000b611d011465d8d4ccdaebd88b468": {
      "model_module": "@jupyter-widgets/controls",
      "model_module_version": "1.5.0",
      "model_name": "HTMLModel",
      "state": {
       "layout": "IPY_MODEL_e053e90bd5194ef093439c4fedb0f43c",
       "style": "IPY_MODEL_84b055d8b7e14eb0ae9e6db949e5f787",
       "value": "month: 100%"
      }
     },
     "47a8f3627459466bad1d5ad4a6a2ff55": {
      "model_module": "@jupyter-widgets/base",
      "model_module_version": "1.2.0",
      "model_name": "LayoutModel",
      "state": {}
     },
     "591ceba4c7494d58817ff1635aaf28a3": {
      "model_module": "@jupyter-widgets/base",
      "model_module_version": "1.2.0",
      "model_name": "LayoutModel",
      "state": {}
     },
     "5997191b5baa47c0a5bf7f0ef26c4c1a": {
      "model_module": "@jupyter-widgets/base",
      "model_module_version": "1.2.0",
      "model_name": "LayoutModel",
      "state": {}
     },
     "59c6928477f646fa839e2633e9b7e1de": {
      "model_module": "@jupyter-widgets/base",
      "model_module_version": "1.2.0",
      "model_name": "LayoutModel",
      "state": {}
     },
     "5ba5c8e1e3b34f259ebdc76f62249aec": {
      "model_module": "@jupyter-widgets/controls",
      "model_module_version": "1.5.0",
      "model_name": "DescriptionStyleModel",
      "state": {
       "description_width": ""
      }
     },
     "6664dd71d80a4c3cb961543499ff70f5": {
      "model_module": "@jupyter-widgets/base",
      "model_module_version": "1.2.0",
      "model_name": "LayoutModel",
      "state": {}
     },
     "66a5975a1a86415a9188acdbfa15d7d4": {
      "model_module": "@jupyter-widgets/base",
      "model_module_version": "1.2.0",
      "model_name": "LayoutModel",
      "state": {}
     },
     "67655d3ad74342029bc6907de6a52cb2": {
      "model_module": "@jupyter-widgets/controls",
      "model_module_version": "1.5.0",
      "model_name": "DescriptionStyleModel",
      "state": {
       "description_width": ""
      }
     },
     "7154d398e5784c018b89299cafce1715": {
      "model_module": "@jupyter-widgets/controls",
      "model_module_version": "1.5.0",
      "model_name": "DescriptionStyleModel",
      "state": {
       "description_width": ""
      }
     },
     "7692b0021da94a45954b51855008c82e": {
      "model_module": "@jupyter-widgets/controls",
      "model_module_version": "1.5.0",
      "model_name": "HBoxModel",
      "state": {
       "children": [
        "IPY_MODEL_3c1d54060de145ab9210876bebdf5d28",
        "IPY_MODEL_f3210bf6ac96452d86509c2ec762060b",
        "IPY_MODEL_3359ac3535e3445f987b0007b8825d1f"
       ],
       "layout": "IPY_MODEL_5997191b5baa47c0a5bf7f0ef26c4c1a"
      }
     },
     "7cd774152f8841a7b9c5a2f75a850ac6": {
      "model_module": "@jupyter-widgets/base",
      "model_module_version": "1.2.0",
      "model_name": "LayoutModel",
      "state": {}
     },
     "84b055d8b7e14eb0ae9e6db949e5f787": {
      "model_module": "@jupyter-widgets/controls",
      "model_module_version": "1.5.0",
      "model_name": "DescriptionStyleModel",
      "state": {
       "description_width": ""
      }
     },
     "887e5086e2b84ab99ac5537d0fe3692b": {
      "model_module": "@jupyter-widgets/base",
      "model_module_version": "1.2.0",
      "model_name": "LayoutModel",
      "state": {}
     },
     "95a5e06bd92f45209c3439d8ef679726": {
      "model_module": "@jupyter-widgets/controls",
      "model_module_version": "1.5.0",
      "model_name": "ProgressStyleModel",
      "state": {
       "description_width": ""
      }
     },
     "a5004e44620648a09566d08f54de7278": {
      "model_module": "@jupyter-widgets/controls",
      "model_module_version": "1.5.0",
      "model_name": "HBoxModel",
      "state": {
       "children": [
        "IPY_MODEL_1750f9c6d24e48bc9fe577320309f504",
        "IPY_MODEL_bdfbf63b8f5b43fdb5d0f1e9cd15f89a",
        "IPY_MODEL_ea10488bea774b4194eb8232f4c7f6f0"
       ],
       "layout": "IPY_MODEL_59c6928477f646fa839e2633e9b7e1de"
      }
     },
     "a5de0076b3404aafbab26fa3277054de": {
      "model_module": "@jupyter-widgets/controls",
      "model_module_version": "1.5.0",
      "model_name": "HTMLModel",
      "state": {
       "layout": "IPY_MODEL_af1041410e6b47b882fb583aea5ab42c",
       "style": "IPY_MODEL_67655d3ad74342029bc6907de6a52cb2",
       "value": " 12/12 [00:53&lt;00:00,  4.43s/it]"
      }
     },
     "ae993fd5218f4c7cbeb0f136807a096a": {
      "model_module": "@jupyter-widgets/controls",
      "model_module_version": "1.5.0",
      "model_name": "DescriptionStyleModel",
      "state": {
       "description_width": ""
      }
     },
     "af1041410e6b47b882fb583aea5ab42c": {
      "model_module": "@jupyter-widgets/base",
      "model_module_version": "1.2.0",
      "model_name": "LayoutModel",
      "state": {}
     },
     "b542f3bed6524e77aff630f3e22d39d7": {
      "model_module": "@jupyter-widgets/base",
      "model_module_version": "1.2.0",
      "model_name": "LayoutModel",
      "state": {}
     },
     "b91c4705d7244efcb665656593ff528f": {
      "model_module": "@jupyter-widgets/base",
      "model_module_version": "1.2.0",
      "model_name": "LayoutModel",
      "state": {}
     },
     "bdfbf63b8f5b43fdb5d0f1e9cd15f89a": {
      "model_module": "@jupyter-widgets/controls",
      "model_module_version": "1.5.0",
      "model_name": "FloatProgressModel",
      "state": {
       "bar_style": "success",
       "layout": "IPY_MODEL_591ceba4c7494d58817ff1635aaf28a3",
       "max": 12,
       "style": "IPY_MODEL_e15a5ff52683462385b00caca705fd56",
       "value": 12
      }
     },
     "c3a8898519c54ccd91b801003f6fba6d": {
      "model_module": "@jupyter-widgets/controls",
      "model_module_version": "1.5.0",
      "model_name": "HTMLModel",
      "state": {
       "layout": "IPY_MODEL_66a5975a1a86415a9188acdbfa15d7d4",
       "style": "IPY_MODEL_dc8a2546a1d84941bb08d22d23b6e4df",
       "value": " 4/4 [00:17&lt;00:00,  4.45s/it]"
      }
     },
     "c72ffb700eef43e7b0b9188129bd02ed": {
      "model_module": "@jupyter-widgets/base",
      "model_module_version": "1.2.0",
      "model_name": "LayoutModel",
      "state": {}
     },
     "cc01f98c5b1344d8b3d7f22f7ff986ec": {
      "model_module": "@jupyter-widgets/controls",
      "model_module_version": "1.5.0",
      "model_name": "FloatProgressModel",
      "state": {
       "bar_style": "success",
       "layout": "IPY_MODEL_887e5086e2b84ab99ac5537d0fe3692b",
       "max": 12,
       "style": "IPY_MODEL_0e363b0ca6944d808503c43618e1a1c7",
       "value": 12
      }
     },
     "dc8a2546a1d84941bb08d22d23b6e4df": {
      "model_module": "@jupyter-widgets/controls",
      "model_module_version": "1.5.0",
      "model_name": "DescriptionStyleModel",
      "state": {
       "description_width": ""
      }
     },
     "e053e90bd5194ef093439c4fedb0f43c": {
      "model_module": "@jupyter-widgets/base",
      "model_module_version": "1.2.0",
      "model_name": "LayoutModel",
      "state": {}
     },
     "e15a5ff52683462385b00caca705fd56": {
      "model_module": "@jupyter-widgets/controls",
      "model_module_version": "1.5.0",
      "model_name": "ProgressStyleModel",
      "state": {
       "description_width": ""
      }
     },
     "e24d314385c347b5bfb59f07f06da9e4": {
      "model_module": "@jupyter-widgets/base",
      "model_module_version": "1.2.0",
      "model_name": "LayoutModel",
      "state": {}
     },
     "e3fe8e4ef6bd476e81c19f41117c3ddf": {
      "model_module": "@jupyter-widgets/controls",
      "model_module_version": "1.5.0",
      "model_name": "DescriptionStyleModel",
      "state": {
       "description_width": ""
      }
     },
     "ea10488bea774b4194eb8232f4c7f6f0": {
      "model_module": "@jupyter-widgets/controls",
      "model_module_version": "1.5.0",
      "model_name": "HTMLModel",
      "state": {
       "layout": "IPY_MODEL_b542f3bed6524e77aff630f3e22d39d7",
       "style": "IPY_MODEL_7154d398e5784c018b89299cafce1715",
       "value": " 12/12 [00:41&lt;00:00,  3.47s/it]"
      }
     },
     "eb907264ed88448281046cca756cdf7d": {
      "model_module": "@jupyter-widgets/base",
      "model_module_version": "1.2.0",
      "model_name": "LayoutModel",
      "state": {}
     },
     "ef63b3654adf49de8b8198c87d51e731": {
      "model_module": "@jupyter-widgets/controls",
      "model_module_version": "1.5.0",
      "model_name": "DescriptionStyleModel",
      "state": {
       "description_width": ""
      }
     },
     "f3210bf6ac96452d86509c2ec762060b": {
      "model_module": "@jupyter-widgets/controls",
      "model_module_version": "1.5.0",
      "model_name": "FloatProgressModel",
      "state": {
       "bar_style": "success",
       "layout": "IPY_MODEL_38a982754ba44312995ab79bb290e284",
       "max": 4,
       "style": "IPY_MODEL_3d720f90f9ac452e83848424ea3d25ef",
       "value": 4
      }
     },
     "fe172cb9ae674c8181ff79782b581c54": {
      "model_module": "@jupyter-widgets/controls",
      "model_module_version": "1.5.0",
      "model_name": "HBoxModel",
      "state": {
       "children": [
        "IPY_MODEL_4000b611d011465d8d4ccdaebd88b468",
        "IPY_MODEL_cc01f98c5b1344d8b3d7f22f7ff986ec",
        "IPY_MODEL_a5de0076b3404aafbab26fa3277054de"
       ],
       "layout": "IPY_MODEL_6664dd71d80a4c3cb961543499ff70f5"
      }
     }
    },
    "version_major": 2,
    "version_minor": 0
   }
  }
 },
 "nbformat": 4,
 "nbformat_minor": 5
}
