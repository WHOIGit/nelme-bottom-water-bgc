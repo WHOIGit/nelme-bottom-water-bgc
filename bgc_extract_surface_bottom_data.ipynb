{
 "cells": [
  {
   "cell_type": "markdown",
   "id": "bb98af56-d176-4478-b37b-eb5229c9446c",
   "metadata": {},
   "source": [
    "# Compute additional carbon chemistry variables and extract surface and bottom data\n",
    "Created by Ivan Lima on Thu Jan  6 2022 11:17:56 -0500"
   ]
  },
  {
   "cell_type": "markdown",
   "id": "0503980d-e1e0-4868-8294-0475538c2d17",
   "metadata": {},
   "source": [
    "In this notebook we compute additional carbon chemistry variables, extract the data near the surface and bottom and create seasonal and monthly fields of surface and bottom DIC and TA using interpolation. "
   ]
  },
  {
   "cell_type": "code",
   "execution_count": 1,
   "id": "31feb5fe-22ca-4d43-8bb6-b3eb77a949e5",
   "metadata": {},
   "outputs": [
    {
     "name": "stdout",
     "output_type": "stream",
     "text": [
      "Last updated on Wed Jan 19 16:41:07 2022\n"
     ]
    }
   ],
   "source": [
    "import pandas as pd\n",
    "import numpy as np\n",
    "import datetime\n",
    "from tqdm import notebook\n",
    "print('Last updated on {}'.format(datetime.datetime.now().ctime()))"
   ]
  },
  {
   "cell_type": "markdown",
   "id": "9567c8a1-86e7-457f-bb2d-637533da6daf",
   "metadata": {},
   "source": [
    "## Read data"
   ]
  },
  {
   "cell_type": "code",
   "execution_count": 2,
   "id": "93df2005-b39f-47eb-9dd7-d60dbcb23d9f",
   "metadata": {},
   "outputs": [
    {
     "data": {
      "text/html": [
       "<div>\n",
       "<style scoped>\n",
       "    .dataframe tbody tr th:only-of-type {\n",
       "        vertical-align: middle;\n",
       "    }\n",
       "\n",
       "    .dataframe tbody tr th {\n",
       "        vertical-align: top;\n",
       "    }\n",
       "\n",
       "    .dataframe thead th {\n",
       "        text-align: right;\n",
       "    }\n",
       "</style>\n",
       "<table border=\"1\" class=\"dataframe\">\n",
       "  <thead>\n",
       "    <tr style=\"text-align: right;\">\n",
       "      <th></th>\n",
       "      <th>Cast</th>\n",
       "      <th>Latitude</th>\n",
       "      <th>Longitude</th>\n",
       "      <th>Date</th>\n",
       "      <th>Depth</th>\n",
       "      <th>Temperature</th>\n",
       "      <th>Salinity</th>\n",
       "      <th>DIC</th>\n",
       "      <th>TA</th>\n",
       "      <th>bottom_depth</th>\n",
       "      <th>Platform_Type</th>\n",
       "      <th>season</th>\n",
       "    </tr>\n",
       "  </thead>\n",
       "  <tbody>\n",
       "    <tr>\n",
       "      <th>5686516</th>\n",
       "      <td>15637258.0</td>\n",
       "      <td>44.267502</td>\n",
       "      <td>-63.317699</td>\n",
       "      <td>2013-01-09</td>\n",
       "      <td>0.991947</td>\n",
       "      <td>3.952</td>\n",
       "      <td>30.871000</td>\n",
       "      <td>2061.806152</td>\n",
       "      <td>2135.737793</td>\n",
       "      <td>144</td>\n",
       "      <td>1.0</td>\n",
       "      <td>winter</td>\n",
       "    </tr>\n",
       "    <tr>\n",
       "      <th>5686517</th>\n",
       "      <td>15637258.0</td>\n",
       "      <td>44.267502</td>\n",
       "      <td>-63.317699</td>\n",
       "      <td>2013-01-09</td>\n",
       "      <td>1.487919</td>\n",
       "      <td>3.943</td>\n",
       "      <td>30.868999</td>\n",
       "      <td>2061.752686</td>\n",
       "      <td>2135.686523</td>\n",
       "      <td>144</td>\n",
       "      <td>1.0</td>\n",
       "      <td>winter</td>\n",
       "    </tr>\n",
       "    <tr>\n",
       "      <th>5686518</th>\n",
       "      <td>15637258.0</td>\n",
       "      <td>44.267502</td>\n",
       "      <td>-63.317699</td>\n",
       "      <td>2013-01-09</td>\n",
       "      <td>1.983890</td>\n",
       "      <td>3.937</td>\n",
       "      <td>30.870001</td>\n",
       "      <td>2061.651855</td>\n",
       "      <td>2135.631348</td>\n",
       "      <td>144</td>\n",
       "      <td>1.0</td>\n",
       "      <td>winter</td>\n",
       "    </tr>\n",
       "    <tr>\n",
       "      <th>5686519</th>\n",
       "      <td>15637258.0</td>\n",
       "      <td>44.267502</td>\n",
       "      <td>-63.317699</td>\n",
       "      <td>2013-01-09</td>\n",
       "      <td>2.479859</td>\n",
       "      <td>3.936</td>\n",
       "      <td>30.870001</td>\n",
       "      <td>2061.583984</td>\n",
       "      <td>2135.582031</td>\n",
       "      <td>144</td>\n",
       "      <td>1.0</td>\n",
       "      <td>winter</td>\n",
       "    </tr>\n",
       "    <tr>\n",
       "      <th>5686520</th>\n",
       "      <td>15637258.0</td>\n",
       "      <td>44.267502</td>\n",
       "      <td>-63.317699</td>\n",
       "      <td>2013-01-09</td>\n",
       "      <td>2.975827</td>\n",
       "      <td>3.936</td>\n",
       "      <td>30.870001</td>\n",
       "      <td>2061.519287</td>\n",
       "      <td>2135.533203</td>\n",
       "      <td>144</td>\n",
       "      <td>1.0</td>\n",
       "      <td>winter</td>\n",
       "    </tr>\n",
       "  </tbody>\n",
       "</table>\n",
       "</div>"
      ],
      "text/plain": [
       "               Cast   Latitude  Longitude       Date     Depth  Temperature  \\\n",
       "5686516  15637258.0  44.267502 -63.317699 2013-01-09  0.991947        3.952   \n",
       "5686517  15637258.0  44.267502 -63.317699 2013-01-09  1.487919        3.943   \n",
       "5686518  15637258.0  44.267502 -63.317699 2013-01-09  1.983890        3.937   \n",
       "5686519  15637258.0  44.267502 -63.317699 2013-01-09  2.479859        3.936   \n",
       "5686520  15637258.0  44.267502 -63.317699 2013-01-09  2.975827        3.936   \n",
       "\n",
       "          Salinity          DIC           TA  bottom_depth  Platform_Type  \\\n",
       "5686516  30.871000  2061.806152  2135.737793           144            1.0   \n",
       "5686517  30.868999  2061.752686  2135.686523           144            1.0   \n",
       "5686518  30.870001  2061.651855  2135.631348           144            1.0   \n",
       "5686519  30.870001  2061.583984  2135.582031           144            1.0   \n",
       "5686520  30.870001  2061.519287  2135.533203           144            1.0   \n",
       "\n",
       "         season  \n",
       "5686516  winter  \n",
       "5686517  winter  \n",
       "5686518  winter  \n",
       "5686519  winter  \n",
       "5686520  winter  "
      ]
     },
     "execution_count": 2,
     "metadata": {},
     "output_type": "execute_result"
    }
   ],
   "source": [
    "cols = ['Cast', 'Latitude', 'Longitude', 'Date', 'Depth', 'Temperature', 'Salinity', 'DIC', 'TA', 'bottom_depth', 'Platform_Type']\n",
    "df_wod = pd.read_hdf('data/CombinedCTD_satellite_bgc_pytorch_2002-2019.h5', key='df_ctd')\n",
    "df_wod = df_wod[cols]\n",
    "df_wod = df_wod[df_wod.Date.dt.year>2012] # use only contemporary data\n",
    "df_wod = df_wod[df_wod.Depth<600]         # use only shelf data\n",
    "df_wod.loc[df_wod.Date.dt.month.isin([1,2,12]),'season'] = 'winter' # set seasons\n",
    "df_wod.loc[df_wod.Date.dt.month.isin([3,4,5]),'season'] = 'spring'\n",
    "df_wod.loc[df_wod.Date.dt.month.isin([6,7,8]),'season'] = 'summer'\n",
    "df_wod.loc[df_wod.Date.dt.month.isin([9,10,11]),'season'] = 'fall'\n",
    "df_wod.head()"
   ]
  },
  {
   "cell_type": "markdown",
   "id": "31b2180d-2417-481d-876f-d7e30945d59f",
   "metadata": {},
   "source": [
    "## Remove ouliers ($x < -3\\sigma$ or $ x > 3\\sigma$)"
   ]
  },
  {
   "cell_type": "code",
   "execution_count": 3,
   "id": "57695dc1-87d8-4398-a9ee-8a668e9437cd",
   "metadata": {},
   "outputs": [
    {
     "name": "stdout",
     "output_type": "stream",
     "text": [
      "Original data: 8,417,747 points\n",
      "Cleaned data:  8,347,704 points\n",
      "70,043 points removed (0.83%)\n"
     ]
    }
   ],
   "source": [
    "df = df_wod[['Temperature', 'Salinity', 'DIC', 'TA']]\n",
    "df_clean = df[np.abs(df - df.mean()) < 3*df.std()].dropna()\n",
    "n_orig, n_clean = len(df_wod), len(df_clean)\n",
    "df_wod = df_wod.reindex(df_clean.index)\n",
    "print('Original data: {:,} points'.format(n_orig))\n",
    "print('Cleaned data:  {:,} points'.format(n_clean))\n",
    "print('{:,} points removed ({:.2f}%)'.format(n_orig - n_clean, (n_orig - n_clean)/n_orig * 100))"
   ]
  },
  {
   "cell_type": "markdown",
   "id": "5ecda255-3e2d-4b4c-ac86-482e507a02fc",
   "metadata": {},
   "source": [
    "## Compute additional carbon chemistry variables"
   ]
  },
  {
   "cell_type": "code",
   "execution_count": 4,
   "id": "fd13d37d-f1be-44fe-823e-cbf8e16781c9",
   "metadata": {},
   "outputs": [
    {
     "data": {
      "text/html": [
       "<div>\n",
       "<style scoped>\n",
       "    .dataframe tbody tr th:only-of-type {\n",
       "        vertical-align: middle;\n",
       "    }\n",
       "\n",
       "    .dataframe tbody tr th {\n",
       "        vertical-align: top;\n",
       "    }\n",
       "\n",
       "    .dataframe thead th {\n",
       "        text-align: right;\n",
       "    }\n",
       "</style>\n",
       "<table border=\"1\" class=\"dataframe\">\n",
       "  <thead>\n",
       "    <tr style=\"text-align: right;\">\n",
       "      <th></th>\n",
       "      <th>Cast</th>\n",
       "      <th>Latitude</th>\n",
       "      <th>Longitude</th>\n",
       "      <th>Date</th>\n",
       "      <th>Depth</th>\n",
       "      <th>Temperature</th>\n",
       "      <th>Salinity</th>\n",
       "      <th>DIC</th>\n",
       "      <th>TA</th>\n",
       "      <th>bottom_depth</th>\n",
       "      <th>Platform_Type</th>\n",
       "      <th>season</th>\n",
       "      <th>pH</th>\n",
       "      <th>pCO2</th>\n",
       "      <th>fCO2</th>\n",
       "      <th>saturation_calcite</th>\n",
       "      <th>saturation_aragonite</th>\n",
       "    </tr>\n",
       "  </thead>\n",
       "  <tbody>\n",
       "    <tr>\n",
       "      <th>5686516</th>\n",
       "      <td>15637258.0</td>\n",
       "      <td>44.267502</td>\n",
       "      <td>-63.317699</td>\n",
       "      <td>2013-01-09</td>\n",
       "      <td>0.991947</td>\n",
       "      <td>3.952</td>\n",
       "      <td>30.871000</td>\n",
       "      <td>2061.806152</td>\n",
       "      <td>2135.737793</td>\n",
       "      <td>144</td>\n",
       "      <td>1.0</td>\n",
       "      <td>winter</td>\n",
       "      <td>7.920246</td>\n",
       "      <td>545.919274</td>\n",
       "      <td>543.644120</td>\n",
       "      <td>1.642606</td>\n",
       "      <td>1.026475</td>\n",
       "    </tr>\n",
       "    <tr>\n",
       "      <th>5686517</th>\n",
       "      <td>15637258.0</td>\n",
       "      <td>44.267502</td>\n",
       "      <td>-63.317699</td>\n",
       "      <td>2013-01-09</td>\n",
       "      <td>1.487919</td>\n",
       "      <td>3.943</td>\n",
       "      <td>30.868999</td>\n",
       "      <td>2061.752686</td>\n",
       "      <td>2135.686523</td>\n",
       "      <td>144</td>\n",
       "      <td>1.0</td>\n",
       "      <td>winter</td>\n",
       "      <td>7.920420</td>\n",
       "      <td>545.662645</td>\n",
       "      <td>543.388289</td>\n",
       "      <td>1.642359</td>\n",
       "      <td>1.026310</td>\n",
       "    </tr>\n",
       "    <tr>\n",
       "      <th>5686518</th>\n",
       "      <td>15637258.0</td>\n",
       "      <td>44.267502</td>\n",
       "      <td>-63.317699</td>\n",
       "      <td>2013-01-09</td>\n",
       "      <td>1.983890</td>\n",
       "      <td>3.937</td>\n",
       "      <td>30.870001</td>\n",
       "      <td>2061.651855</td>\n",
       "      <td>2135.631348</td>\n",
       "      <td>144</td>\n",
       "      <td>1.0</td>\n",
       "      <td>winter</td>\n",
       "      <td>7.920652</td>\n",
       "      <td>545.308835</td>\n",
       "      <td>543.035773</td>\n",
       "      <td>1.642615</td>\n",
       "      <td>1.026472</td>\n",
       "    </tr>\n",
       "    <tr>\n",
       "      <th>5686519</th>\n",
       "      <td>15637258.0</td>\n",
       "      <td>44.267502</td>\n",
       "      <td>-63.317699</td>\n",
       "      <td>2013-01-09</td>\n",
       "      <td>2.479859</td>\n",
       "      <td>3.936</td>\n",
       "      <td>30.870001</td>\n",
       "      <td>2061.583984</td>\n",
       "      <td>2135.582031</td>\n",
       "      <td>144</td>\n",
       "      <td>1.0</td>\n",
       "      <td>winter</td>\n",
       "      <td>7.920716</td>\n",
       "      <td>545.180232</td>\n",
       "      <td>542.907675</td>\n",
       "      <td>1.642612</td>\n",
       "      <td>1.026475</td>\n",
       "    </tr>\n",
       "    <tr>\n",
       "      <th>5686520</th>\n",
       "      <td>15637258.0</td>\n",
       "      <td>44.267502</td>\n",
       "      <td>-63.317699</td>\n",
       "      <td>2013-01-09</td>\n",
       "      <td>2.975827</td>\n",
       "      <td>3.936</td>\n",
       "      <td>30.870001</td>\n",
       "      <td>2061.519287</td>\n",
       "      <td>2135.533203</td>\n",
       "      <td>144</td>\n",
       "      <td>1.0</td>\n",
       "      <td>winter</td>\n",
       "      <td>7.920753</td>\n",
       "      <td>545.086347</td>\n",
       "      <td>542.814181</td>\n",
       "      <td>1.642587</td>\n",
       "      <td>1.026466</td>\n",
       "    </tr>\n",
       "  </tbody>\n",
       "</table>\n",
       "</div>"
      ],
      "text/plain": [
       "               Cast   Latitude  Longitude       Date     Depth  Temperature  \\\n",
       "5686516  15637258.0  44.267502 -63.317699 2013-01-09  0.991947        3.952   \n",
       "5686517  15637258.0  44.267502 -63.317699 2013-01-09  1.487919        3.943   \n",
       "5686518  15637258.0  44.267502 -63.317699 2013-01-09  1.983890        3.937   \n",
       "5686519  15637258.0  44.267502 -63.317699 2013-01-09  2.479859        3.936   \n",
       "5686520  15637258.0  44.267502 -63.317699 2013-01-09  2.975827        3.936   \n",
       "\n",
       "          Salinity          DIC           TA  bottom_depth  Platform_Type  \\\n",
       "5686516  30.871000  2061.806152  2135.737793           144            1.0   \n",
       "5686517  30.868999  2061.752686  2135.686523           144            1.0   \n",
       "5686518  30.870001  2061.651855  2135.631348           144            1.0   \n",
       "5686519  30.870001  2061.583984  2135.582031           144            1.0   \n",
       "5686520  30.870001  2061.519287  2135.533203           144            1.0   \n",
       "\n",
       "         season        pH        pCO2        fCO2  saturation_calcite  \\\n",
       "5686516  winter  7.920246  545.919274  543.644120            1.642606   \n",
       "5686517  winter  7.920420  545.662645  543.388289            1.642359   \n",
       "5686518  winter  7.920652  545.308835  543.035773            1.642615   \n",
       "5686519  winter  7.920716  545.180232  542.907675            1.642612   \n",
       "5686520  winter  7.920753  545.086347  542.814181            1.642587   \n",
       "\n",
       "         saturation_aragonite  \n",
       "5686516              1.026475  \n",
       "5686517              1.026310  \n",
       "5686518              1.026472  \n",
       "5686519              1.026475  \n",
       "5686520              1.026466  "
      ]
     },
     "execution_count": 4,
     "metadata": {},
     "output_type": "execute_result"
    }
   ],
   "source": [
    "import PyCO2SYS as pyco2\n",
    "import gsw\n",
    "\n",
    "pressure =  gsw.p_from_z(-df_wod.Depth.values, df_wod.Latitude.values) # water pressure in dbar\n",
    "kwargs = dict(\n",
    "    par1 = df_wod.TA.values,   # TA\n",
    "    par2 = df_wod.DIC.values,  # DIC\n",
    "    par1_type = 1,             # type 1 = alkalinity\n",
    "    par2_type = 2,             # type 2 = DIC\n",
    "    salinity = df_wod.Salinity.values,\n",
    "    temperature = df_wod.Temperature.values,\n",
    "    pressure = pressure\n",
    ")\n",
    "\n",
    "results = pyco2.sys(**kwargs)\n",
    "co2sys_vars = ['pH', 'pCO2', 'fCO2', 'saturation_calcite', 'saturation_aragonite']\n",
    "for vname in co2sys_vars:\n",
    "    df_wod[vname] = results[vname]\n",
    "\n",
    "df_wod.head()"
   ]
  },
  {
   "cell_type": "markdown",
   "id": "0518c60e-9399-400b-be3e-04fbd5887473",
   "metadata": {},
   "source": [
    "## Save data to HDF5 file"
   ]
  },
  {
   "cell_type": "code",
   "execution_count": 5,
   "id": "690ee6d2-9dd2-4392-8d43-c87b0aa82e72",
   "metadata": {},
   "outputs": [
    {
     "name": "stdout",
     "output_type": "stream",
     "text": [
      "writing data/bgc_all_2013-2019.h5\n"
     ]
    }
   ],
   "source": [
    "yr_min, yr_max = df_wod.Date.dt.year.min(), df_wod.Date.dt.year.max()\n",
    "outfile = 'data/bgc_all_{}-{}.h5'.format(yr_min, yr_max)\n",
    "print('writing {}'.format(outfile))\n",
    "df_wod.to_hdf(outfile, key='df_wod_bgc', mode='w', complevel=9)"
   ]
  },
  {
   "cell_type": "markdown",
   "id": "d78706fd-1503-4954-b644-b000821dc181",
   "metadata": {},
   "source": [
    "## Extract surface & bottom data"
   ]
  },
  {
   "cell_type": "code",
   "execution_count": 6,
   "id": "cc03fa79-2e5f-42f5-baff-d5c7dc8664cc",
   "metadata": {},
   "outputs": [
    {
     "name": "stdout",
     "output_type": "stream",
     "text": [
      "writing data/bgc_surface_2013-2019.h5\n"
     ]
    }
   ],
   "source": [
    "# get surface values (mean for upper 5 m)\n",
    "df_tmp1 = df_wod[df_wod.Depth<=5].groupby('Cast').mean()\n",
    "df_tmp2 = df_wod.loc[df_wod.Depth<=5, ['Cast','Date','season']].groupby('Cast').nth(0)\n",
    "df_surface = pd.concat([df_tmp1, df_tmp2], axis=1)[cols[1:] + ['season'] + co2sys_vars]\n",
    "# write data to hdf5 file\n",
    "outfile = 'data/bgc_surface_{}-{}.h5'.format(yr_min, yr_max)\n",
    "print('writing {}'.format(outfile))\n",
    "df_surface.to_hdf(outfile, key='df_surface', mode='w', complevel=9)\n",
    "# df_surface.head()"
   ]
  },
  {
   "cell_type": "code",
   "execution_count": 7,
   "id": "1e78bf27-0f41-4c79-9e80-8b17f4c36ba0",
   "metadata": {},
   "outputs": [
    {
     "name": "stdout",
     "output_type": "stream",
     "text": [
      "writing data/bgc_bottom_2013-2019.h5\n"
     ]
    }
   ],
   "source": [
    "# get values at the bottom of each cast\n",
    "def get_bottom_vals(dfgrp):\n",
    "    return dfgrp.sort_values('Depth')[-1:][cols[1:] + ['season'] + co2sys_vars]\n",
    "\n",
    "df_bottom = df_wod.groupby('Cast').apply(get_bottom_vals).reset_index(1, drop=True)\n",
    "\n",
    "# write data to hdf5 file\n",
    "outfile = 'data/bgc_bottom_{}-{}.h5'.format(yr_min, yr_max)\n",
    "print('writing {}'.format(outfile))\n",
    "df_bottom.to_hdf(outfile, key='df_bottom', mode='w', complevel=9)\n",
    "# df_bottom.head()"
   ]
  },
  {
   "cell_type": "markdown",
   "id": "5d044cc1-3b85-4069-9adc-a2829eca046f",
   "metadata": {},
   "source": [
    "## Interpolate data into horizontal fields"
   ]
  },
  {
   "cell_type": "markdown",
   "id": "35d22156-13a6-4b17-87b9-2638b44d9ed6",
   "metadata": {},
   "source": [
    "### Create grid"
   ]
  },
  {
   "cell_type": "code",
   "execution_count": 8,
   "id": "f232cd94-0267-4686-a4bd-156c33762013",
   "metadata": {},
   "outputs": [],
   "source": [
    "# lon_min, lon_max = np.round(df_wod.Longitude.min()), np.round(df_wod.Longitude.max())\n",
    "# lat_min, lat_max = np.round(df_wod.Latitude.min()), np.round(df_wod.Latitude.max())\n",
    "\n",
    "lon_min, lon_max = np.round(df_wod.Longitude.min()), -65 # NELME region\n",
    "lat_min, lat_max = np.round(df_wod.Latitude.min()), 45.5 # NELME region\n",
    "dx = 0.10 # grid resolution in degrees\n",
    "\n",
    "xx = np.arange(lon_min, lon_max+dx/4, dx)\n",
    "yy = np.arange(lat_min, lat_max+dx/4, dx)\n",
    "lon, lat = np.meshgrid(xx, yy)"
   ]
  },
  {
   "cell_type": "code",
   "execution_count": 9,
   "id": "9de3088e-d6ff-43fd-a9fc-b5fc8ca7094c",
   "metadata": {},
   "outputs": [],
   "source": [
    "# import hvplot.pandas\n",
    "# df_grid = pd.DataFrame({'lon':lon.ravel(), 'lat':lat.ravel()})\n",
    "# df_grid.hvplot.points('lon', 'lat', geo=True, xlabel='longitude', ylabel='latitude',\n",
    "#                       title='Data grid', tiles=tiles, frame_width=300, size=1)"
   ]
  },
  {
   "cell_type": "markdown",
   "id": "208ce88d-87c4-4652-9f41-62203f445b54",
   "metadata": {},
   "source": [
    "### Create topography mask"
   ]
  },
  {
   "cell_type": "code",
   "execution_count": 10,
   "id": "e25e8d8b-e3db-437d-9a9a-9ff4bfe9ac11",
   "metadata": {},
   "outputs": [],
   "source": [
    "import xarray as xr\n",
    "from scipy.interpolate import griddata\n",
    "\n",
    "ds_topo = xr.open_dataset('data/etopo5.nc')\n",
    "X = np.where(ds_topo.X>180, ds_topo.X-360, ds_topo.X) # 0:360 -> -180:180\n",
    "lon_topo, lat_topo = np.meshgrid(X, ds_topo.Y.values)\n",
    "grid_topo = griddata((lon_topo.ravel(), lat_topo.ravel()), ds_topo.bath.values.ravel(), (lon,lat), method='linear')\n",
    "ds_topo.close()\n",
    "\n",
    "shelf_mask = (grid_topo<-5) & (grid_topo>-600)\n",
    "da_mask = xr.DataArray(shelf_mask, coords={'lat':yy, 'lon':xx},\n",
    "                       attrs = {'long_name':'shelf mask'}, name='SHELF_MASK')"
   ]
  },
  {
   "cell_type": "code",
   "execution_count": 11,
   "id": "37747141-a254-4d64-a628-c683c5b9bc09",
   "metadata": {},
   "outputs": [],
   "source": [
    "# import hvplot.xarray\n",
    "# da_topo = xr.DataArray(grid_topo, coords={'lat':yy, 'lon':xx},\n",
    "#                        attrs = {'long_name':'topography'}, name='Topography')\n",
    "# da_topo.hvplot(geo=True, coastline='50m', frame_width=300, cmap='kbc', title='Topography')"
   ]
  },
  {
   "cell_type": "markdown",
   "id": "d09b09c6-489f-494c-adc4-91a5a9ad7885",
   "metadata": {},
   "source": [
    "### Seasonal fields"
   ]
  },
  {
   "cell_type": "markdown",
   "id": "153f3af3-b097-4bcd-8baf-ac9029b264d2",
   "metadata": {},
   "source": [
    "#### Interpolate surface fields"
   ]
  },
  {
   "cell_type": "code",
   "execution_count": 12,
   "id": "be21683f-05a7-4e84-9569-21ee0458ad37",
   "metadata": {},
   "outputs": [
    {
     "data": {
      "application/vnd.jupyter.widget-view+json": {
       "model_id": "5422d5307d34482fb2ba6ec9aed42e17",
       "version_major": 2,
       "version_minor": 0
      },
      "text/plain": [
       "season:   0%|          | 0/4 [00:00<?, ?it/s]"
      ]
     },
     "metadata": {},
     "output_type": "display_data"
    }
   ],
   "source": [
    "varinfo = {'Temperature': {'long_name':'temperature', 'units':'degree C'},\n",
    "           'Salinity': {'long_name':'salinity', 'units':'PSU'},\n",
    "           'DIC': {'long_name':'dissolved inorganic carbon', 'units':'micro mol/kg'},\n",
    "           'TA': {'long_name':'total alkalinity', 'units':'micro mol/kg'},\n",
    "           'pH': {'long_name':'pH', 'units':''},\n",
    "           'pCO2': {'long_name':'seawater partial pressure of CO2', 'units':'micro atm'},\n",
    "           'fCO2': {'long_name':'seawater fugacity of CO2', 'units':'micro atm'},\n",
    "           'saturation_calcite': {'long_name':'calcite saturation state', 'units':''},\n",
    "           'saturation_aragonite':{'long_name':'aragonite saturation state', 'units':''}}\n",
    "\n",
    "# dictionary to collect interpolated data\n",
    "datavars = {}\n",
    "for vname in varinfo:\n",
    "    datavars[vname] = []\n",
    "    \n",
    "# interpolate data\n",
    "for season in notebook.tqdm(['winter','spring','summer','fall'], desc='season'):\n",
    "    df = df_surface[df_surface.season==season]\n",
    "    for vname in varinfo:\n",
    "        arr_data = griddata((df.Longitude, df.Latitude), df[vname], (lon,lat), method='linear')\n",
    "        datavars[vname].append(arr_data)\n",
    "\n",
    "# dictionary of data arrays\n",
    "vardict = {}\n",
    "seasons = range(1,5)\n",
    "for vname in varinfo:\n",
    "    data = np.stack(datavars[vname], axis=0)\n",
    "    da = xr.DataArray(data, coords={'season':seasons, 'lat':yy, 'lon':xx},\n",
    "                      attrs = varinfo[vname], name=vname)\n",
    "    vardict[vname] = da.where(da_mask)\n",
    "\n",
    "# create xarray DataSet and write it to netcdf file\n",
    "attrs = {'contents':'Seasonal interpolated surface data',\n",
    "         'seasons':'1 = winter (DJF), 2 = spring (MAM), 3 = summer (JJA), 4 = fall (SON)',\n",
    "         'history':'Created by Ivan Lima <ilima@whoi.edu> on {}'.format(datetime.datetime.now().ctime())}\n",
    "ds_surface_seasonal = xr.Dataset(vardict, attrs=attrs)\n",
    "ds_surface_seasonal.to_netcdf('data/bgc_surface_seasonal.nc', mode='w')"
   ]
  },
  {
   "cell_type": "markdown",
   "id": "2cbc242c-a19c-451a-a6b0-f9db750188cc",
   "metadata": {},
   "source": [
    "#### Interpolate bottom fields"
   ]
  },
  {
   "cell_type": "code",
   "execution_count": 13,
   "id": "2da4eb74-3012-4a9c-9ef3-ce463774e224",
   "metadata": {},
   "outputs": [
    {
     "data": {
      "application/vnd.jupyter.widget-view+json": {
       "model_id": "097a321d8cd54ff69c40ec08afbbe589",
       "version_major": 2,
       "version_minor": 0
      },
      "text/plain": [
       "season:   0%|          | 0/4 [00:00<?, ?it/s]"
      ]
     },
     "metadata": {},
     "output_type": "display_data"
    }
   ],
   "source": [
    "varinfo_bot = {'Temperature': {'long_name':'temperature', 'units':'degree C'},\n",
    "               'Salinity': {'long_name':'salinity', 'units':'PSU'},\n",
    "               'DIC': {'long_name':'dissolved inorganic carbon', 'units':'micro mol/kg'},\n",
    "               'TA': {'long_name':'total alkalinity', 'units':'micro mol/kg'},\n",
    "               'pH': {'long_name':'pH', 'units':''},\n",
    "               'saturation_calcite': {'long_name':'calcite saturation state', 'units':''},\n",
    "               'saturation_aragonite':{'long_name':'aragonite saturation state', 'units':''}}\n",
    "\n",
    "# dictionary to collect interpolated data\n",
    "datavars = {}\n",
    "for vname in varinfo_bot:\n",
    "    datavars[vname] = []\n",
    "    \n",
    "# interpolate data\n",
    "for season in notebook.tqdm(['winter','spring','summer','fall'], desc='season'):\n",
    "    df = df_bottom[df_bottom.season==season]\n",
    "    for vname in varinfo_bot:\n",
    "        arr_data = griddata((df.Longitude, df.Latitude), df[vname], (lon,lat), method='linear')\n",
    "        datavars[vname].append(arr_data)\n",
    "\n",
    "# dictionary of data arrays\n",
    "vardict = {}\n",
    "for vname in varinfo_bot:\n",
    "    data = np.stack(datavars[vname], axis=0)\n",
    "    da = xr.DataArray(data, coords={'season':seasons, 'lat':yy, 'lon':xx},\n",
    "                      attrs = varinfo[vname], name=vname)\n",
    "    vardict[vname] = da.where(da_mask)\n",
    "\n",
    "# create xarray DataSet and write it to netcdf file\n",
    "attrs = {'contents':'Seasonal interpolated bottom data',\n",
    "         'seasons':'1 = winter (DJF), 2 = spring (MAM), 3 = summer (JJA), 4 = fall (SON)',\n",
    "         'history':'Created by Ivan Lima <ilima@whoi.edu> on {}'.format(datetime.datetime.now().ctime())}\n",
    "ds_bottom_seasonal = xr.Dataset(vardict, attrs=attrs)\n",
    "ds_bottom_seasonal.to_netcdf('data/bgc_bottom_seasonal.nc', mode='w')"
   ]
  },
  {
   "cell_type": "markdown",
   "id": "21fd1975-59e2-4ada-adf3-f6f0998162f8",
   "metadata": {},
   "source": [
    "### Monthly fields"
   ]
  },
  {
   "cell_type": "markdown",
   "id": "d996ca2c-4289-412f-954a-f71f2be53869",
   "metadata": {},
   "source": [
    "#### Interpolate surface fields"
   ]
  },
  {
   "cell_type": "code",
   "execution_count": 14,
   "id": "89a93fb4-0766-4eed-b8b7-d2c41c675736",
   "metadata": {},
   "outputs": [
    {
     "data": {
      "application/vnd.jupyter.widget-view+json": {
       "model_id": "10f42478f3a5450fa257c8d4a8684209",
       "version_major": 2,
       "version_minor": 0
      },
      "text/plain": [
       "month:   0%|          | 0/12 [00:00<?, ?it/s]"
      ]
     },
     "metadata": {},
     "output_type": "display_data"
    }
   ],
   "source": [
    "# dictionary to collect interpolated data\n",
    "datavars = {}\n",
    "for vname in varinfo:\n",
    "    datavars[vname] = []\n",
    "    \n",
    "# interpolate data\n",
    "months = range(1,13)\n",
    "for mon in notebook.tqdm(months, desc='month'):\n",
    "    df = df_surface[df_surface.Date.dt.month==mon]\n",
    "    for vname in varinfo:\n",
    "        arr_data = griddata((df.Longitude, df.Latitude), df[vname], (lon,lat), method='linear')\n",
    "        datavars[vname].append(arr_data)\n",
    "\n",
    "# dictionary of data arrays\n",
    "vardict = {}\n",
    "for vname in varinfo:\n",
    "    data = np.stack(datavars[vname], axis=0)\n",
    "    da = xr.DataArray(data, coords={'month':months, 'lat':yy, 'lon':xx},\n",
    "                      attrs = varinfo[vname], name=vname)\n",
    "    vardict[vname] = da.where(da_mask)\n",
    "\n",
    "# create xarray DataSet and write it to netcdf file\n",
    "attrs = {'contents':'Monthly interpolated surface data',\n",
    "         'history':'Created by Ivan Lima <ilima@whoi.edu> on {}'.format(datetime.datetime.now().ctime())}\n",
    "ds_surface_monthly = xr.Dataset(vardict, attrs=attrs)\n",
    "ds_surface_monthly.to_netcdf('data/bgc_surface_monthly.nc', mode='w')"
   ]
  },
  {
   "cell_type": "markdown",
   "id": "edd181d4-dbf9-4465-ac6a-18ddcc19018b",
   "metadata": {},
   "source": [
    "#### Interpolate bottom fields"
   ]
  },
  {
   "cell_type": "code",
   "execution_count": 15,
   "id": "ee84f757-d6d2-42cc-9d1a-7752eb5e9ebf",
   "metadata": {},
   "outputs": [
    {
     "data": {
      "application/vnd.jupyter.widget-view+json": {
       "model_id": "3b3924e2304b4252bcd744132c1d0813",
       "version_major": 2,
       "version_minor": 0
      },
      "text/plain": [
       "month:   0%|          | 0/12 [00:00<?, ?it/s]"
      ]
     },
     "metadata": {},
     "output_type": "display_data"
    }
   ],
   "source": [
    "# dictionary to collect interpolated data\n",
    "datavars = {}\n",
    "for vname in varinfo_bot:\n",
    "    datavars[vname] = []\n",
    "    \n",
    "# interpolate data\n",
    "for mon in notebook.tqdm(months, desc='month'):\n",
    "    df = df_bottom[df_bottom.Date.dt.month==mon]\n",
    "    for vname in varinfo_bot:\n",
    "        arr_data = griddata((df.Longitude, df.Latitude), df[vname], (lon,lat), method='linear')\n",
    "        datavars[vname].append(arr_data)\n",
    "\n",
    "# dictionary of data arrays\n",
    "vardict = {}\n",
    "for vname in varinfo_bot:\n",
    "    data = np.stack(datavars[vname], axis=0)\n",
    "    da = xr.DataArray(data, coords={'month':months, 'lat':yy, 'lon':xx},\n",
    "                      attrs = varinfo[vname], name=vname)\n",
    "    vardict[vname] = da.where(da_mask)\n",
    "\n",
    "# create xarray DataSet and write it to netcdf file\n",
    "attrs = {'contents':'Monthly interpolated bottom data',\n",
    "         'history':'Created by Ivan Lima <ilima@whoi.edu> on {}'.format(datetime.datetime.now().ctime())}\n",
    "ds_bottom_monthly = xr.Dataset(vardict, attrs=attrs)\n",
    "ds_bottom_monthly.to_netcdf('data/bgc_bottom_monthly.nc', mode='w')"
   ]
  }
 ],
 "metadata": {
  "kernelspec": {
   "display_name": "Python 3 (ipykernel)",
   "language": "python",
   "name": "python3"
  },
  "language_info": {
   "codemirror_mode": {
    "name": "ipython",
    "version": 3
   },
   "file_extension": ".py",
   "mimetype": "text/x-python",
   "name": "python",
   "nbconvert_exporter": "python",
   "pygments_lexer": "ipython3",
   "version": "3.9.7"
  },
  "widgets": {
   "application/vnd.jupyter.widget-state+json": {
    "state": {
     "0014c66951424547a0a2d485d600b529": {
      "model_module": "@jupyter-widgets/controls",
      "model_module_version": "1.5.0",
      "model_name": "DescriptionStyleModel",
      "state": {
       "description_width": ""
      }
     },
     "0638a5bc32a9492692e1e3b811e4fac1": {
      "model_module": "@jupyter-widgets/controls",
      "model_module_version": "1.5.0",
      "model_name": "DescriptionStyleModel",
      "state": {
       "description_width": ""
      }
     },
     "07ae7c1ce54f4bc38c0dcd1d045d9336": {
      "model_module": "@jupyter-widgets/base",
      "model_module_version": "1.2.0",
      "model_name": "LayoutModel",
      "state": {}
     },
     "083d39bba2494c088a23ba35edfdb124": {
      "model_module": "@jupyter-widgets/base",
      "model_module_version": "1.2.0",
      "model_name": "LayoutModel",
      "state": {}
     },
     "097a321d8cd54ff69c40ec08afbbe589": {
      "model_module": "@jupyter-widgets/controls",
      "model_module_version": "1.5.0",
      "model_name": "HBoxModel",
      "state": {
       "children": [
        "IPY_MODEL_82c7d135670b446e9d5f542e5d4c073c",
        "IPY_MODEL_389474ce8f3949629f7d63718b8ac2bb",
        "IPY_MODEL_84c862ace53e4e569ddc8c540dfb2fd7"
       ],
       "layout": "IPY_MODEL_f1bf7708e4094f08a3e7a683b07291fc"
      }
     },
     "10f42478f3a5450fa257c8d4a8684209": {
      "model_module": "@jupyter-widgets/controls",
      "model_module_version": "1.5.0",
      "model_name": "HBoxModel",
      "state": {
       "children": [
        "IPY_MODEL_bbdc5058195d4c37a4d14af8cc86b4b0",
        "IPY_MODEL_eda85dd8180e4bebadaf92bec2b2c26f",
        "IPY_MODEL_d32496f480cf47298ab0ecf70b8b9f24"
       ],
       "layout": "IPY_MODEL_17d7a1ccfb4240d1915a41eda613b899"
      }
     },
     "168ef9c4f3f2458eb1dfab484ec0690e": {
      "model_module": "@jupyter-widgets/base",
      "model_module_version": "1.2.0",
      "model_name": "LayoutModel",
      "state": {}
     },
     "179ae39c58ff4e2eb866b4520c429acd": {
      "model_module": "@jupyter-widgets/controls",
      "model_module_version": "1.5.0",
      "model_name": "ProgressStyleModel",
      "state": {
       "description_width": ""
      }
     },
     "17d7a1ccfb4240d1915a41eda613b899": {
      "model_module": "@jupyter-widgets/base",
      "model_module_version": "1.2.0",
      "model_name": "LayoutModel",
      "state": {}
     },
     "2b5e29870af4409787188701febd5106": {
      "model_module": "@jupyter-widgets/controls",
      "model_module_version": "1.5.0",
      "model_name": "HTMLModel",
      "state": {
       "layout": "IPY_MODEL_d7bf76fd9ac14cff839ce59b847f778a",
       "style": "IPY_MODEL_a7b95ec4fc7440c7a6da764dba147b9b",
       "value": " 12/12 [00:14&lt;00:00,  1.39s/it]"
      }
     },
     "2f326d0037fd478ea1aa288e04405ad1": {
      "model_module": "@jupyter-widgets/controls",
      "model_module_version": "1.5.0",
      "model_name": "FloatProgressModel",
      "state": {
       "bar_style": "success",
       "layout": "IPY_MODEL_7f43bbba7d404063b405cf8de06fb649",
       "max": 4,
       "style": "IPY_MODEL_fbebc3d62dd0472bb68e800f520f1859",
       "value": 4
      }
     },
     "31c98285f51a4069bbd7708c22f0fdb6": {
      "model_module": "@jupyter-widgets/base",
      "model_module_version": "1.2.0",
      "model_name": "LayoutModel",
      "state": {}
     },
     "342e0e46beae49cd8162c6dcde301312": {
      "model_module": "@jupyter-widgets/controls",
      "model_module_version": "1.5.0",
      "model_name": "ProgressStyleModel",
      "state": {
       "description_width": ""
      }
     },
     "34d21b744cc94e4fa20f18a343b8c7f6": {
      "model_module": "@jupyter-widgets/base",
      "model_module_version": "1.2.0",
      "model_name": "LayoutModel",
      "state": {}
     },
     "389474ce8f3949629f7d63718b8ac2bb": {
      "model_module": "@jupyter-widgets/controls",
      "model_module_version": "1.5.0",
      "model_name": "FloatProgressModel",
      "state": {
       "bar_style": "success",
       "layout": "IPY_MODEL_4a5e07f4098042009cfd74317712f36f",
       "max": 4,
       "style": "IPY_MODEL_342e0e46beae49cd8162c6dcde301312",
       "value": 4
      }
     },
     "3b3924e2304b4252bcd744132c1d0813": {
      "model_module": "@jupyter-widgets/controls",
      "model_module_version": "1.5.0",
      "model_name": "HBoxModel",
      "state": {
       "children": [
        "IPY_MODEL_a7be1841eee5470ca00b3539acf11465",
        "IPY_MODEL_582eb729348a4a0ab282873bce55e2fe",
        "IPY_MODEL_2b5e29870af4409787188701febd5106"
       ],
       "layout": "IPY_MODEL_b7b5e0c81f674566905cee7afb2fcac2"
      }
     },
     "4276bc8920aa4be29621a23102db9f48": {
      "model_module": "@jupyter-widgets/controls",
      "model_module_version": "1.5.0",
      "model_name": "DescriptionStyleModel",
      "state": {
       "description_width": ""
      }
     },
     "4a5e07f4098042009cfd74317712f36f": {
      "model_module": "@jupyter-widgets/base",
      "model_module_version": "1.2.0",
      "model_name": "LayoutModel",
      "state": {}
     },
     "5422d5307d34482fb2ba6ec9aed42e17": {
      "model_module": "@jupyter-widgets/controls",
      "model_module_version": "1.5.0",
      "model_name": "HBoxModel",
      "state": {
       "children": [
        "IPY_MODEL_b8e0b6e77b7e4ff9a459a62b55206281",
        "IPY_MODEL_2f326d0037fd478ea1aa288e04405ad1",
        "IPY_MODEL_ef4edf212765417996de55cefee53b78"
       ],
       "layout": "IPY_MODEL_74e7d428544e4d4b9b3b9e925fffcbe7"
      }
     },
     "57054ce3ad1944a0af26337668204763": {
      "model_module": "@jupyter-widgets/controls",
      "model_module_version": "1.5.0",
      "model_name": "DescriptionStyleModel",
      "state": {
       "description_width": ""
      }
     },
     "582eb729348a4a0ab282873bce55e2fe": {
      "model_module": "@jupyter-widgets/controls",
      "model_module_version": "1.5.0",
      "model_name": "FloatProgressModel",
      "state": {
       "bar_style": "success",
       "layout": "IPY_MODEL_168ef9c4f3f2458eb1dfab484ec0690e",
       "max": 12,
       "style": "IPY_MODEL_e1de6f0a1ac84c408c6b0c168146ca7f",
       "value": 12
      }
     },
     "65f38a1e9eb3443b8962c9f50f25e60a": {
      "model_module": "@jupyter-widgets/base",
      "model_module_version": "1.2.0",
      "model_name": "LayoutModel",
      "state": {}
     },
     "74e7d428544e4d4b9b3b9e925fffcbe7": {
      "model_module": "@jupyter-widgets/base",
      "model_module_version": "1.2.0",
      "model_name": "LayoutModel",
      "state": {}
     },
     "7f43bbba7d404063b405cf8de06fb649": {
      "model_module": "@jupyter-widgets/base",
      "model_module_version": "1.2.0",
      "model_name": "LayoutModel",
      "state": {}
     },
     "82c7d135670b446e9d5f542e5d4c073c": {
      "model_module": "@jupyter-widgets/controls",
      "model_module_version": "1.5.0",
      "model_name": "HTMLModel",
      "state": {
       "layout": "IPY_MODEL_34d21b744cc94e4fa20f18a343b8c7f6",
       "style": "IPY_MODEL_d4d8305d397641a8bcf920c113c571a8",
       "value": "season: 100%"
      }
     },
     "84c862ace53e4e569ddc8c540dfb2fd7": {
      "model_module": "@jupyter-widgets/controls",
      "model_module_version": "1.5.0",
      "model_name": "HTMLModel",
      "state": {
       "layout": "IPY_MODEL_dae1227cce904ee88fb40f7318cbfd64",
       "style": "IPY_MODEL_4276bc8920aa4be29621a23102db9f48",
       "value": " 4/4 [00:16&lt;00:00,  5.36s/it]"
      }
     },
     "8f5133067f084bf19ea68a7dfc6a91da": {
      "model_module": "@jupyter-widgets/controls",
      "model_module_version": "1.5.0",
      "model_name": "DescriptionStyleModel",
      "state": {
       "description_width": ""
      }
     },
     "a7b95ec4fc7440c7a6da764dba147b9b": {
      "model_module": "@jupyter-widgets/controls",
      "model_module_version": "1.5.0",
      "model_name": "DescriptionStyleModel",
      "state": {
       "description_width": ""
      }
     },
     "a7be1841eee5470ca00b3539acf11465": {
      "model_module": "@jupyter-widgets/controls",
      "model_module_version": "1.5.0",
      "model_name": "HTMLModel",
      "state": {
       "layout": "IPY_MODEL_65f38a1e9eb3443b8962c9f50f25e60a",
       "style": "IPY_MODEL_0014c66951424547a0a2d485d600b529",
       "value": "month: 100%"
      }
     },
     "b7b5e0c81f674566905cee7afb2fcac2": {
      "model_module": "@jupyter-widgets/base",
      "model_module_version": "1.2.0",
      "model_name": "LayoutModel",
      "state": {}
     },
     "b8e0b6e77b7e4ff9a459a62b55206281": {
      "model_module": "@jupyter-widgets/controls",
      "model_module_version": "1.5.0",
      "model_name": "HTMLModel",
      "state": {
       "layout": "IPY_MODEL_31c98285f51a4069bbd7708c22f0fdb6",
       "style": "IPY_MODEL_57054ce3ad1944a0af26337668204763",
       "value": "season: 100%"
      }
     },
     "bbdc5058195d4c37a4d14af8cc86b4b0": {
      "model_module": "@jupyter-widgets/controls",
      "model_module_version": "1.5.0",
      "model_name": "HTMLModel",
      "state": {
       "layout": "IPY_MODEL_083d39bba2494c088a23ba35edfdb124",
       "style": "IPY_MODEL_db538d35024f4146b948e337f63a3adc",
       "value": "month: 100%"
      }
     },
     "c9bfd8e561c44fb2a4ad22219b4a5677": {
      "model_module": "@jupyter-widgets/base",
      "model_module_version": "1.2.0",
      "model_name": "LayoutModel",
      "state": {}
     },
     "d32496f480cf47298ab0ecf70b8b9f24": {
      "model_module": "@jupyter-widgets/controls",
      "model_module_version": "1.5.0",
      "model_name": "HTMLModel",
      "state": {
       "layout": "IPY_MODEL_c9bfd8e561c44fb2a4ad22219b4a5677",
       "style": "IPY_MODEL_8f5133067f084bf19ea68a7dfc6a91da",
       "value": " 12/12 [00:16&lt;00:00,  1.53s/it]"
      }
     },
     "d4d8305d397641a8bcf920c113c571a8": {
      "model_module": "@jupyter-widgets/controls",
      "model_module_version": "1.5.0",
      "model_name": "DescriptionStyleModel",
      "state": {
       "description_width": ""
      }
     },
     "d7bf76fd9ac14cff839ce59b847f778a": {
      "model_module": "@jupyter-widgets/base",
      "model_module_version": "1.2.0",
      "model_name": "LayoutModel",
      "state": {}
     },
     "dae1227cce904ee88fb40f7318cbfd64": {
      "model_module": "@jupyter-widgets/base",
      "model_module_version": "1.2.0",
      "model_name": "LayoutModel",
      "state": {}
     },
     "db538d35024f4146b948e337f63a3adc": {
      "model_module": "@jupyter-widgets/controls",
      "model_module_version": "1.5.0",
      "model_name": "DescriptionStyleModel",
      "state": {
       "description_width": ""
      }
     },
     "e1de6f0a1ac84c408c6b0c168146ca7f": {
      "model_module": "@jupyter-widgets/controls",
      "model_module_version": "1.5.0",
      "model_name": "ProgressStyleModel",
      "state": {
       "description_width": ""
      }
     },
     "e832db2a10ad4e07810dea26fc940820": {
      "model_module": "@jupyter-widgets/base",
      "model_module_version": "1.2.0",
      "model_name": "LayoutModel",
      "state": {}
     },
     "eda85dd8180e4bebadaf92bec2b2c26f": {
      "model_module": "@jupyter-widgets/controls",
      "model_module_version": "1.5.0",
      "model_name": "FloatProgressModel",
      "state": {
       "bar_style": "success",
       "layout": "IPY_MODEL_e832db2a10ad4e07810dea26fc940820",
       "max": 12,
       "style": "IPY_MODEL_179ae39c58ff4e2eb866b4520c429acd",
       "value": 12
      }
     },
     "ef4edf212765417996de55cefee53b78": {
      "model_module": "@jupyter-widgets/controls",
      "model_module_version": "1.5.0",
      "model_name": "HTMLModel",
      "state": {
       "layout": "IPY_MODEL_07ae7c1ce54f4bc38c0dcd1d045d9336",
       "style": "IPY_MODEL_0638a5bc32a9492692e1e3b811e4fac1",
       "value": " 4/4 [00:19&lt;00:00,  6.19s/it]"
      }
     },
     "f1bf7708e4094f08a3e7a683b07291fc": {
      "model_module": "@jupyter-widgets/base",
      "model_module_version": "1.2.0",
      "model_name": "LayoutModel",
      "state": {}
     },
     "fbebc3d62dd0472bb68e800f520f1859": {
      "model_module": "@jupyter-widgets/controls",
      "model_module_version": "1.5.0",
      "model_name": "ProgressStyleModel",
      "state": {
       "description_width": ""
      }
     }
    },
    "version_major": 2,
    "version_minor": 0
   }
  }
 },
 "nbformat": 4,
 "nbformat_minor": 5
}
