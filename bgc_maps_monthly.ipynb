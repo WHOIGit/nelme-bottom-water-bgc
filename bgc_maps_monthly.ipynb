{
 "cells": [
  {
   "cell_type": "markdown",
   "id": "b2033238-660f-4386-b0f7-221ec33a8d45",
   "metadata": {},
   "source": [
    "# Monthly maps of estimated DIC and total alkalinity\n",
    "Created by Ivan Lima on Wed Jan  5 2022 16:47:49 -0500"
   ]
  },
  {
   "cell_type": "code",
   "execution_count": null,
   "id": "d8be6fe2-3311-444e-bff6-9dbb0a090998",
   "metadata": {},
   "outputs": [],
   "source": [
    "import xarray as xr\n",
    "import numpy as np\n",
    "import holoviews as hv\n",
    "import hvplot.xarray, datetime\n",
    "from my_bokeh_themes import *\n",
    "print('Last updated on {}'.format(datetime.datetime.now().ctime()))"
   ]
  },
  {
   "cell_type": "markdown",
   "id": "cc5b9241-a4be-402d-98c0-76951d584b9d",
   "metadata": {},
   "source": [
    "## Read data"
   ]
  },
  {
   "cell_type": "code",
   "execution_count": null,
   "id": "97931277-121f-4080-88fa-30927983bbc8",
   "metadata": {},
   "outputs": [],
   "source": [
    "ds_surface = xr.open_dataset('data/bgc_surface_monthly.nc')\n",
    "ds_bottom = xr.open_dataset('data/bgc_bottom_monthly.nc')\n",
    "\n",
    "month_name = {1:'Jan', 2:'Feb', 3:'Mar', 4:'Apr', 5:'May', 6:'Jun',\n",
    "              7:'Jul', 8:'Aug', 9:'Sep', 10:'Oct', 11:'Nov', 12:'Dec'}\n",
    "\n",
    "def plot_maps(ds, vname, title, cmap='bmw'):\n",
    "    \"\"\"Plot monthly maps of given variable\"\"\"\n",
    "    pmaps = hv.Layout()\n",
    "    for mon in range(1,13):\n",
    "        p = ds[vname].sel(month=mon).hvplot(geo=True, coastline='50m', features={'land':'50m'},\n",
    "                                            frame_width=300, cmap=cmap, clabel=ds[vname].units,\n",
    "                                            title='{} {} {}'.format(title, vname, month_name[mon]))\n",
    "        pmaps += p\n",
    "\n",
    "    return pmaps.cols(3)"
   ]
  },
  {
   "cell_type": "markdown",
   "id": "d1c1eb2c-353f-46d1-8d89-969b4f12f3e9",
   "metadata": {},
   "source": [
    "## Surface DIC"
   ]
  },
  {
   "cell_type": "code",
   "execution_count": null,
   "id": "323c6e00-5b74-4a87-a471-68e020e5fd2b",
   "metadata": {},
   "outputs": [],
   "source": [
    "plot_maps(ds_surface, 'DIC', 'Surface')"
   ]
  },
  {
   "cell_type": "markdown",
   "id": "d6b396fa-7456-4864-aa95-3e9c34560edd",
   "metadata": {},
   "source": [
    "## Bottom DIC"
   ]
  },
  {
   "cell_type": "code",
   "execution_count": null,
   "id": "9f90d893-c714-4ac7-b77f-2dd5771b5753",
   "metadata": {},
   "outputs": [],
   "source": [
    "plot_maps(ds_bottom, 'DIC', 'Bottom')"
   ]
  },
  {
   "cell_type": "markdown",
   "id": "ef4b9e02-61c2-480e-ae7c-7d692d1ddc7b",
   "metadata": {},
   "source": [
    "## Surface alkalinity"
   ]
  },
  {
   "cell_type": "code",
   "execution_count": null,
   "id": "12f66a16-2894-48f9-b0ae-6e472cc988a9",
   "metadata": {},
   "outputs": [],
   "source": [
    "plot_maps(ds_surface, 'TA', 'Surface')"
   ]
  },
  {
   "cell_type": "markdown",
   "id": "727df04a-e399-4fd8-8c1d-18c0921f36eb",
   "metadata": {},
   "source": [
    "## Bottom alkalinity"
   ]
  },
  {
   "cell_type": "code",
   "execution_count": null,
   "id": "70ae1e52-703b-4cfc-a67b-62c97d3b858c",
   "metadata": {},
   "outputs": [],
   "source": [
    "plot_maps(ds_bottom, 'TA', 'Bottom')"
   ]
  }
 ],
 "metadata": {
  "kernelspec": {
   "display_name": "Python 3 (ipykernel)",
   "language": "python",
   "name": "python3"
  },
  "language_info": {
   "codemirror_mode": {
    "name": "ipython",
    "version": 3
   },
   "file_extension": ".py",
   "mimetype": "text/x-python",
   "name": "python",
   "nbconvert_exporter": "python",
   "pygments_lexer": "ipython3",
   "version": "3.9.10"
  },
  "widgets": {
   "application/vnd.jupyter.widget-state+json": {
    "state": {},
    "version_major": 2,
    "version_minor": 0
   }
  }
 },
 "nbformat": 4,
 "nbformat_minor": 5
}
