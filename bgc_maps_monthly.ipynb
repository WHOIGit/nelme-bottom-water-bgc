{
 "cells": [
  {
   "cell_type": "markdown",
   "id": "b2033238-660f-4386-b0f7-221ec33a8d45",
   "metadata": {},
   "source": [
    "# Monthly maps of estimated DIC and total alkalinity\n",
    "Created by Ivan Lima on Wed Jan  5 2022 16:47:49 -0500"
   ]
  },
  {
   "cell_type": "code",
   "execution_count": null,
   "id": "d8be6fe2-3311-444e-bff6-9dbb0a090998",
   "metadata": {},
   "outputs": [],
   "source": [
    "import xarray as xr\n",
    "import numpy as np\n",
    "import holoviews as hv\n",
    "import hvplot.xarray, datetime\n",
    "from my_bokeh_themes import *\n",
    "print('Last updated on {}'.format(datetime.datetime.now().ctime()))"
   ]
  },
  {
   "cell_type": "markdown",
   "id": "cc5b9241-a4be-402d-98c0-76951d584b9d",
   "metadata": {},
   "source": [
    "## Read data"
   ]
  },
  {
   "cell_type": "code",
   "execution_count": null,
   "id": "97931277-121f-4080-88fa-30927983bbc8",
   "metadata": {},
   "outputs": [],
   "source": [
    "ds_surface = xr.open_dataset('data/bgc_surface_monthly.nc')\n",
    "ds_bottom = xr.open_dataset('data/bgc_bottom_monthly.nc')"
   ]
  },
  {
   "cell_type": "markdown",
   "id": "d1c1eb2c-353f-46d1-8d89-969b4f12f3e9",
   "metadata": {},
   "source": [
    "## Surface DIC"
   ]
  },
  {
   "cell_type": "code",
   "execution_count": null,
   "id": "751cdc38-22c0-4383-b320-6756cb36f57c",
   "metadata": {},
   "outputs": [],
   "source": [
    "month_name = {1:'Jan', 2:'Feb', 3:'Mar', 4:'Apr', 5:'May', 6:'Jun',\n",
    "              7:'Jul', 8:'Aug', 9:'Sep', 10:'Oct', 11:'Nov', 12:'Dec'}\n",
    "p_dic_surf = hv.Layout()\n",
    "for mon in range(1,13):\n",
    "    p = ds_surface.DIC.sel(month=mon).hvplot(geo=True, frame_width=300, cmap='bmy', coastline='50m',\n",
    "                                             features={'land':'50m'}, title='Surface DIC {}'.format(month_name[mon]))\n",
    "    p_dic_surf += p\n",
    "\n",
    "p_dic_surf.cols(3)"
   ]
  },
  {
   "cell_type": "markdown",
   "id": "d6b396fa-7456-4864-aa95-3e9c34560edd",
   "metadata": {},
   "source": [
    "## Bottom DIC"
   ]
  },
  {
   "cell_type": "code",
   "execution_count": null,
   "id": "cd682e3c-10d9-4198-a956-54731a98e17e",
   "metadata": {},
   "outputs": [],
   "source": [
    "p_dic_bottom = hv.Layout()\n",
    "for mon in range(1,13):\n",
    "    p = ds_bottom.DIC.sel(month=mon).hvplot(geo=True, frame_width=300, cmap='bmy', coastline='50m',\n",
    "                                            features={'land':'50m'}, title='Bottom DIC {}'.format(month_name[mon]))\n",
    "    p_dic_bottom += p\n",
    "\n",
    "p_dic_bottom.cols(3)"
   ]
  },
  {
   "cell_type": "markdown",
   "id": "ef4b9e02-61c2-480e-ae7c-7d692d1ddc7b",
   "metadata": {},
   "source": [
    "## Surface alkalinity"
   ]
  },
  {
   "cell_type": "code",
   "execution_count": null,
   "id": "0e8029ba-ebf7-4f6e-85f0-be48a6ddc08a",
   "metadata": {},
   "outputs": [],
   "source": [
    "p_alk_surf = hv.Layout()\n",
    "for mon in range(1,13):\n",
    "    p = ds_surface.TA.sel(month=mon).hvplot(geo=True, frame_width=300, cmap='bmy', coastline='50m',\n",
    "                                            features={'land':'50m'}, title='Surface TA {}'.format(month_name[mon]))\n",
    "    p_alk_surf += p\n",
    "\n",
    "p_alk_surf.cols(3)"
   ]
  },
  {
   "cell_type": "markdown",
   "id": "727df04a-e399-4fd8-8c1d-18c0921f36eb",
   "metadata": {},
   "source": [
    "## Bottom alkalinity"
   ]
  },
  {
   "cell_type": "code",
   "execution_count": null,
   "id": "f9e56891-44bb-4125-95f6-3eae17ce4d32",
   "metadata": {},
   "outputs": [],
   "source": [
    "p_alk_bottom = hv.Layout()\n",
    "for mon in range(1,13):\n",
    "    p = ds_bottom.TA.sel(month=mon).hvplot(geo=True, frame_width=300, cmap='bmy', coastline='50m',\n",
    "                                           features={'land':'50m'}, title='Bottom TA {}'.format(month_name[mon]))\n",
    "    p_alk_bottom += p\n",
    "\n",
    "p_alk_bottom.cols(3)"
   ]
  }
 ],
 "metadata": {
  "kernelspec": {
   "display_name": "Python 3 (ipykernel)",
   "language": "python",
   "name": "python3"
  },
  "language_info": {
   "codemirror_mode": {
    "name": "ipython",
    "version": 3
   },
   "file_extension": ".py",
   "mimetype": "text/x-python",
   "name": "python",
   "nbconvert_exporter": "python",
   "pygments_lexer": "ipython3",
   "version": "3.9.7"
  },
  "widgets": {
   "application/vnd.jupyter.widget-state+json": {
    "state": {},
    "version_major": 2,
    "version_minor": 0
   }
  }
 },
 "nbformat": 4,
 "nbformat_minor": 5
}
