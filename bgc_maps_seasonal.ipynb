{
 "cells": [
  {
   "cell_type": "markdown",
   "id": "31079604-1d9a-4998-b80b-4956b54a2c4e",
   "metadata": {},
   "source": [
    "# Seasonal maps of interpolated fields\n",
    "Created by Ivan Lima on Tue Dec 23 2021 10:10:53 -0500"
   ]
  },
  {
   "cell_type": "code",
   "execution_count": null,
   "id": "d8be6fe2-3311-444e-bff6-9dbb0a090998",
   "metadata": {},
   "outputs": [],
   "source": [
    "import xarray as xr\n",
    "import numpy as np\n",
    "import holoviews as hv\n",
    "import hvplot.xarray, datetime\n",
    "from my_bokeh_themes import *\n",
    "print('Last updated on {}'.format(datetime.datetime.now().ctime()))"
   ]
  },
  {
   "cell_type": "markdown",
   "id": "cc5b9241-a4be-402d-98c0-76951d584b9d",
   "metadata": {},
   "source": [
    "## Read data"
   ]
  },
  {
   "cell_type": "code",
   "execution_count": null,
   "id": "8bff1433-9fe5-4ca3-bd85-11642eb1309f",
   "metadata": {},
   "outputs": [],
   "source": [
    "ds_surface = xr.open_dataset('data/bgc_surface_seasonal.nc')\n",
    "ds_bottom = xr.open_dataset('data/bgc_bottom_seasonal.nc')\n",
    "\n",
    "season_names = {1:'winter',2:'spring',3:'summer',4:'fall'}\n",
    "\n",
    "def plot_maps(ds, vname, title, cmap='bmw'):\n",
    "    \"\"\"Plot seasonal maps of given variable\"\"\"\n",
    "    if vname == 'saturation_aragonite':\n",
    "        clim = (1, 3)\n",
    "    else:\n",
    "        clim = None\n",
    "    pmaps = hv.Layout()\n",
    "    for season in range(1,5):\n",
    "        p = ds[vname].sel(season=season).hvplot(geo=True, coastline='50m', features={'land':'50m'},\n",
    "                                                frame_width=300, cmap=cmap, clabel=ds[vname].units, clim=clim,\n",
    "                                                title='{} {} {}'.format(title, vname, season_names[season]))\n",
    "        pmaps += p\n",
    "\n",
    "    return pmaps.cols(2)"
   ]
  },
  {
   "cell_type": "markdown",
   "id": "d86bd387-e566-4c44-bffb-e3c30f5f79cc",
   "metadata": {},
   "source": [
    "## Temperature"
   ]
  },
  {
   "cell_type": "markdown",
   "id": "6fd762dd-755a-4919-b6f2-e22714340aea",
   "metadata": {},
   "source": [
    "### Surface"
   ]
  },
  {
   "cell_type": "code",
   "execution_count": null,
   "id": "a6d49246-f5f6-43b3-8a95-e8be46712de5",
   "metadata": {},
   "outputs": [],
   "source": [
    "plot_maps(ds_surface, 'Temperature', 'Surface', 'bmy')"
   ]
  },
  {
   "cell_type": "markdown",
   "id": "1f935154-84d4-417f-8b81-5122764f255a",
   "metadata": {},
   "source": [
    "### Bottom"
   ]
  },
  {
   "cell_type": "code",
   "execution_count": null,
   "id": "aee55154-bc06-4ba5-93cc-f5902a1c5947",
   "metadata": {},
   "outputs": [],
   "source": [
    "plot_maps(ds_bottom, 'Temperature', 'Bottom', 'bmy')"
   ]
  },
  {
   "cell_type": "markdown",
   "id": "7b9ade79-99f6-48f9-8b53-8f566188cc59",
   "metadata": {},
   "source": [
    "## Salinity"
   ]
  },
  {
   "cell_type": "markdown",
   "id": "3086bdb7-c78b-47bc-87f8-9137df272688",
   "metadata": {},
   "source": [
    "### Surface"
   ]
  },
  {
   "cell_type": "code",
   "execution_count": null,
   "id": "c988d83e-8163-4127-902f-4c910e819fe0",
   "metadata": {},
   "outputs": [],
   "source": [
    "plot_maps(ds_surface, 'Salinity', 'Surface', 'bgy')"
   ]
  },
  {
   "cell_type": "markdown",
   "id": "27b0f182-445a-41a2-a3f9-695a9422052a",
   "metadata": {},
   "source": [
    "### Bottom"
   ]
  },
  {
   "cell_type": "code",
   "execution_count": null,
   "id": "f242766b-d057-4fcd-be1d-905e0016909c",
   "metadata": {},
   "outputs": [],
   "source": [
    "plot_maps(ds_bottom, 'Salinity', 'Bottom', 'bgy')"
   ]
  },
  {
   "cell_type": "markdown",
   "id": "4509d435-90d9-4cfd-9aca-964eeeeb1951",
   "metadata": {},
   "source": [
    "## DIC"
   ]
  },
  {
   "cell_type": "markdown",
   "id": "57aa78c7-28d9-4205-9179-e97896dc32b7",
   "metadata": {},
   "source": [
    "### Surface"
   ]
  },
  {
   "cell_type": "code",
   "execution_count": null,
   "id": "620955a8-6e48-478a-b260-36b6bc5cd604",
   "metadata": {},
   "outputs": [],
   "source": [
    "p_dic_surf = plot_maps(ds_surface, 'DIC', 'Surface')\n",
    "hvplot.save(p_dic_surf.cols(2), 'figures/map_surf_DIC.png') # save figure\n",
    "p_dic_surf.cols(2)"
   ]
  },
  {
   "cell_type": "markdown",
   "id": "92fad697-5446-41e1-8184-918ec3d79e30",
   "metadata": {},
   "source": [
    "### Bottom"
   ]
  },
  {
   "cell_type": "code",
   "execution_count": null,
   "id": "87e7543b-6088-44e1-bead-1ba975ca81c4",
   "metadata": {},
   "outputs": [],
   "source": [
    "plot_maps(ds_bottom, 'DIC', 'Bottom')"
   ]
  },
  {
   "cell_type": "markdown",
   "id": "219d6f01-39b3-4c39-9b24-1bec833ccb4f",
   "metadata": {},
   "source": [
    "## Alkalinity"
   ]
  },
  {
   "cell_type": "markdown",
   "id": "e96b660e-570a-402c-959e-128a110005f9",
   "metadata": {},
   "source": [
    "### Surface"
   ]
  },
  {
   "cell_type": "code",
   "execution_count": null,
   "id": "976fc2b1-37ed-4ab3-b2e4-2faf8d460448",
   "metadata": {},
   "outputs": [],
   "source": [
    "p_alk_surf = plot_maps(ds_surface, 'TA', 'Surface')\n",
    "hvplot.save(p_alk_surf.cols(2), 'figures/map_surf_TA.png') # save figure\n",
    "p_alk_surf.cols(2)"
   ]
  },
  {
   "cell_type": "markdown",
   "id": "597ef957-da6a-4f05-9f09-c510fd86064c",
   "metadata": {},
   "source": [
    "### Bottom"
   ]
  },
  {
   "cell_type": "code",
   "execution_count": null,
   "id": "f1d15660-b49c-43d0-99d4-099769c7d083",
   "metadata": {},
   "outputs": [],
   "source": [
    "plot_maps(ds_bottom, 'TA', 'Bottom')"
   ]
  },
  {
   "cell_type": "markdown",
   "id": "c2b30826-14fe-4ae9-b19b-1774133b24b5",
   "metadata": {},
   "source": [
    "## pH"
   ]
  },
  {
   "cell_type": "markdown",
   "id": "84dbf722-356c-4f09-bb6f-ed6b172faacb",
   "metadata": {},
   "source": [
    "### Surface"
   ]
  },
  {
   "cell_type": "code",
   "execution_count": null,
   "id": "c9e76b75-3f7e-4916-8fdb-e94074553962",
   "metadata": {},
   "outputs": [],
   "source": [
    "plot_maps(ds_surface, 'pH', 'Surface')"
   ]
  },
  {
   "cell_type": "markdown",
   "id": "659b71ce-406c-4031-a585-76a2e7704486",
   "metadata": {},
   "source": [
    "### Bottom"
   ]
  },
  {
   "cell_type": "code",
   "execution_count": null,
   "id": "60f3fbac-7f41-4988-a733-52120e5c5620",
   "metadata": {},
   "outputs": [],
   "source": [
    "plot_maps(ds_bottom, 'pH', 'Bottom')"
   ]
  },
  {
   "cell_type": "markdown",
   "id": "27842218-7651-40fb-aedc-0b1b1ef705f6",
   "metadata": {},
   "source": [
    "## Aragonite saturation"
   ]
  },
  {
   "cell_type": "markdown",
   "id": "25ad0a18-4d31-4fe0-a9a4-4e91c698a29e",
   "metadata": {},
   "source": [
    "### Surface"
   ]
  },
  {
   "cell_type": "code",
   "execution_count": null,
   "id": "80b448c7-c8c2-4333-8558-76131b754bb3",
   "metadata": {},
   "outputs": [],
   "source": [
    "plot_maps(ds_surface, 'saturation_aragonite', 'Surface')"
   ]
  },
  {
   "cell_type": "markdown",
   "id": "5e96f8ae-1829-408b-8fad-72936bcfda7b",
   "metadata": {},
   "source": [
    "### Bottom"
   ]
  },
  {
   "cell_type": "code",
   "execution_count": null,
   "id": "e8785fa0-bf1b-488d-8afa-1860a0b98b97",
   "metadata": {},
   "outputs": [],
   "source": [
    "plot_maps(ds_bottom, 'saturation_aragonite', 'Bottom')"
   ]
  },
  {
   "cell_type": "markdown",
   "id": "a8309d9b-c292-4a6c-ab24-39bf8c0ee937",
   "metadata": {},
   "source": [
    "## Surface pCO2"
   ]
  },
  {
   "cell_type": "code",
   "execution_count": null,
   "id": "00071f8e-d3a9-4ae9-9deb-fe4ea4446b93",
   "metadata": {},
   "outputs": [],
   "source": [
    "plot_maps(ds_surface, 'pCO2', 'Surface')"
   ]
  }
 ],
 "metadata": {
  "kernelspec": {
   "display_name": "Python 3 (ipykernel)",
   "language": "python",
   "name": "python3"
  },
  "language_info": {
   "codemirror_mode": {
    "name": "ipython",
    "version": 3
   },
   "file_extension": ".py",
   "mimetype": "text/x-python",
   "name": "python",
   "nbconvert_exporter": "python",
   "pygments_lexer": "ipython3",
   "version": "3.9.7"
  },
  "widgets": {
   "application/vnd.jupyter.widget-state+json": {
    "state": {},
    "version_major": 2,
    "version_minor": 0
   }
  }
 },
 "nbformat": 4,
 "nbformat_minor": 5
}
