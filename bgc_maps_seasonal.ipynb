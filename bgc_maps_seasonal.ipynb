{
 "cells": [
  {
   "cell_type": "markdown",
   "id": "31079604-1d9a-4998-b80b-4956b54a2c4e",
   "metadata": {},
   "source": [
    "# Seasonal maps of estimated DIC and total alkalinity\n",
    "Created by Ivan Lima on Tue Dec 23 2021 10:10:53 -0500"
   ]
  },
  {
   "cell_type": "code",
   "execution_count": null,
   "id": "d8be6fe2-3311-444e-bff6-9dbb0a090998",
   "metadata": {},
   "outputs": [],
   "source": [
    "import xarray as xr\n",
    "import numpy as np\n",
    "import holoviews as hv\n",
    "import hvplot.xarray, datetime\n",
    "from my_bokeh_themes import *\n",
    "print('Last updated on {}'.format(datetime.datetime.now().ctime()))"
   ]
  },
  {
   "cell_type": "markdown",
   "id": "cc5b9241-a4be-402d-98c0-76951d584b9d",
   "metadata": {},
   "source": [
    "## Read data"
   ]
  },
  {
   "cell_type": "code",
   "execution_count": null,
   "id": "97931277-121f-4080-88fa-30927983bbc8",
   "metadata": {},
   "outputs": [],
   "source": [
    "ds_surface = xr.open_dataset('data/bgc_surface_seasonal.nc')\n",
    "ds_bottom = xr.open_dataset('data/bgc_bottom_seasonal.nc')"
   ]
  },
  {
   "cell_type": "markdown",
   "id": "4509d435-90d9-4cfd-9aca-964eeeeb1951",
   "metadata": {},
   "source": [
    "## Surface DIC"
   ]
  },
  {
   "cell_type": "code",
   "execution_count": null,
   "id": "cfaaea14-ef5a-4609-b9aa-cfcb8b9bb56e",
   "metadata": {},
   "outputs": [],
   "source": [
    "season_names = {1:'winter',2:'spring',3:'summer',4:'fall'}\n",
    "p_dic_surf = hv.Layout()\n",
    "for season in range(1,5):\n",
    "    p = ds_surface.DIC.sel(season=season).hvplot(geo=True, coastline='50m', frame_width=300, cmap='bmy',\n",
    "                                                 features={'land':'50m'}, title='Surface DIC {}'.format(season_names[season]))\n",
    "    p_dic_surf += p\n",
    "\n",
    "p_dic_surf.cols(2)"
   ]
  },
  {
   "cell_type": "markdown",
   "id": "92fad697-5446-41e1-8184-918ec3d79e30",
   "metadata": {},
   "source": [
    "## Bottom DIC"
   ]
  },
  {
   "cell_type": "code",
   "execution_count": null,
   "id": "b353b9b2-9c87-43fc-af26-887d461d178b",
   "metadata": {},
   "outputs": [],
   "source": [
    "p_dic_bottom = hv.Layout()\n",
    "for season in range(1,5):\n",
    "    p = ds_bottom.DIC.sel(season=season).hvplot(geo=True, coastline='50m', frame_width=300, cmap='bmy',\n",
    "                                                features={'land':'50m'}, title='Bottom DIC {}'.format(season_names[season]))\n",
    "    p_dic_bottom += p\n",
    "\n",
    "p_dic_bottom.cols(2)"
   ]
  },
  {
   "cell_type": "markdown",
   "id": "219d6f01-39b3-4c39-9b24-1bec833ccb4f",
   "metadata": {},
   "source": [
    "## Surface alkalinity"
   ]
  },
  {
   "cell_type": "code",
   "execution_count": null,
   "id": "c5f1427e-1d01-4a12-95ec-cac3be945241",
   "metadata": {},
   "outputs": [],
   "source": [
    "p_alk_surf = hv.Layout()\n",
    "for season in range(1,5):\n",
    "    p = ds_surface.TA.sel(season=season).hvplot(geo=True, coastline='50m', frame_width=300, cmap='bmy',\n",
    "                                                features={'land':'50m'}, title='Surface TA {}'.format(season_names[season]))\n",
    "    p_alk_surf += p\n",
    "\n",
    "p_alk_surf.cols(2)"
   ]
  },
  {
   "cell_type": "markdown",
   "id": "597ef957-da6a-4f05-9f09-c510fd86064c",
   "metadata": {},
   "source": [
    "## Bottom alkalinity"
   ]
  },
  {
   "cell_type": "code",
   "execution_count": null,
   "id": "c5b6b4ae-6b0e-45e1-86a2-688679a0439c",
   "metadata": {},
   "outputs": [],
   "source": [
    "p_alk_bottom = hv.Layout()\n",
    "for season in range(1,5):\n",
    "    p = ds_bottom.TA.sel(season=season).hvplot(geo=True, coastline='50m', frame_width=300, cmap='bmy',\n",
    "                                               features={'land':'50m'}, title='Bottom TA {}'.format(season_names[season]))\n",
    "    p_alk_bottom += p\n",
    "\n",
    "p_alk_bottom.cols(2)"
   ]
  }
 ],
 "metadata": {
  "kernelspec": {
   "display_name": "Python 3 (ipykernel)",
   "language": "python",
   "name": "python3"
  },
  "language_info": {
   "codemirror_mode": {
    "name": "ipython",
    "version": 3
   },
   "file_extension": ".py",
   "mimetype": "text/x-python",
   "name": "python",
   "nbconvert_exporter": "python",
   "pygments_lexer": "ipython3",
   "version": "3.9.7"
  },
  "widgets": {
   "application/vnd.jupyter.widget-state+json": {
    "state": {},
    "version_major": 2,
    "version_minor": 0
   }
  }
 },
 "nbformat": 4,
 "nbformat_minor": 5
}
