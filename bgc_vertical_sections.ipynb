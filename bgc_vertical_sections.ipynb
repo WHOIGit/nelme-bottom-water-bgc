{
 "cells": [
  {
   "cell_type": "markdown",
   "id": "bcbb114f-5eaf-427b-9370-7c3f054cba7c",
   "metadata": {},
   "source": [
    "# Vertical sections of estimated DIC and total alkalinity\n",
    "Created by Ivan Lima on Tue Jan  4 2022 16:34:43 -0500"
   ]
  },
  {
   "cell_type": "code",
   "execution_count": null,
   "id": "312492aa-c8a4-43db-ac62-4fb0e6f2f00f",
   "metadata": {},
   "outputs": [],
   "source": [
    "import hvplot\n",
    "import pandas as pd\n",
    "import numpy as np\n",
    "import holoviews as hv\n",
    "import hvplot.pandas, datetime\n",
    "from my_bokeh_themes import *\n",
    "print('Last updated on {}'.format(datetime.datetime.now().ctime()))"
   ]
  },
  {
   "cell_type": "markdown",
   "id": "2b34c183-b990-4e96-9e94-5bc9be831232",
   "metadata": {},
   "source": [
    "## Read data"
   ]
  },
  {
   "cell_type": "code",
   "execution_count": null,
   "id": "2f6d5876-3588-4e1d-bc4c-0072a3534fe6",
   "metadata": {},
   "outputs": [],
   "source": [
    "df_wod = pd.read_hdf('data/bgc_all_2013-2019.h5', key='df_wod_bgc')\n",
    "df_wod.head()"
   ]
  },
  {
   "cell_type": "markdown",
   "id": "917a9784-e37c-46e5-9334-287f2b31a04a",
   "metadata": {},
   "source": [
    "## Seasonal distribution of data"
   ]
  },
  {
   "cell_type": "code",
   "execution_count": null,
   "id": "75ded9f6-fc0b-4b06-89ea-64cf585e54c6",
   "metadata": {},
   "outputs": [],
   "source": [
    "tiles='EsriImagery'\n",
    "p_surface = hv.Layout()\n",
    "for season in ['winter','spring','summer','fall']:\n",
    "    df = df_wod[df_wod.season==season]\n",
    "    p = df.hvplot.points('Longitude', 'Latitude', geo=True, xlabel='longitude', ylabel='latitude', clabel='Alkalinity',\n",
    "                         cmap='kbc', title='{}'.format(season.upper()), frame_width=400, rasterize=True, c='TA',\n",
    "                         colorbar=True, coastline='50m', features={'land':'50m'})\n",
    "    p_surface += p\n",
    "\n",
    "p_surface.cols(2)"
   ]
  },
  {
   "cell_type": "markdown",
   "id": "28859970-1c01-493c-9067-10a1a430d839",
   "metadata": {},
   "source": [
    "## Distribution of different types of data"
   ]
  },
  {
   "cell_type": "code",
   "execution_count": null,
   "id": "29294b87-cfae-4955-80ae-876483ef5496",
   "metadata": {},
   "outputs": [],
   "source": [
    "data_types = {1:'CTD', 2:'Glider', 3:'Float'}\n",
    "plist = hv.Layout()\n",
    "for t in sorted(data_types):\n",
    "    df = df_wod[df_wod.Platform_Type==t]\n",
    "    p = df.hvplot.points('Longitude', 'Latitude', geo=True, xlabel='longitude', ylabel='latitude', title='{} data'.format(data_types[t]),\n",
    "                         frame_height=450, rasterize=True, c='TA', clabel='Alkalinity', cmap='kbc', colorbar=True,\n",
    "                         coastline='50m', features={'land':'50m'})\n",
    "    plist += p\n",
    "\n",
    "plist.cols(2)"
   ]
  },
  {
   "cell_type": "markdown",
   "id": "87d4d5e2-d97e-43ab-81eb-3437e7792f9f",
   "metadata": {},
   "source": [
    "## Glider lines south of Cape Cod (Spring)"
   ]
  },
  {
   "cell_type": "code",
   "execution_count": null,
   "id": "cf11724d-6ee3-463e-8dae-7da146c50a1f",
   "metadata": {},
   "outputs": [],
   "source": [
    "df_glider = df_wod[df_wod.Platform_Type==2]\n",
    "df = df_glider[(df_glider.Cast > 17616000) & (df_glider.Cast < 17622000)]\n",
    "title = r'{} to {}'.format(df.Date.min().strftime('%F'), df.Date.max().strftime('%F'))\n",
    "df.hvplot.points('Longitude', 'Latitude', geo=True, xlabel='longitude', ylabel='latitude', title=title, tiles=tiles,\n",
    "                 frame_height=400, rasterize=False, c='TA', clabel='Alkalinity', cmap='kbc', colorbar=True,\n",
    "                 hover_cols=['Cast','Date'])"
   ]
  },
  {
   "cell_type": "code",
   "execution_count": null,
   "id": "3082c7c7-d03f-4ca7-b382-84a5781964b5",
   "metadata": {},
   "outputs": [],
   "source": [
    "varinfo = {\n",
    "    'Temperature': {\n",
    "        'units':'degree C',\n",
    "        'cmap':'bmy'},\n",
    "    'Salinity': {\n",
    "        'units':'g/kg',\n",
    "        'cmap':'bgy'},\n",
    "    'DIC': {\n",
    "        'units':'micro mol/kg',\n",
    "        'cmap':'bmw'},\n",
    "    'TA': {\n",
    "        'units':'micro mol/kg',\n",
    "        'cmap':'bmw'},\n",
    "    'pH': {\n",
    "        'units':'',\n",
    "        'cmap':'bmw'},\n",
    "    'saturation_aragonite': {\n",
    "        'units':'',\n",
    "        'cmap':'bmw'}\n",
    "}\n",
    "\n",
    "def get_distance(df_in):\n",
    "    \"\"\"Compute distance along track in Km from latitude and logitude\"\"\"\n",
    "    df = df_in.groupby('Cast').nth(0)\n",
    "    df['Distance'] = np.sqrt((df.Latitude.diff()*111.12)**2 + (df.Longitude.diff()*111.12)**2).fillna(0).cumsum()\n",
    "    df = df.reset_index()\n",
    "    return pd.merge(df_in, df[['Cast','Distance']], on=['Cast'], how='inner')\n",
    "\n",
    "def plot_sections(df, invert_x=True):\n",
    "    title = r'{} / {}'.format(\n",
    "        df.Date.min().strftime('%F'), df.Date.max().strftime('%F'))\n",
    "    m = df.hvplot.points('Longitude', 'Latitude', geo=True, xlabel='longitude', ylabel='latitude', title=title,\n",
    "                         tiles=tiles, frame_height=350, rasterize=False, c='red', hover_cols=['Cast','Date'], padding=(0.5, 0.25))\n",
    "    plist = hv.Layout()\n",
    "    for varname in ['Temperature', 'Salinity', 'DIC', 'TA', 'pH', 'saturation_aragonite']:\n",
    "        p = df.hvplot.scatter(x='Distance', y='Depth', color=varname, frame_width=400, aspect=1.1, xaxis='top',\n",
    "                              cmap=varinfo[varname]['cmap'], clabel=varinfo[varname]['units'], padding=0.025,\n",
    "                              title='{} ({})'.format(varname,title)).opts(invert_xaxis=invert_x, invert_yaxis=True)\n",
    "        plist += p\n",
    "\n",
    "    return (plist + m).opts(shared_axes=False).cols(2)"
   ]
  },
  {
   "cell_type": "code",
   "execution_count": null,
   "id": "07e2ae86-2e4f-4faa-a151-6a75375956e6",
   "metadata": {},
   "outputs": [],
   "source": [
    "df_sec1 = df_glider[(df_glider.Cast > 17616000) & (df_glider.Cast < 17619000)]\n",
    "df_sec1 = get_distance(df_sec1)\n",
    "plot_sections(df_sec1)"
   ]
  },
  {
   "cell_type": "code",
   "execution_count": null,
   "id": "111c53bd-aa79-4bbf-941a-742a690b5737",
   "metadata": {},
   "outputs": [],
   "source": [
    "df_sec2 = df_glider[(df_glider.Cast > 17619000) & (df_glider.Cast < 17620700)]\n",
    "df_sec2 = get_distance(df_sec2)\n",
    "psec2 = plot_sections(df_sec2, invert_x=False)\n",
    "psec2"
   ]
  },
  {
   "cell_type": "code",
   "execution_count": null,
   "id": "bbf0b9c5-63e6-466d-9d2e-a6efca3d5509",
   "metadata": {},
   "outputs": [],
   "source": [
    "hvplot.save(psec2, 'figures/section_02.png') # save figure\n",
    "# hv.save(psec2, 'figures/section_02.png', fmt='png')"
   ]
  },
  {
   "cell_type": "code",
   "execution_count": null,
   "id": "952b92ae-088d-4bda-8981-53c81c88248d",
   "metadata": {},
   "outputs": [],
   "source": [
    "df_sec3 = df_glider[(df_glider.Cast > 17620700) & (df_glider.Cast < 17622000)]\n",
    "df_sec3 = get_distance(df_sec3)\n",
    "plot_sections(df_sec3)"
   ]
  },
  {
   "cell_type": "markdown",
   "id": "d0b48293-daf1-4736-898f-b16f5e6f1bf6",
   "metadata": {},
   "source": [
    "## Glider lines south of Cape Cod (Winter)"
   ]
  },
  {
   "cell_type": "code",
   "execution_count": null,
   "id": "2c4d562c-6a51-452d-8696-8960ecb76f2e",
   "metadata": {},
   "outputs": [],
   "source": [
    "df = df_glider[df_glider.season=='winter']\n",
    "df = df[(df.Latitude<42) & (df.Latitude>39.5)]\n",
    "\n",
    "df.hvplot.points('Longitude', 'Latitude', geo=True, xlabel='longitude', ylabel='latitude', title='Glider data',\n",
    "                 tiles=tiles, frame_height=450, rasterize=False, c='TA', clabel='Alkalinity', cmap='kbc', colorbar=True,\n",
    "                 hover_cols=['Cast','Date'], padding=(1, 0.5))"
   ]
  },
  {
   "cell_type": "code",
   "execution_count": null,
   "id": "675d0d6d-7a0c-42bc-a5a9-d0dcc9a07f8b",
   "metadata": {},
   "outputs": [],
   "source": [
    "df_sec4 = df_glider[(df_glider.Cast >= 17606420) & (df_glider.Cast <= 17607136)]\n",
    "df_sec4 = get_distance(df_sec4)\n",
    "plot_sections(df_sec4)"
   ]
  },
  {
   "cell_type": "code",
   "execution_count": null,
   "id": "624d6d82-cc92-41a5-9258-7f03bb7e437f",
   "metadata": {},
   "outputs": [],
   "source": [
    "df_sec5 = df_glider[(df_glider.Cast >= 19106253) & (df_glider.Cast <= 19106618)]\n",
    "df_sec5 = get_distance(df_sec5)\n",
    "plot_sections(df_sec5)"
   ]
  },
  {
   "cell_type": "markdown",
   "id": "3eddabe4-5d0b-410d-a9d3-bdd9b6c04f4a",
   "metadata": {},
   "source": [
    "## Glider lines south of Cape Cod (Summer)"
   ]
  },
  {
   "cell_type": "code",
   "execution_count": null,
   "id": "66b0374b-1133-480f-89c0-3bf301f62eda",
   "metadata": {},
   "outputs": [],
   "source": [
    "df_sec6 = df_glider[(df_glider.Cast >= 20344520) & (df_glider.Cast <= 20345580)]\n",
    "df_sec6 = get_distance(df_sec6)\n",
    "plot_sections(df_sec6, invert_x=False)"
   ]
  },
  {
   "cell_type": "code",
   "execution_count": null,
   "id": "485c52ed-1f52-4632-8774-4a16e60c1977",
   "metadata": {},
   "outputs": [],
   "source": [
    "df_sec7 = df_glider[(df_glider.Cast >= 18941091) & (df_glider.Cast <= 18941796)]\n",
    "df_sec7 = df_sec7[df_sec7.Latitude>38]\n",
    "df_sec7 = get_distance(df_sec7)\n",
    "plot_sections(df_sec7)"
   ]
  },
  {
   "cell_type": "code",
   "execution_count": null,
   "id": "710c239c-81ec-4f11-bf2f-5097371aa9c9",
   "metadata": {},
   "outputs": [],
   "source": [
    "df_sec8 = df_glider[(df_glider.Cast >= 19650104) & (df_glider.Cast <= 19650909)]\n",
    "df_sec8 = get_distance(df_sec8)\n",
    "plot_sections(df_sec8)"
   ]
  },
  {
   "cell_type": "code",
   "execution_count": null,
   "id": "024fceef-6878-4724-ad9e-c79a11c17473",
   "metadata": {},
   "outputs": [],
   "source": [
    "# df_sec9 = df_wod[(df_wod.Cast >= 16611177) & (df_wod.Cast <= 16612991)]\n",
    "# df_sec9 = df_sec9[(df_sec9.Latitude<42) & (df_sec9.Latitude>40)]\n",
    "# df_sec9 = get_distance(df_sec9)\n",
    "# plot_sections(df_sec9, invert_x=False)"
   ]
  },
  {
   "cell_type": "code",
   "execution_count": null,
   "id": "79b2f7a4-4ab7-4b0f-944f-a0bcad635910",
   "metadata": {},
   "outputs": [],
   "source": [
    "df_summer = pd.concat([df_sec6, df_sec7, df_sec8])\n",
    "df_summer.hvplot.points('Longitude', 'Latitude', geo=True, xlabel='longitude', ylabel='latitude', title='Summer glider data',\n",
    "                        tiles=tiles, frame_height=450, rasterize=False, c='TA', clabel='Alkalinity', cmap='kbc', colorbar=True,\n",
    "                        hover_cols=['Cast','Date'])"
   ]
  },
  {
   "cell_type": "code",
   "execution_count": null,
   "id": "cb412a2e-949e-4ea3-b1a2-86004a48d511",
   "metadata": {},
   "outputs": [],
   "source": [
    "# df = df_glider[(df_glider.season=='summer') | (df_glider.season=='fall')]\n",
    "# # df = df_glider[df_glider.Date.dt.month.isin([6,7])]\n",
    "# df = df[(df.Latitude<42) & (df.Latitude>39.5) & (df.Longitude>-72)]\n",
    "# # df.hvplot.points('Longitude', 'Latitude', geo=True, xlabel='longitude', ylabel='latitude', title='Glider data',\n",
    "# #                  tiles=tiles, frame_height=450, rasterize=True, c='TA', clabel='Alkalinity', cmap='kbc', colorbar=True,\n",
    "# #                  hover_cols=['Cast','Date'])\n",
    "\n",
    "# df.Date.dt.year.hvplot.hist(frame_width=400, bins=50) + df.Cast.hvplot.hist(frame_width=400, bins=50)"
   ]
  }
 ],
 "metadata": {
  "kernelspec": {
   "display_name": "Python 3 (ipykernel)",
   "language": "python",
   "name": "python3"
  },
  "language_info": {
   "codemirror_mode": {
    "name": "ipython",
    "version": 3
   },
   "file_extension": ".py",
   "mimetype": "text/x-python",
   "name": "python",
   "nbconvert_exporter": "python",
   "pygments_lexer": "ipython3",
   "version": "3.9.7"
  },
  "widgets": {
   "application/vnd.jupyter.widget-state+json": {
    "state": {},
    "version_major": 2,
    "version_minor": 0
   }
  }
 },
 "nbformat": 4,
 "nbformat_minor": 5
}
