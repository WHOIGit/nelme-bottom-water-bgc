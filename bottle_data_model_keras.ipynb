{
 "cells": [
  {
   "cell_type": "markdown",
   "id": "f0cb6279-daed-41f1-8a8e-a1459344af42",
   "metadata": {},
   "source": [
    "# Neural Network model development with Keras\n",
    "Created by Ivan Lima on Mon Jun 13 2022 16:06:01 -0400"
   ]
  },
  {
   "cell_type": "code",
   "execution_count": 1,
   "id": "259c1ad6-12a7-45d9-a97b-ea17578e6148",
   "metadata": {},
   "outputs": [
    {
     "name": "stdout",
     "output_type": "stream",
     "text": [
      "Last updated on Tue Jul 25 12:46:24 2023\n"
     ]
    }
   ],
   "source": [
    "%matplotlib inline\n",
    "import pandas as pd\n",
    "import numpy as np\n",
    "import seaborn as sns\n",
    "import matplotlib.pyplot as plt\n",
    "import os, datetime, warnings\n",
    "print('Last updated on {}'.format(datetime.datetime.now().ctime()))"
   ]
  },
  {
   "cell_type": "code",
   "execution_count": 2,
   "id": "f8553199-54c8-4a5c-abc5-87d727920b2c",
   "metadata": {},
   "outputs": [],
   "source": [
    "import sns_settings\n",
    "sns.set_context('paper')\n",
    "pd.options.display.max_columns = 50\n",
    "warnings.filterwarnings('ignore')"
   ]
  },
  {
   "cell_type": "markdown",
   "id": "6bab6af2-bee1-4a5a-b342-f0965c3ed565",
   "metadata": {},
   "source": [
    "## Read merged bottle satellite data "
   ]
  },
  {
   "cell_type": "code",
   "execution_count": 3,
   "id": "e217fec0-5667-411c-bdbb-2290b8d688cb",
   "metadata": {},
   "outputs": [
    {
     "name": "stdout",
     "output_type": "stream",
     "text": [
      "<class 'pandas.core.frame.DataFrame'>\n",
      "Int64Index: 3623 entries, 0 to 3779\n",
      "Data columns (total 35 columns):\n",
      " #   Column         Non-Null Count  Dtype         \n",
      "---  ------         --------------  -----         \n",
      " 0   EXPOCODE       2488 non-null   object        \n",
      " 1   Accession      1124 non-null   float64       \n",
      " 2   Cruise_ID      3044 non-null   object        \n",
      " 3   Date           3623 non-null   datetime64[ns]\n",
      " 4   Year           3623 non-null   int64         \n",
      " 5   Month          3623 non-null   int64         \n",
      " 6   Day            3623 non-null   int64         \n",
      " 7   Time_UTC       3543 non-null   object        \n",
      " 8   Latitude       3623 non-null   float64       \n",
      " 9   Longitude      3623 non-null   float64       \n",
      " 10  Depth          3623 non-null   float64       \n",
      " 11  Salinity       3623 non-null   float64       \n",
      " 12  Temperature    3623 non-null   float64       \n",
      " 13  Oxygen         3533 non-null   float64       \n",
      " 14  DIC            3623 non-null   float64       \n",
      " 15  DIC_FLAG       3329 non-null   float64       \n",
      " 16  TA             3623 non-null   float64       \n",
      " 17  TA_FLAG        3329 non-null   float64       \n",
      " 18  pCO2_yearave   2600 non-null   float64       \n",
      " 19  pCO2_monthave  3623 non-null   float64       \n",
      " 20  bottom_depth   3623 non-null   float64       \n",
      " 21  ADT            2600 non-null   float64       \n",
      " 22  UGOS           2600 non-null   float64       \n",
      " 23  VGOS           2600 non-null   float64       \n",
      " 24  SLA            3623 non-null   float64       \n",
      " 25  UGOSA          2600 non-null   float64       \n",
      " 26  VGOSA          2600 non-null   float64       \n",
      " 27  SST            3623 non-null   float64       \n",
      " 28  SST_hires      3623 non-null   float64       \n",
      " 29  Chl            3623 non-null   float64       \n",
      " 30  KD490          3623 non-null   float64       \n",
      " 31  outlier        3623 non-null   bool          \n",
      " 32  log_Chl        3623 non-null   float64       \n",
      " 33  log_KD490      3623 non-null   float64       \n",
      " 34  Season         3623 non-null   float64       \n",
      "dtypes: bool(1), datetime64[ns](1), float64(27), int64(3), object(3)\n",
      "memory usage: 994.2+ KB\n"
     ]
    }
   ],
   "source": [
    "df = pd.read_csv('data/bottle_satellite_data_clean.csv', parse_dates=['Date'], index_col=0)\n",
    "\n",
    "# add seasons\n",
    "df.loc[df.Date.dt.month.isin([1,2,12]),'Season'] = 0  # Winter\n",
    "df.loc[df.Date.dt.month.isin([3,4,5]),'Season'] = 1   # Spring\n",
    "df.loc[df.Date.dt.month.isin([6,7,8]),'Season'] = 2   # Summer\n",
    "df.loc[df.Date.dt.month.isin([9,10,11]),'Season'] = 3 # Fall \n",
    "\n",
    "df.info()"
   ]
  },
  {
   "cell_type": "code",
   "execution_count": 4,
   "id": "3cbc6b17-b097-434f-95dd-e06200b78471",
   "metadata": {},
   "outputs": [],
   "source": [
    "# def find_outliers(df, vname):\n",
    "#     cond = np.abs(df[vname] - df[vname].mean()) > 3 * df[vname].std()\n",
    "#     df.loc[cond, vname] = np.nan\n",
    "\n",
    "# for var in ['Temperature', 'Salinity', 'Oxygen', 'SLA', 'SST_hires', 'log_KD490']:\n",
    "#     find_outliers(df, var)"
   ]
  },
  {
   "cell_type": "markdown",
   "id": "9d65262c-52a2-4b1f-8c82-8dd4183fdb6d",
   "metadata": {},
   "source": [
    "## Select input features and split data into training and test sets "
   ]
  },
  {
   "cell_type": "code",
   "execution_count": 5,
   "id": "2c45ac46-c327-44c6-b615-daf793cd9a25",
   "metadata": {},
   "outputs": [
    {
     "data": {
      "text/plain": [
       "((3533, 9), (2649, 9), (884, 9), (2649, 2), (884, 2))"
      ]
     },
     "execution_count": 5,
     "metadata": {},
     "output_type": "execute_result"
    }
   ],
   "source": [
    "from sklearn.model_selection import train_test_split, cross_val_score\n",
    "\n",
    "# Set input and output variables\n",
    "features = ['Depth', 'bottom_depth', 'Temperature', 'Salinity', 'Oxygen', 'pCO2_monthave', 'SLA', 'SST_hires', 'log_KD490']\n",
    "# features = ['Depth', 'bottom_depth', 'Temperature', 'Salinity', 'pCO2_monthave', 'SLA', 'SST_hires', 'log_KD490']\n",
    "# features = ['Depth', 'bottom_depth', 'Temperature', 'Salinity', 'pCO2_monthave']\n",
    "# features = ['Depth', 'Temperature', 'Salinity', 'Oxygen', 'pCO2_monthave']\n",
    "# features = ['Depth', 'Temperature', 'Salinity', 'pCO2_monthave']\n",
    "targets  = ['DIC', 'TA']\n",
    "\n",
    "data = df[features + targets + ['Season']].dropna()\n",
    "\n",
    "X = data[features].values\n",
    "Y = data[targets].values\n",
    "\n",
    "# Split data into training and test sets\n",
    "X_train, X_test, Y_train, Y_test = train_test_split(X, Y, stratify=data.Season.values, random_state=42)\n",
    "\n",
    "X.shape, X_train.shape, X_test.shape, Y_train.shape, Y_test.shape"
   ]
  },
  {
   "cell_type": "code",
   "execution_count": 6,
   "id": "2a3fb809-2ed7-4558-a0a7-66c7ab02b459",
   "metadata": {},
   "outputs": [],
   "source": [
    "# from sklearn.preprocessing import StandardScaler\n",
    "\n",
    "# standardize/rescale data\n",
    "# scaler = StandardScaler().fit(X_train)\n",
    "# X_train_scaled = scaler.transform(X_train)\n",
    "# X_test_scaled = scaler.transform(X_test)\n",
    "# X_scaled = scaler.transform(X)"
   ]
  },
  {
   "cell_type": "markdown",
   "id": "c09a2595-8f75-4f88-8d68-5eeab6db1972",
   "metadata": {},
   "source": [
    "## Neural Network regression "
   ]
  },
  {
   "cell_type": "code",
   "execution_count": 7,
   "id": "a2a1fcca-f463-4f11-8d19-4e6f743792bd",
   "metadata": {},
   "outputs": [
    {
     "name": "stdout",
     "output_type": "stream",
     "text": [
      "Epoch 1/700\n"
     ]
    },
    {
     "name": "stderr",
     "output_type": "stream",
     "text": [
      "2023-07-25 12:46:27.023567: I tensorflow/core/platform/cpu_feature_guard.cc:151] This TensorFlow binary is optimized with oneAPI Deep Neural Network Library (oneDNN) to use the following CPU instructions in performance-critical operations:  SSE4.1 SSE4.2 AVX AVX2 FMA\n",
      "To enable them in other operations, rebuild TensorFlow with the appropriate compiler flags.\n"
     ]
    },
    {
     "name": "stdout",
     "output_type": "stream",
     "text": [
      "67/67 - 1s - loss: 4679211.5000 - val_loss: 4446044.0000 - 1s/epoch - 21ms/step\n",
      "Epoch 2/700\n",
      "67/67 - 0s - loss: 4656641.0000 - val_loss: 4340648.0000 - 191ms/epoch - 3ms/step\n",
      "Epoch 3/700\n",
      "67/67 - 0s - loss: 4611033.5000 - val_loss: 4252538.0000 - 190ms/epoch - 3ms/step\n",
      "Epoch 4/700\n",
      "67/67 - 0s - loss: 4539815.5000 - val_loss: 4297407.0000 - 190ms/epoch - 3ms/step\n",
      "Epoch 5/700\n",
      "67/67 - 0s - loss: 4442946.0000 - val_loss: 4281633.5000 - 194ms/epoch - 3ms/step\n",
      "Epoch 6/700\n",
      "67/67 - 0s - loss: 4322267.5000 - val_loss: 4195238.0000 - 193ms/epoch - 3ms/step\n",
      "Epoch 7/700\n",
      "67/67 - 0s - loss: 4180001.7500 - val_loss: 4062246.2500 - 198ms/epoch - 3ms/step\n",
      "Epoch 8/700\n",
      "67/67 - 0s - loss: 4018651.5000 - val_loss: 3902093.0000 - 196ms/epoch - 3ms/step\n",
      "Epoch 9/700\n",
      "67/67 - 0s - loss: 3840853.7500 - val_loss: 3716772.5000 - 192ms/epoch - 3ms/step\n",
      "Epoch 10/700\n",
      "67/67 - 0s - loss: 3649302.0000 - val_loss: 3539334.0000 - 194ms/epoch - 3ms/step\n",
      "Epoch 11/700\n",
      "67/67 - 0s - loss: 3446564.0000 - val_loss: 3321121.2500 - 192ms/epoch - 3ms/step\n",
      "Epoch 12/700\n",
      "67/67 - 0s - loss: 3235448.7500 - val_loss: 3111167.0000 - 193ms/epoch - 3ms/step\n",
      "Epoch 13/700\n",
      "67/67 - 0s - loss: 3018545.5000 - val_loss: 2896888.5000 - 192ms/epoch - 3ms/step\n",
      "Epoch 14/700\n",
      "67/67 - 0s - loss: 2798494.7500 - val_loss: 2680492.2500 - 196ms/epoch - 3ms/step\n",
      "Epoch 15/700\n",
      "67/67 - 0s - loss: 2577601.7500 - val_loss: 2459693.7500 - 192ms/epoch - 3ms/step\n",
      "Epoch 16/700\n",
      "67/67 - 0s - loss: 2358463.7500 - val_loss: 2237017.0000 - 192ms/epoch - 3ms/step\n",
      "Epoch 17/700\n",
      "67/67 - 0s - loss: 2142991.7500 - val_loss: 2029241.7500 - 192ms/epoch - 3ms/step\n",
      "Epoch 18/700\n",
      "67/67 - 0s - loss: 1933235.1250 - val_loss: 1825556.6250 - 201ms/epoch - 3ms/step\n",
      "Epoch 19/700\n",
      "67/67 - 0s - loss: 1731063.0000 - val_loss: 1629774.3750 - 198ms/epoch - 3ms/step\n",
      "Epoch 20/700\n",
      "67/67 - 0s - loss: 1537929.1250 - val_loss: 1440942.6250 - 192ms/epoch - 3ms/step\n",
      "Epoch 21/700\n",
      "67/67 - 0s - loss: 1355301.7500 - val_loss: 1262447.2500 - 189ms/epoch - 3ms/step\n",
      "Epoch 22/700\n",
      "67/67 - 0s - loss: 1184225.2500 - val_loss: 1102272.0000 - 189ms/epoch - 3ms/step\n",
      "Epoch 23/700\n",
      "67/67 - 0s - loss: 1025524.0625 - val_loss: 948082.3750 - 189ms/epoch - 3ms/step\n",
      "Epoch 24/700\n",
      "67/67 - 0s - loss: 879764.8750 - val_loss: 814129.1875 - 191ms/epoch - 3ms/step\n",
      "Epoch 25/700\n",
      "67/67 - 0s - loss: 747435.2500 - val_loss: 683721.6250 - 193ms/epoch - 3ms/step\n",
      "Epoch 26/700\n",
      "67/67 - 0s - loss: 628452.2500 - val_loss: 571742.6875 - 189ms/epoch - 3ms/step\n",
      "Epoch 27/700\n",
      "67/67 - 0s - loss: 522723.3750 - val_loss: 471845.8438 - 190ms/epoch - 3ms/step\n",
      "Epoch 28/700\n",
      "67/67 - 0s - loss: 430049.0312 - val_loss: 388710.4375 - 189ms/epoch - 3ms/step\n",
      "Epoch 29/700\n",
      "67/67 - 0s - loss: 349646.7812 - val_loss: 316735.6250 - 195ms/epoch - 3ms/step\n",
      "Epoch 30/700\n",
      "67/67 - 0s - loss: 280760.6875 - val_loss: 250143.8594 - 195ms/epoch - 3ms/step\n",
      "Epoch 31/700\n",
      "67/67 - 0s - loss: 222621.2344 - val_loss: 194650.4375 - 195ms/epoch - 3ms/step\n",
      "Epoch 32/700\n",
      "67/67 - 0s - loss: 174274.4688 - val_loss: 152830.7656 - 186ms/epoch - 3ms/step\n",
      "Epoch 33/700\n",
      "67/67 - 0s - loss: 134646.3750 - val_loss: 117870.6953 - 184ms/epoch - 3ms/step\n",
      "Epoch 34/700\n",
      "67/67 - 0s - loss: 102610.6172 - val_loss: 87424.5703 - 185ms/epoch - 3ms/step\n",
      "Epoch 35/700\n",
      "67/67 - 0s - loss: 77214.2422 - val_loss: 66446.2812 - 192ms/epoch - 3ms/step\n",
      "Epoch 36/700\n",
      "67/67 - 0s - loss: 57310.8398 - val_loss: 49291.1328 - 193ms/epoch - 3ms/step\n",
      "Epoch 37/700\n",
      "67/67 - 0s - loss: 42013.1523 - val_loss: 35148.8008 - 194ms/epoch - 3ms/step\n",
      "Epoch 38/700\n",
      "67/67 - 0s - loss: 30436.0801 - val_loss: 25314.4668 - 200ms/epoch - 3ms/step\n",
      "Epoch 39/700\n",
      "67/67 - 0s - loss: 21748.2520 - val_loss: 17851.2793 - 195ms/epoch - 3ms/step\n",
      "Epoch 40/700\n",
      "67/67 - 0s - loss: 15488.5664 - val_loss: 12762.7363 - 205ms/epoch - 3ms/step\n",
      "Epoch 41/700\n",
      "67/67 - 0s - loss: 10884.2568 - val_loss: 8947.2695 - 197ms/epoch - 3ms/step\n",
      "Epoch 42/700\n",
      "67/67 - 0s - loss: 7639.0522 - val_loss: 6238.1392 - 193ms/epoch - 3ms/step\n",
      "Epoch 43/700\n",
      "67/67 - 0s - loss: 5332.9868 - val_loss: 4369.1460 - 191ms/epoch - 3ms/step\n",
      "Epoch 44/700\n",
      "67/67 - 0s - loss: 3809.5249 - val_loss: 2887.5688 - 195ms/epoch - 3ms/step\n",
      "Epoch 45/700\n",
      "67/67 - 0s - loss: 2741.7288 - val_loss: 2038.4109 - 194ms/epoch - 3ms/step\n",
      "Epoch 46/700\n",
      "67/67 - 0s - loss: 1967.7058 - val_loss: 1498.2445 - 193ms/epoch - 3ms/step\n",
      "Epoch 47/700\n",
      "67/67 - 0s - loss: 1477.0464 - val_loss: 934.8241 - 194ms/epoch - 3ms/step\n",
      "Epoch 48/700\n",
      "67/67 - 0s - loss: 1156.9729 - val_loss: 790.6910 - 197ms/epoch - 3ms/step\n",
      "Epoch 49/700\n",
      "67/67 - 0s - loss: 915.3809 - val_loss: 614.7402 - 191ms/epoch - 3ms/step\n",
      "Epoch 50/700\n",
      "67/67 - 0s - loss: 760.2518 - val_loss: 546.3282 - 196ms/epoch - 3ms/step\n",
      "Epoch 51/700\n",
      "67/67 - 0s - loss: 654.6657 - val_loss: 397.4357 - 190ms/epoch - 3ms/step\n",
      "Epoch 52/700\n",
      "67/67 - 0s - loss: 522.9399 - val_loss: 345.3274 - 189ms/epoch - 3ms/step\n",
      "Epoch 53/700\n",
      "67/67 - 0s - loss: 540.5439 - val_loss: 319.6197 - 208ms/epoch - 3ms/step\n",
      "Epoch 54/700\n",
      "67/67 - 0s - loss: 502.3101 - val_loss: 260.1101 - 189ms/epoch - 3ms/step\n",
      "Epoch 55/700\n",
      "67/67 - 0s - loss: 419.0728 - val_loss: 261.9327 - 183ms/epoch - 3ms/step\n",
      "Epoch 56/700\n",
      "67/67 - 0s - loss: 421.1430 - val_loss: 251.3329 - 186ms/epoch - 3ms/step\n",
      "Epoch 57/700\n",
      "67/67 - 0s - loss: 427.8652 - val_loss: 222.1836 - 188ms/epoch - 3ms/step\n",
      "Epoch 58/700\n",
      "67/67 - 0s - loss: 402.9917 - val_loss: 222.0362 - 185ms/epoch - 3ms/step\n",
      "Epoch 59/700\n",
      "67/67 - 0s - loss: 426.7775 - val_loss: 204.1406 - 189ms/epoch - 3ms/step\n",
      "Epoch 60/700\n",
      "67/67 - 0s - loss: 384.4865 - val_loss: 195.8145 - 191ms/epoch - 3ms/step\n",
      "Epoch 61/700\n",
      "67/67 - 0s - loss: 421.2718 - val_loss: 202.1205 - 189ms/epoch - 3ms/step\n",
      "Epoch 62/700\n",
      "67/67 - 0s - loss: 443.0948 - val_loss: 218.1171 - 189ms/epoch - 3ms/step\n",
      "Epoch 63/700\n",
      "67/67 - 0s - loss: 392.2185 - val_loss: 194.1433 - 190ms/epoch - 3ms/step\n",
      "Epoch 64/700\n",
      "67/67 - 0s - loss: 399.8666 - val_loss: 206.1007 - 192ms/epoch - 3ms/step\n",
      "Epoch 65/700\n",
      "67/67 - 0s - loss: 453.8885 - val_loss: 184.3536 - 196ms/epoch - 3ms/step\n",
      "Epoch 66/700\n",
      "67/67 - 0s - loss: 388.0816 - val_loss: 177.9704 - 189ms/epoch - 3ms/step\n",
      "Epoch 67/700\n",
      "67/67 - 0s - loss: 367.2224 - val_loss: 186.4342 - 198ms/epoch - 3ms/step\n",
      "Epoch 68/700\n",
      "67/67 - 0s - loss: 350.2964 - val_loss: 174.5009 - 197ms/epoch - 3ms/step\n",
      "Epoch 69/700\n",
      "67/67 - 0s - loss: 369.4626 - val_loss: 181.3528 - 188ms/epoch - 3ms/step\n",
      "Epoch 70/700\n",
      "67/67 - 0s - loss: 359.8483 - val_loss: 163.8526 - 187ms/epoch - 3ms/step\n",
      "Epoch 71/700\n",
      "67/67 - 0s - loss: 361.3047 - val_loss: 172.0877 - 190ms/epoch - 3ms/step\n",
      "Epoch 72/700\n",
      "67/67 - 0s - loss: 479.4492 - val_loss: 160.4655 - 196ms/epoch - 3ms/step\n",
      "Epoch 73/700\n",
      "67/67 - 0s - loss: 364.5466 - val_loss: 172.7290 - 193ms/epoch - 3ms/step\n",
      "Epoch 74/700\n",
      "67/67 - 0s - loss: 355.5311 - val_loss: 168.1391 - 194ms/epoch - 3ms/step\n",
      "Epoch 75/700\n",
      "67/67 - 0s - loss: 334.8880 - val_loss: 181.4222 - 194ms/epoch - 3ms/step\n",
      "Epoch 76/700\n",
      "67/67 - 0s - loss: 375.0553 - val_loss: 170.4259 - 193ms/epoch - 3ms/step\n",
      "Epoch 77/700\n",
      "67/67 - 0s - loss: 348.5648 - val_loss: 167.5676 - 191ms/epoch - 3ms/step\n",
      "Epoch 78/700\n",
      "67/67 - 0s - loss: 398.7157 - val_loss: 150.7833 - 194ms/epoch - 3ms/step\n",
      "Epoch 79/700\n",
      "67/67 - 0s - loss: 357.6320 - val_loss: 207.1729 - 192ms/epoch - 3ms/step\n",
      "Epoch 80/700\n",
      "67/67 - 0s - loss: 405.4651 - val_loss: 162.2807 - 193ms/epoch - 3ms/step\n",
      "Epoch 81/700\n",
      "67/67 - 0s - loss: 351.3460 - val_loss: 170.9511 - 194ms/epoch - 3ms/step\n",
      "Epoch 82/700\n",
      "67/67 - 0s - loss: 356.1310 - val_loss: 194.2054 - 191ms/epoch - 3ms/step\n",
      "Epoch 83/700\n",
      "67/67 - 0s - loss: 345.3476 - val_loss: 183.7395 - 192ms/epoch - 3ms/step\n",
      "Epoch 84/700\n",
      "67/67 - 0s - loss: 394.6724 - val_loss: 224.7821 - 190ms/epoch - 3ms/step\n",
      "Epoch 85/700\n",
      "67/67 - 0s - loss: 402.9589 - val_loss: 189.8849 - 191ms/epoch - 3ms/step\n",
      "Epoch 86/700\n",
      "67/67 - 0s - loss: 345.6071 - val_loss: 145.1703 - 192ms/epoch - 3ms/step\n",
      "Epoch 87/700\n",
      "67/67 - 0s - loss: 406.2355 - val_loss: 197.1357 - 189ms/epoch - 3ms/step\n",
      "Epoch 88/700\n",
      "67/67 - 0s - loss: 369.3229 - val_loss: 166.0981 - 189ms/epoch - 3ms/step\n",
      "Epoch 89/700\n",
      "67/67 - 0s - loss: 380.3323 - val_loss: 144.6519 - 184ms/epoch - 3ms/step\n",
      "Epoch 90/700\n",
      "67/67 - 0s - loss: 383.5273 - val_loss: 166.7668 - 178ms/epoch - 3ms/step\n",
      "Epoch 91/700\n",
      "67/67 - 0s - loss: 347.0962 - val_loss: 143.3073 - 181ms/epoch - 3ms/step\n",
      "Epoch 92/700\n",
      "67/67 - 0s - loss: 403.9124 - val_loss: 171.8795 - 180ms/epoch - 3ms/step\n",
      "Epoch 93/700\n",
      "67/67 - 0s - loss: 387.5799 - val_loss: 166.3074 - 183ms/epoch - 3ms/step\n",
      "Epoch 94/700\n",
      "67/67 - 0s - loss: 365.9286 - val_loss: 156.0144 - 192ms/epoch - 3ms/step\n",
      "Epoch 95/700\n",
      "67/67 - 0s - loss: 332.9132 - val_loss: 174.4000 - 203ms/epoch - 3ms/step\n",
      "Epoch 96/700\n",
      "67/67 - 0s - loss: 390.0725 - val_loss: 146.7695 - 193ms/epoch - 3ms/step\n",
      "Epoch 97/700\n",
      "67/67 - 0s - loss: 383.2029 - val_loss: 159.8097 - 187ms/epoch - 3ms/step\n",
      "Epoch 98/700\n",
      "67/67 - 0s - loss: 373.9547 - val_loss: 152.0354 - 188ms/epoch - 3ms/step\n",
      "Epoch 99/700\n",
      "67/67 - 0s - loss: 330.9837 - val_loss: 168.6035 - 189ms/epoch - 3ms/step\n",
      "Epoch 100/700\n",
      "67/67 - 0s - loss: 377.2541 - val_loss: 145.4268 - 190ms/epoch - 3ms/step\n",
      "Epoch 101/700\n",
      "67/67 - 0s - loss: 360.1569 - val_loss: 158.9081 - 205ms/epoch - 3ms/step\n",
      "Epoch 102/700\n",
      "67/67 - 0s - loss: 350.8662 - val_loss: 161.1082 - 192ms/epoch - 3ms/step\n",
      "Epoch 103/700\n",
      "67/67 - 0s - loss: 350.4176 - val_loss: 161.1459 - 196ms/epoch - 3ms/step\n",
      "Epoch 104/700\n",
      "67/67 - 0s - loss: 378.7724 - val_loss: 169.8953 - 196ms/epoch - 3ms/step\n",
      "Epoch 105/700\n",
      "67/67 - 0s - loss: 365.6999 - val_loss: 197.9585 - 200ms/epoch - 3ms/step\n",
      "Epoch 106/700\n",
      "67/67 - 0s - loss: 377.4169 - val_loss: 177.5944 - 194ms/epoch - 3ms/step\n",
      "Epoch 107/700\n",
      "67/67 - 0s - loss: 304.3423 - val_loss: 189.9128 - 189ms/epoch - 3ms/step\n",
      "Epoch 108/700\n",
      "67/67 - 0s - loss: 342.8447 - val_loss: 171.1542 - 192ms/epoch - 3ms/step\n",
      "Epoch 109/700\n",
      "67/67 - 0s - loss: 394.3724 - val_loss: 150.8738 - 189ms/epoch - 3ms/step\n",
      "Epoch 110/700\n",
      "67/67 - 0s - loss: 352.0838 - val_loss: 152.6599 - 200ms/epoch - 3ms/step\n",
      "Epoch 111/700\n",
      "67/67 - 0s - loss: 343.2036 - val_loss: 154.9219 - 204ms/epoch - 3ms/step\n"
     ]
    }
   ],
   "source": [
    "import tensorflow as tf\n",
    "from tensorflow import keras\n",
    "\n",
    "keras.utils.set_random_seed(42) # make things reproducible\n",
    "n_hidden = 256 # number of nodes in hidden layers\n",
    "\n",
    "# model = keras.models.Sequential([\n",
    "#     keras.layers.BatchNormalization(),\n",
    "#     keras.layers.Dense(n_hidden, activation='elu', input_shape=X_train.shape[1:]),\n",
    "#     keras.layers.BatchNormalization(),\n",
    "#     keras.layers.Dense(n_hidden, activation='elu'),\n",
    "#     keras.layers.BatchNormalization(),\n",
    "#     keras.layers.Dense(Y_train.shape[1])\n",
    "# ])\n",
    "\n",
    "# model = keras.models.Sequential([\n",
    "#     keras.layers.BatchNormalization(),\n",
    "#     keras.layers.Dense(n_hidden, activation='elu', kernel_initializer='he_normal', input_shape=X_train.shape[1:]),\n",
    "#     keras.layers.BatchNormalization(),\n",
    "#     keras.layers.Dense(n_hidden, activation='elu', kernel_initializer='he_normal'),\n",
    "#     keras.layers.BatchNormalization(),\n",
    "#     keras.layers.Dense(Y_train.shape[1])\n",
    "# ])\n",
    "\n",
    "# model = keras.models.Sequential([\n",
    "#     keras.layers.BatchNormalization(),\n",
    "#     keras.layers.Dense(n_hidden, activation='selu', kernel_initializer='lecun_normal', input_shape=X_train.shape[1:]),\n",
    "#     keras.layers.BatchNormalization(),\n",
    "#     keras.layers.Dense(n_hidden, activation='selu', kernel_initializer='lecun_normal'),\n",
    "#     keras.layers.BatchNormalization(),\n",
    "#     keras.layers.Dense(Y_train.shape[1])\n",
    "# ])\n",
    "\n",
    "## Monte Carlo dropout\n",
    "# class MCDropout(keras.layers.Dropout):\n",
    "#     def call(self, inputs):\n",
    "#         return super().call(inputs, training=True)\n",
    "\n",
    "# model = keras.models.Sequential([\n",
    "#     keras.layers.BatchNormalization(),\n",
    "#     keras.layers.Dense(n_hidden, input_shape=X_train.shape[1:]),\n",
    "#     keras.layers.LeakyReLU(alpha=0.01),\n",
    "#     keras.layers.BatchNormalization(),\n",
    "#     MCDropout(rate=0.1),\n",
    "#     keras.layers.Dense(n_hidden),\n",
    "#     keras.layers.LeakyReLU(alpha=0.01),\n",
    "#     keras.layers.BatchNormalization(),\n",
    "#     MCDropout(rate=0.1),\n",
    "#     keras.layers.Dense(Y_train.shape[1])\n",
    "# ])\n",
    "\n",
    "model = keras.models.Sequential([\n",
    "    keras.layers.BatchNormalization(),\n",
    "    keras.layers.Dense(n_hidden, input_shape=X_train.shape[1:]),\n",
    "    keras.layers.LeakyReLU(alpha=0.01),\n",
    "    keras.layers.BatchNormalization(),\n",
    "    keras.layers.Dense(n_hidden),\n",
    "    keras.layers.LeakyReLU(alpha=0.01),\n",
    "    keras.layers.BatchNormalization(),\n",
    "    keras.layers.Dense(Y_train.shape[1])\n",
    "])\n",
    "\n",
    "# model = keras.models.Sequential([\n",
    "#     keras.layers.BatchNormalization(),\n",
    "#     keras.layers.Dense(n_hidden, kernel_initializer='he_normal', input_shape=X_train.shape[1:]),\n",
    "#     keras.layers.LeakyReLU(alpha=0.01),\n",
    "#     keras.layers.BatchNormalization(),\n",
    "#     keras.layers.Dense(n_hidden, kernel_initializer='he_normal'),\n",
    "#     keras.layers.LeakyReLU(alpha=0.01),\n",
    "#     keras.layers.BatchNormalization(),\n",
    "#     keras.layers.Dense(Y_train.shape[1])\n",
    "# ])\n",
    "\n",
    "early_stopping_cb = keras.callbacks.EarlyStopping(patience=20, restore_best_weights=True)\n",
    "model.compile(loss='mean_squared_error', optimizer=keras.optimizers.Adam())\n",
    "history = model.fit(X_train, Y_train, epochs=700, verbose=2, validation_split=0.2, callbacks=[early_stopping_cb])"
   ]
  },
  {
   "cell_type": "code",
   "execution_count": 8,
   "id": "bac4911a-5fc8-4d73-a5f1-57494bfa23a9",
   "metadata": {},
   "outputs": [
    {
     "data": {
      "image/png": "[encoded data removed]",
      "text/plain": [
       "<Figure size 500x500 with 1 Axes>"
      ]
     },
     "metadata": {},
     "output_type": "display_data"
    }
   ],
   "source": [
    "df_history = pd.DataFrame(history.history)\n",
    "df_history.index = df_history.index + 1\n",
    "df_history.index.name = 'epoch'\n",
    "\n",
    "t = 40\n",
    "fig, ax = plt.subplots()\n",
    "_ = sns.lineplot(x=df_history[t:].index-0.5, y='loss', data=df_history[t:], ax=ax, label='training')\n",
    "_ = sns.lineplot(x=df_history[t:].index, y='val_loss', data=df_history[t:], ax=ax, label='validation')\n",
    "# _ = ax.set(yscale='log')"
   ]
  },
  {
   "cell_type": "code",
   "execution_count": 9,
   "id": "8523274f-260a-44a7-925b-47c5c10b1388",
   "metadata": {},
   "outputs": [],
   "source": [
    "# from sklearn.metrics import r2_score\n",
    "\n",
    "# # y_preds = np.stack([model(X_test, training=True) for s in range(500)])\n",
    "# y_preds = np.stack([model(X_test) for s in range(500)])\n",
    "# y_pred = y_preds.mean(axis=0)\n",
    "# print('Test set R squared:         {:.3f}'.format(r2_score(Y_test, y_pred)))"
   ]
  },
  {
   "cell_type": "markdown",
   "id": "1d61a4c7-1c7c-4763-a3b9-95cf7e90a778",
   "metadata": {},
   "source": [
    "MSE on training set"
   ]
  },
  {
   "cell_type": "code",
   "execution_count": 10,
   "id": "d3d763f6-508b-45d4-bdae-f2d6432b9904",
   "metadata": {},
   "outputs": [
    {
     "name": "stdout",
     "output_type": "stream",
     "text": [
      "83/83 [==============================] - 0s 1ms/step - loss: 140.7906\n"
     ]
    },
    {
     "data": {
      "text/plain": [
       "140.79061889648438"
      ]
     },
     "execution_count": 10,
     "metadata": {},
     "output_type": "execute_result"
    }
   ],
   "source": [
    "model.evaluate(X_train, Y_train)"
   ]
  },
  {
   "cell_type": "markdown",
   "id": "d517b44d-6ef6-4b3e-b298-bf608156f22e",
   "metadata": {},
   "source": [
    "MSE on test set"
   ]
  },
  {
   "cell_type": "code",
   "execution_count": 11,
   "id": "c683ea25-0567-4538-b688-32dd2f5f70bf",
   "metadata": {},
   "outputs": [
    {
     "name": "stdout",
     "output_type": "stream",
     "text": [
      "28/28 [==============================] - 0s 1ms/step - loss: 136.8584\n"
     ]
    },
    {
     "data": {
      "text/plain": [
       "136.85838317871094"
      ]
     },
     "execution_count": 11,
     "metadata": {},
     "output_type": "execute_result"
    }
   ],
   "source": [
    "model.evaluate(X_test, Y_test)"
   ]
  },
  {
   "cell_type": "code",
   "execution_count": 12,
   "id": "088695c1-3f9e-43a6-ae82-29e2a10674d9",
   "metadata": {},
   "outputs": [
    {
     "name": "stdout",
     "output_type": "stream",
     "text": [
      "Training set R squared:         0.974\n",
      "Training set R squared for DIC: 0.965\n",
      "Training set R squared for TA:  0.983\n",
      "\n",
      "Test set R squared:         0.974\n",
      "Test set R squared for DIC: 0.964\n",
      "Test set R squared for TA:  0.985\n"
     ]
    }
   ],
   "source": [
    "from sklearn.metrics import r2_score\n",
    "\n",
    "Y_pred_train = model.predict(X_train)\n",
    "print('Training set R squared:         {:.3f}'.format(r2_score(Y_train, Y_pred_train)))\n",
    "print('Training set R squared for DIC: {:.3f}'.format(r2_score(Y_train[:,0], Y_pred_train[:,0])))\n",
    "print('Training set R squared for TA:  {:.3f}\\n'.format(r2_score(Y_train[:,1], Y_pred_train[:,1])))\n",
    "\n",
    "Y_pred_test = model.predict(X_test)\n",
    "print('Test set R squared:         {:.3f}'.format(r2_score(Y_test, Y_pred_test)))\n",
    "print('Test set R squared for DIC: {:.3f}'.format(r2_score(Y_test[:,0], Y_pred_test[:,0])))\n",
    "print('Test set R squared for TA:  {:.3f}'.format(r2_score(Y_test[:,1], Y_pred_test[:,1])))"
   ]
  },
  {
   "cell_type": "code",
   "execution_count": 13,
   "id": "292bf8f2-9104-4ec5-844d-ff991f4d7ee7",
   "metadata": {},
   "outputs": [
    {
     "data": {
      "text/plain": [
       "(1930.56260945, 2430.60939955, 1927.242919921875, 2437.179931640625)"
      ]
     },
     "execution_count": 13,
     "metadata": {},
     "output_type": "execute_result"
    },
    {
     "data": {
      "image/png": "[encoded data removed]",
      "text/plain": [
       "<Figure size 1100x500 with 2 Axes>"
      ]
     },
     "metadata": {},
     "output_type": "display_data"
    }
   ],
   "source": [
    "fig, (ax0, ax1) = plt.subplots(1, 2, figsize=(11, 5))\n",
    "_ = sns.scatterplot(x=Y_test[:,0], y=Y_pred_test[:,0], ax=ax0)\n",
    "_ = sns.scatterplot(x=Y_test[:,1], y=Y_pred_test[:,1], ax=ax1)\n",
    "_ = ax0.set(xlabel='observed DIC', ylabel='predicted DIC', title='Neural Network - Test data set')\n",
    "_ = ax1.set(xlabel='observed TA', ylabel='predicted TA', title='Neural Network - Test data set')\n",
    "ax0.axis('equal')\n",
    "ax1.axis('equal')"
   ]
  },
  {
   "cell_type": "markdown",
   "id": "0f32a061-33b4-43c8-8188-bc5c0697b0ac",
   "metadata": {},
   "source": [
    "## Do k-fold cross-validation"
   ]
  },
  {
   "cell_type": "code",
   "execution_count": 14,
   "id": "94e3cd9b-3cd1-403b-99db-c1b42a6fa885",
   "metadata": {},
   "outputs": [
    {
     "name": "stdout",
     "output_type": "stream",
     "text": [
      "Fold 1 test set R squared: 0.972\n",
      "Fold 2 test set R squared: 0.973\n",
      "Fold 3 test set R squared: 0.974\n",
      "Fold 4 test set R squared: 0.977\n",
      "Fold 5 test set R squared: 0.973\n",
      "\n",
      "Best R squared:  0.977\n",
      "Worst R squared: 0.972\n",
      "Mean R squared:  0.974\n"
     ]
    }
   ],
   "source": [
    "from sklearn.model_selection import KFold\n",
    "\n",
    "kf = KFold(n_splits=5, shuffle=True, random_state=42)\n",
    "score_vals = [] # store score values\n",
    "\n",
    "nn_reg = keras.models.Sequential([\n",
    "    keras.layers.BatchNormalization(),\n",
    "    keras.layers.Dense(n_hidden, input_shape=X_train.shape[1:]),\n",
    "    keras.layers.LeakyReLU(alpha=0.01),\n",
    "    keras.layers.BatchNormalization(),\n",
    "    keras.layers.Dense(n_hidden),\n",
    "    keras.layers.LeakyReLU(alpha=0.01),\n",
    "    keras.layers.BatchNormalization(),\n",
    "    keras.layers.Dense(Y_train.shape[1])\n",
    "])\n",
    "nn_reg.compile(loss='mean_squared_error', optimizer=keras.optimizers.Adam())\n",
    "\n",
    "for k, (train_idx, test_idx) in enumerate(kf.split(X_train)):\n",
    "    X_tr, X_te = X_train[train_idx], X_train[test_idx]\n",
    "    Y_tr, Y_te = Y_train[train_idx], Y_train[test_idx]\n",
    "    history_cv = nn_reg.fit(X_tr, Y_tr, epochs=700, verbose=0, validation_split=0.2, callbacks=[early_stopping_cb])\n",
    "    Y_pred = model.predict(X_te)\n",
    "    score = r2_score(Y_te, Y_pred)\n",
    "    score_vals.append(score)\n",
    "    print('Fold {} test set R squared: {:.3f}'.format(k+1, score))\n",
    "\n",
    "scores = np.array(score_vals)\n",
    "print('\\nBest R squared:  {:.3f}'.format(scores.max()))\n",
    "print('Worst R squared: {:.3f}'.format(scores.min()))\n",
    "print('Mean R squared:  {:.3f}'.format(scores.mean()))"
   ]
  },
  {
   "cell_type": "code",
   "execution_count": 15,
   "id": "cb58fce7-9ef8-48ff-863c-fa797920d173",
   "metadata": {},
   "outputs": [],
   "source": [
    "# from sklearn.model_selection import cross_val_score\n",
    "\n",
    "# def build_model(n_hidden=256, input_shape=X_train.shape[1:], alpha=0.01):\n",
    "#     nn_model = keras.models.Sequential([\n",
    "#         keras.layers.BatchNormalization(),\n",
    "#         keras.layers.Dense(n_hidden, input_shape=input_shape),\n",
    "#         keras.layers.LeakyReLU(alpha=alpha),\n",
    "#         keras.layers.BatchNormalization(),\n",
    "#         keras.layers.Dense(n_hidden),\n",
    "#         keras.layers.LeakyReLU(alpha=alpha),\n",
    "#         keras.layers.BatchNormalization(),\n",
    "#         keras.layers.Dense(Y_train.shape[1])\n",
    "#     ])\n",
    "#     nn_model.compile(loss='mean_squared_error', optimizer=keras.optimizers.Adam())\n",
    "#     return nn_model\n",
    "\n",
    "# # keras_reg = keras.wrappers.scikit_learn.KerasRegressor(build_model)\n",
    "# # keras_reg.fit(X_train, Y_train, epochs=300, verbose=2, validation_split=0.2, callbacks=[early_stopping_cb])\n",
    "\n",
    "# keras_reg = keras.wrappers.scikit_learn.KerasRegressor(build_fn=build_model, epochs=300, verbose=0,\n",
    "#                                                        validation_split=0.2, callbacks=[early_stopping_cb])\n",
    "# # estimator= KerasRegressor(build_fn=buildmodel, epochs=100, batch_size=10, verbose=0)\n",
    "\n",
    "# scores = cross_val_score(keras_reg, X_train, Y_train, n_jobs=-1)\n",
    "# scores"
   ]
  },
  {
   "cell_type": "markdown",
   "id": "5586c8ec-e9a2-4705-80a9-03cea81ec7e5",
   "metadata": {},
   "source": [
    "## Results"
   ]
  },
  {
   "cell_type": "markdown",
   "id": "ae35a32c-8c4e-4885-9078-cd6551525db2",
   "metadata": {},
   "source": [
    "Model $R^2$ scores on test set (using all variables):\n",
    "\n",
    "Configuration     | Total |  DIC  | TA\n",
    "------------------|-------|-------|------\n",
    "LeakyReLU + BN    | 0.974 | 0.964 | 0.985\n",
    "ELU + He + BN     | 0.972 | 0.961 | 0.983\n",
    "ELU + BN          | 0.969 | 0.957 | 0.981\n",
    "SELU + Lecun + BN | 0.968 | 0.957 | 0.980\n",
    "ELU + He          | 0.956 | 0.937 | 0.976\n",
    "LeakyReLU         | 0.950 | 0.930 | 0.970\n",
    "SELU + Lecun      | 0.947 | 0.933 | 0.961\n",
    "ELU               | 0.933 | 0.912 | 0.955"
   ]
  },
  {
   "cell_type": "code",
   "execution_count": 16,
   "id": "176c2b28-85ec-4d48-95fb-77c016df5f2f",
   "metadata": {},
   "outputs": [],
   "source": [
    "# def int2str(x):\n",
    "#     return '{:02d}'.format(x)\n",
    "\n",
    "# df['Month_str'] = df.Month.map(int2str)\n",
    "# pd.get_dummies(df[['Month_str']])"
   ]
  }
 ],
 "metadata": {
  "kernelspec": {
   "display_name": "Python 3 (ipykernel)",
   "language": "python",
   "name": "python3"
  },
  "language_info": {
   "codemirror_mode": {
    "name": "ipython",
    "version": 3
   },
   "file_extension": ".py",
   "mimetype": "text/x-python",
   "name": "python",
   "nbconvert_exporter": "python",
   "pygments_lexer": "ipython3",
   "version": "3.9.13"
  },
  "widgets": {
   "application/vnd.jupyter.widget-state+json": {
    "state": {},
    "version_major": 2,
    "version_minor": 0
   }
  }
 },
 "nbformat": 4,
 "nbformat_minor": 5
}
