{
 "cells": [
  {
   "cell_type": "markdown",
   "id": "f0cb6279-daed-41f1-8a8e-a1459344af42",
   "metadata": {},
   "source": [
    "# Neural Network model development with Keras\n",
    "Created by Ivan Lima on Mon Jun 13 2022 16:06:01 -0400"
   ]
  },
  {
   "cell_type": "code",
   "execution_count": 1,
   "id": "259c1ad6-12a7-45d9-a97b-ea17578e6148",
   "metadata": {},
   "outputs": [
    {
     "name": "stdout",
     "output_type": "stream",
     "text": [
      "Last updated on Sun Nov 27 16:02:08 2022\n"
     ]
    }
   ],
   "source": [
    "%matplotlib inline\n",
    "import pandas as pd\n",
    "import numpy as np\n",
    "import seaborn as sns\n",
    "import matplotlib.pyplot as plt\n",
    "import os, datetime, warnings\n",
    "print('Last updated on {}'.format(datetime.datetime.now().ctime()))"
   ]
  },
  {
   "cell_type": "code",
   "execution_count": 2,
   "id": "f8553199-54c8-4a5c-abc5-87d727920b2c",
   "metadata": {},
   "outputs": [],
   "source": [
    "import sns_settings\n",
    "sns.set_context('paper')\n",
    "pd.options.display.max_columns = 50\n",
    "warnings.filterwarnings('ignore')"
   ]
  },
  {
   "cell_type": "markdown",
   "id": "6bab6af2-bee1-4a5a-b342-f0965c3ed565",
   "metadata": {},
   "source": [
    "## Read merged bottle satellite data "
   ]
  },
  {
   "cell_type": "code",
   "execution_count": 3,
   "id": "e217fec0-5667-411c-bdbb-2290b8d688cb",
   "metadata": {},
   "outputs": [
    {
     "name": "stdout",
     "output_type": "stream",
     "text": [
      "<class 'pandas.core.frame.DataFrame'>\n",
      "Int64Index: 3623 entries, 0 to 3779\n",
      "Data columns (total 35 columns):\n",
      " #   Column         Non-Null Count  Dtype         \n",
      "---  ------         --------------  -----         \n",
      " 0   EXPOCODE       2488 non-null   object        \n",
      " 1   Accession      1124 non-null   float64       \n",
      " 2   Cruise_ID      3044 non-null   object        \n",
      " 3   Date           3623 non-null   datetime64[ns]\n",
      " 4   Year           3623 non-null   int64         \n",
      " 5   Month          3623 non-null   int64         \n",
      " 6   Day            3623 non-null   int64         \n",
      " 7   Time_UTC       3543 non-null   object        \n",
      " 8   Latitude       3623 non-null   float64       \n",
      " 9   Longitude      3623 non-null   float64       \n",
      " 10  Depth          3623 non-null   float64       \n",
      " 11  Salinity       3623 non-null   float64       \n",
      " 12  Temperature    3623 non-null   float64       \n",
      " 13  Oxygen         3533 non-null   float64       \n",
      " 14  DIC            3623 non-null   float64       \n",
      " 15  DIC_FLAG       3329 non-null   float64       \n",
      " 16  TA             3623 non-null   float64       \n",
      " 17  TA_FLAG        3329 non-null   float64       \n",
      " 18  pCO2_yearave   2600 non-null   float64       \n",
      " 19  pCO2_monthave  3623 non-null   float64       \n",
      " 20  bottom_depth   3623 non-null   float64       \n",
      " 21  ADT            2600 non-null   float64       \n",
      " 22  UGOS           2600 non-null   float64       \n",
      " 23  VGOS           2600 non-null   float64       \n",
      " 24  SLA            3623 non-null   float64       \n",
      " 25  UGOSA          2600 non-null   float64       \n",
      " 26  VGOSA          2600 non-null   float64       \n",
      " 27  SST            3623 non-null   float64       \n",
      " 28  SST_hires      3623 non-null   float64       \n",
      " 29  Chl            3623 non-null   float64       \n",
      " 30  KD490          3623 non-null   float64       \n",
      " 31  outlier        3623 non-null   bool          \n",
      " 32  log_Chl        3623 non-null   float64       \n",
      " 33  log_KD490      3623 non-null   float64       \n",
      " 34  Season         3623 non-null   float64       \n",
      "dtypes: bool(1), datetime64[ns](1), float64(27), int64(3), object(3)\n",
      "memory usage: 994.2+ KB\n"
     ]
    }
   ],
   "source": [
    "df = pd.read_csv('data/bottle_satellite_data_clean.csv', parse_dates=['Date'], index_col=0)\n",
    "\n",
    "# add seasons\n",
    "df.loc[df.Date.dt.month.isin([1,2,12]),'Season'] = 0  # Winter\n",
    "df.loc[df.Date.dt.month.isin([3,4,5]),'Season'] = 1   # Spring\n",
    "df.loc[df.Date.dt.month.isin([6,7,8]),'Season'] = 2   # Summer\n",
    "df.loc[df.Date.dt.month.isin([9,10,11]),'Season'] = 3 # Fall \n",
    "\n",
    "df.info()"
   ]
  },
  {
   "cell_type": "code",
   "execution_count": 4,
   "id": "3cbc6b17-b097-434f-95dd-e06200b78471",
   "metadata": {},
   "outputs": [],
   "source": [
    "# def find_outliers(df, vname):\n",
    "#     cond = np.abs(df[vname] - df[vname].mean()) > 3 * df[vname].std()\n",
    "#     df.loc[cond, vname] = np.nan\n",
    "\n",
    "# for var in ['Temperature', 'Salinity', 'Oxygen', 'SLA', 'SST_hires', 'log_KD490']:\n",
    "#     find_outliers(df, var)"
   ]
  },
  {
   "cell_type": "markdown",
   "id": "9d65262c-52a2-4b1f-8c82-8dd4183fdb6d",
   "metadata": {},
   "source": [
    "## Select input features and split data into training and test sets "
   ]
  },
  {
   "cell_type": "code",
   "execution_count": 5,
   "id": "2c45ac46-c327-44c6-b615-daf793cd9a25",
   "metadata": {},
   "outputs": [
    {
     "data": {
      "text/plain": [
       "((3533, 9), (2649, 9), (884, 9), (2649, 2), (884, 2))"
      ]
     },
     "execution_count": 5,
     "metadata": {},
     "output_type": "execute_result"
    }
   ],
   "source": [
    "from sklearn.model_selection import train_test_split, cross_val_score\n",
    "\n",
    "# Set input and output variables\n",
    "features = ['Depth', 'bottom_depth', 'Temperature', 'Salinity', 'Oxygen', 'pCO2_monthave', 'SLA', 'SST_hires', 'log_KD490']\n",
    "# features = ['Depth', 'bottom_depth', 'Temperature', 'Salinity', 'pCO2_monthave', 'SLA', 'SST_hires', 'log_KD490']\n",
    "# features = ['Depth', 'bottom_depth', 'Temperature', 'Salinity', 'pCO2_monthave']\n",
    "# features = ['Depth', 'Temperature', 'Salinity', 'Oxygen', 'pCO2_monthave']\n",
    "# features = ['Depth', 'Temperature', 'Salinity', 'pCO2_monthave']\n",
    "targets  = ['DIC', 'TA']\n",
    "\n",
    "data = df[features + targets + ['Season']].dropna()\n",
    "\n",
    "X = data[features].values\n",
    "Y = data[targets].values\n",
    "\n",
    "# Split data into training and test sets\n",
    "X_train, X_test, Y_train, Y_test = train_test_split(X, Y, stratify=data.Season.values, random_state=42)\n",
    "\n",
    "X.shape, X_train.shape, X_test.shape, Y_train.shape, Y_test.shape"
   ]
  },
  {
   "cell_type": "code",
   "execution_count": 6,
   "id": "2a3fb809-2ed7-4558-a0a7-66c7ab02b459",
   "metadata": {},
   "outputs": [],
   "source": [
    "# from sklearn.preprocessing import StandardScaler\n",
    "\n",
    "# standardize/rescale data\n",
    "# scaler = StandardScaler().fit(X_train)\n",
    "# X_train_scaled = scaler.transform(X_train)\n",
    "# X_test_scaled = scaler.transform(X_test)\n",
    "# X_scaled = scaler.transform(X)"
   ]
  },
  {
   "cell_type": "markdown",
   "id": "c09a2595-8f75-4f88-8d68-5eeab6db1972",
   "metadata": {},
   "source": [
    "## Neural Network regression "
   ]
  },
  {
   "cell_type": "code",
   "execution_count": 7,
   "id": "a2a1fcca-f463-4f11-8d19-4e6f743792bd",
   "metadata": {},
   "outputs": [
    {
     "name": "stderr",
     "output_type": "stream",
     "text": [
      "2022-11-27 16:02:09.200641: I tensorflow/core/platform/cpu_feature_guard.cc:193] This TensorFlow binary is optimized with oneAPI Deep Neural Network Library (oneDNN) to use the following CPU instructions in performance-critical operations:  SSE4.1 SSE4.2 AVX AVX2 FMA\n",
      "To enable them in other operations, rebuild TensorFlow with the appropriate compiler flags.\n",
      "2022-11-27 16:02:14.839541: I tensorflow/core/platform/cpu_feature_guard.cc:193] This TensorFlow binary is optimized with oneAPI Deep Neural Network Library (oneDNN) to use the following CPU instructions in performance-critical operations:  SSE4.1 SSE4.2 AVX AVX2 FMA\n",
      "To enable them in other operations, rebuild TensorFlow with the appropriate compiler flags.\n"
     ]
    },
    {
     "name": "stdout",
     "output_type": "stream",
     "text": [
      "Epoch 1/700\n",
      "67/67 - 2s - loss: 4679117.5000 - val_loss: 4446709.5000 - 2s/epoch - 31ms/step\n",
      "Epoch 2/700\n",
      "67/67 - 1s - loss: 4656455.0000 - val_loss: 4354419.0000 - 579ms/epoch - 9ms/step\n",
      "Epoch 3/700\n",
      "67/67 - 1s - loss: 4610863.0000 - val_loss: 4279181.5000 - 557ms/epoch - 8ms/step\n",
      "Epoch 4/700\n",
      "67/67 - 1s - loss: 4539676.0000 - val_loss: 4316134.5000 - 501ms/epoch - 7ms/step\n",
      "Epoch 5/700\n",
      "67/67 - 1s - loss: 4442847.5000 - val_loss: 4294603.5000 - 560ms/epoch - 8ms/step\n",
      "Epoch 6/700\n",
      "67/67 - 0s - loss: 4322218.5000 - val_loss: 4195834.0000 - 493ms/epoch - 7ms/step\n",
      "Epoch 7/700\n",
      "67/67 - 1s - loss: 4179994.0000 - val_loss: 4063415.0000 - 521ms/epoch - 8ms/step\n",
      "Epoch 8/700\n",
      "67/67 - 1s - loss: 4018689.0000 - val_loss: 3896553.5000 - 554ms/epoch - 8ms/step\n",
      "Epoch 9/700\n",
      "67/67 - 1s - loss: 3840935.2500 - val_loss: 3708948.2500 - 620ms/epoch - 9ms/step\n",
      "Epoch 10/700\n",
      "67/67 - 1s - loss: 3649408.2500 - val_loss: 3532103.0000 - 525ms/epoch - 8ms/step\n",
      "Epoch 11/700\n",
      "67/67 - 1s - loss: 3446702.2500 - val_loss: 3319511.7500 - 571ms/epoch - 9ms/step\n",
      "Epoch 12/700\n",
      "67/67 - 1s - loss: 3235620.2500 - val_loss: 3114892.5000 - 532ms/epoch - 8ms/step\n",
      "Epoch 13/700\n",
      "67/67 - 1s - loss: 3018743.5000 - val_loss: 2896119.7500 - 589ms/epoch - 9ms/step\n",
      "Epoch 14/700\n",
      "67/67 - 1s - loss: 2798719.0000 - val_loss: 2681014.5000 - 501ms/epoch - 7ms/step\n",
      "Epoch 15/700\n",
      "67/67 - 1s - loss: 2577849.7500 - val_loss: 2459393.5000 - 583ms/epoch - 9ms/step\n",
      "Epoch 16/700\n",
      "67/67 - 1s - loss: 2358724.0000 - val_loss: 2241052.0000 - 640ms/epoch - 10ms/step\n",
      "Epoch 17/700\n",
      "67/67 - 1s - loss: 2143271.0000 - val_loss: 2029694.5000 - 592ms/epoch - 9ms/step\n",
      "Epoch 18/700\n",
      "67/67 - 1s - loss: 1933517.0000 - val_loss: 1823882.3750 - 513ms/epoch - 8ms/step\n",
      "Epoch 19/700\n",
      "67/67 - 1s - loss: 1731366.8750 - val_loss: 1628369.5000 - 509ms/epoch - 8ms/step\n",
      "Epoch 20/700\n",
      "67/67 - 1s - loss: 1538242.7500 - val_loss: 1440886.7500 - 533ms/epoch - 8ms/step\n",
      "Epoch 21/700\n",
      "67/67 - 0s - loss: 1355626.6250 - val_loss: 1260570.5000 - 489ms/epoch - 7ms/step\n",
      "Epoch 22/700\n",
      "67/67 - 1s - loss: 1184568.0000 - val_loss: 1098328.0000 - 581ms/epoch - 9ms/step\n",
      "Epoch 23/700\n",
      "67/67 - 1s - loss: 1025885.8750 - val_loss: 945719.9375 - 535ms/epoch - 8ms/step\n",
      "Epoch 24/700\n",
      "67/67 - 1s - loss: 880116.6250 - val_loss: 813732.8125 - 526ms/epoch - 8ms/step\n",
      "Epoch 25/700\n",
      "67/67 - 1s - loss: 747785.3750 - val_loss: 683630.8125 - 513ms/epoch - 8ms/step\n",
      "Epoch 26/700\n",
      "67/67 - 1s - loss: 628803.8125 - val_loss: 570409.9375 - 640ms/epoch - 10ms/step\n",
      "Epoch 27/700\n",
      "67/67 - 1s - loss: 523065.8125 - val_loss: 472045.1250 - 585ms/epoch - 9ms/step\n",
      "Epoch 28/700\n",
      "67/67 - 1s - loss: 430384.1250 - val_loss: 389556.6562 - 526ms/epoch - 8ms/step\n",
      "Epoch 29/700\n",
      "67/67 - 0s - loss: 349985.5938 - val_loss: 317909.6875 - 487ms/epoch - 7ms/step\n",
      "Epoch 30/700\n",
      "67/67 - 0s - loss: 281086.2500 - val_loss: 250827.4688 - 462ms/epoch - 7ms/step\n",
      "Epoch 31/700\n",
      "67/67 - 1s - loss: 222932.5469 - val_loss: 196974.1562 - 568ms/epoch - 8ms/step\n",
      "Epoch 32/700\n",
      "67/67 - 1s - loss: 174574.1875 - val_loss: 153775.5938 - 535ms/epoch - 8ms/step\n",
      "Epoch 33/700\n",
      "67/67 - 1s - loss: 134928.1719 - val_loss: 118253.0781 - 528ms/epoch - 8ms/step\n",
      "Epoch 34/700\n",
      "67/67 - 1s - loss: 102872.4453 - val_loss: 87851.4297 - 516ms/epoch - 8ms/step\n",
      "Epoch 35/700\n",
      "67/67 - 1s - loss: 77455.8906 - val_loss: 66915.4688 - 559ms/epoch - 8ms/step\n",
      "Epoch 36/700\n",
      "67/67 - 1s - loss: 57515.6914 - val_loss: 49391.9727 - 534ms/epoch - 8ms/step\n",
      "Epoch 37/700\n",
      "67/67 - 1s - loss: 42213.3438 - val_loss: 35577.9023 - 607ms/epoch - 9ms/step\n",
      "Epoch 38/700\n",
      "67/67 - 0s - loss: 30616.9160 - val_loss: 25469.4727 - 499ms/epoch - 7ms/step\n",
      "Epoch 39/700\n",
      "67/67 - 1s - loss: 21906.7871 - val_loss: 18358.3867 - 515ms/epoch - 8ms/step\n",
      "Epoch 40/700\n",
      "67/67 - 1s - loss: 15626.3701 - val_loss: 12539.9395 - 564ms/epoch - 8ms/step\n",
      "Epoch 41/700\n",
      "67/67 - 1s - loss: 10998.6328 - val_loss: 8807.7871 - 515ms/epoch - 8ms/step\n",
      "Epoch 42/700\n",
      "67/67 - 1s - loss: 7737.8286 - val_loss: 6286.5977 - 538ms/epoch - 8ms/step\n",
      "Epoch 43/700\n",
      "67/67 - 1s - loss: 5411.6846 - val_loss: 4313.0337 - 549ms/epoch - 8ms/step\n",
      "Epoch 44/700\n",
      "67/67 - 1s - loss: 3875.5239 - val_loss: 2952.3196 - 576ms/epoch - 9ms/step\n",
      "Epoch 45/700\n",
      "67/67 - 1s - loss: 2797.0405 - val_loss: 2177.2236 - 567ms/epoch - 8ms/step\n",
      "Epoch 46/700\n",
      "67/67 - 1s - loss: 2016.8195 - val_loss: 1526.5396 - 502ms/epoch - 7ms/step\n",
      "Epoch 47/700\n",
      "67/67 - 1s - loss: 1510.8887 - val_loss: 984.7361 - 521ms/epoch - 8ms/step\n",
      "Epoch 48/700\n",
      "67/67 - 1s - loss: 1187.3560 - val_loss: 827.2946 - 592ms/epoch - 9ms/step\n",
      "Epoch 49/700\n",
      "67/67 - 1s - loss: 936.5513 - val_loss: 659.6955 - 689ms/epoch - 10ms/step\n",
      "Epoch 50/700\n",
      "67/67 - 1s - loss: 778.2662 - val_loss: 563.9210 - 680ms/epoch - 10ms/step\n",
      "Epoch 51/700\n",
      "67/67 - 1s - loss: 664.8640 - val_loss: 434.2075 - 569ms/epoch - 8ms/step\n",
      "Epoch 52/700\n",
      "67/67 - 1s - loss: 535.8506 - val_loss: 369.2440 - 691ms/epoch - 10ms/step\n",
      "Epoch 53/700\n",
      "67/67 - 1s - loss: 549.0223 - val_loss: 317.8896 - 596ms/epoch - 9ms/step\n",
      "Epoch 54/700\n",
      "67/67 - 0s - loss: 518.0656 - val_loss: 274.8593 - 470ms/epoch - 7ms/step\n",
      "Epoch 55/700\n",
      "67/67 - 1s - loss: 430.7557 - val_loss: 279.8178 - 549ms/epoch - 8ms/step\n",
      "Epoch 56/700\n",
      "67/67 - 1s - loss: 427.3875 - val_loss: 243.8902 - 521ms/epoch - 8ms/step\n",
      "Epoch 57/700\n",
      "67/67 - 1s - loss: 425.2211 - val_loss: 226.4787 - 576ms/epoch - 9ms/step\n",
      "Epoch 58/700\n",
      "67/67 - 1s - loss: 402.3947 - val_loss: 235.2538 - 662ms/epoch - 10ms/step\n",
      "Epoch 59/700\n",
      "67/67 - 1s - loss: 433.8684 - val_loss: 206.9489 - 572ms/epoch - 9ms/step\n",
      "Epoch 60/700\n",
      "67/67 - 1s - loss: 390.9065 - val_loss: 202.8093 - 533ms/epoch - 8ms/step\n",
      "Epoch 61/700\n",
      "67/67 - 1s - loss: 420.0294 - val_loss: 204.6044 - 502ms/epoch - 7ms/step\n",
      "Epoch 62/700\n",
      "67/67 - 1s - loss: 444.4956 - val_loss: 249.1199 - 521ms/epoch - 8ms/step\n",
      "Epoch 63/700\n",
      "67/67 - 0s - loss: 393.7535 - val_loss: 203.8400 - 496ms/epoch - 7ms/step\n",
      "Epoch 64/700\n",
      "67/67 - 1s - loss: 397.3965 - val_loss: 201.7116 - 592ms/epoch - 9ms/step\n",
      "Epoch 65/700\n",
      "67/67 - 1s - loss: 454.7526 - val_loss: 185.8578 - 660ms/epoch - 10ms/step\n",
      "Epoch 66/700\n",
      "67/67 - 1s - loss: 391.5222 - val_loss: 169.3671 - 598ms/epoch - 9ms/step\n",
      "Epoch 67/700\n",
      "67/67 - 1s - loss: 366.1981 - val_loss: 206.3648 - 531ms/epoch - 8ms/step\n",
      "Epoch 68/700\n",
      "67/67 - 1s - loss: 350.1025 - val_loss: 174.1287 - 592ms/epoch - 9ms/step\n",
      "Epoch 69/700\n",
      "67/67 - 1s - loss: 372.0137 - val_loss: 185.8449 - 561ms/epoch - 8ms/step\n",
      "Epoch 70/700\n",
      "67/67 - 1s - loss: 364.3524 - val_loss: 170.7163 - 559ms/epoch - 8ms/step\n",
      "Epoch 71/700\n",
      "67/67 - 1s - loss: 361.6990 - val_loss: 186.4323 - 618ms/epoch - 9ms/step\n",
      "Epoch 72/700\n",
      "67/67 - 1s - loss: 485.9360 - val_loss: 172.3318 - 737ms/epoch - 11ms/step\n",
      "Epoch 73/700\n",
      "67/67 - 1s - loss: 369.0674 - val_loss: 203.2177 - 565ms/epoch - 8ms/step\n",
      "Epoch 74/700\n",
      "67/67 - 1s - loss: 364.0140 - val_loss: 175.4435 - 545ms/epoch - 8ms/step\n",
      "Epoch 75/700\n",
      "67/67 - 1s - loss: 331.9547 - val_loss: 191.8101 - 510ms/epoch - 8ms/step\n",
      "Epoch 76/700\n",
      "67/67 - 1s - loss: 372.6158 - val_loss: 174.8881 - 655ms/epoch - 10ms/step\n",
      "Epoch 77/700\n",
      "67/67 - 1s - loss: 348.0429 - val_loss: 198.0032 - 572ms/epoch - 9ms/step\n",
      "Epoch 78/700\n",
      "67/67 - 1s - loss: 403.5775 - val_loss: 154.5507 - 577ms/epoch - 9ms/step\n",
      "Epoch 79/700\n",
      "67/67 - 1s - loss: 359.3718 - val_loss: 231.0233 - 510ms/epoch - 8ms/step\n",
      "Epoch 80/700\n",
      "67/67 - 1s - loss: 400.7717 - val_loss: 172.2295 - 658ms/epoch - 10ms/step\n",
      "Epoch 81/700\n",
      "67/67 - 1s - loss: 357.6460 - val_loss: 159.0080 - 552ms/epoch - 8ms/step\n",
      "Epoch 82/700\n",
      "67/67 - 1s - loss: 361.8029 - val_loss: 187.1461 - 535ms/epoch - 8ms/step\n",
      "Epoch 83/700\n",
      "67/67 - 0s - loss: 352.7340 - val_loss: 187.3264 - 467ms/epoch - 7ms/step\n",
      "Epoch 84/700\n",
      "67/67 - 1s - loss: 394.6958 - val_loss: 232.5830 - 557ms/epoch - 8ms/step\n",
      "Epoch 85/700\n",
      "67/67 - 1s - loss: 407.0148 - val_loss: 180.2772 - 649ms/epoch - 10ms/step\n",
      "Epoch 86/700\n",
      "67/67 - 0s - loss: 343.3047 - val_loss: 148.8146 - 492ms/epoch - 7ms/step\n",
      "Epoch 87/700\n",
      "67/67 - 1s - loss: 402.5934 - val_loss: 220.1801 - 514ms/epoch - 8ms/step\n",
      "Epoch 88/700\n",
      "67/67 - 1s - loss: 368.5729 - val_loss: 178.0207 - 520ms/epoch - 8ms/step\n",
      "Epoch 89/700\n",
      "67/67 - 1s - loss: 382.9480 - val_loss: 153.0427 - 528ms/epoch - 8ms/step\n",
      "Epoch 90/700\n",
      "67/67 - 1s - loss: 396.2900 - val_loss: 167.6480 - 508ms/epoch - 8ms/step\n",
      "Epoch 91/700\n",
      "67/67 - 1s - loss: 344.1261 - val_loss: 148.0294 - 561ms/epoch - 8ms/step\n",
      "Epoch 92/700\n",
      "67/67 - 1s - loss: 404.2701 - val_loss: 182.1945 - 526ms/epoch - 8ms/step\n",
      "Epoch 93/700\n",
      "67/67 - 1s - loss: 387.9251 - val_loss: 182.5598 - 531ms/epoch - 8ms/step\n",
      "Epoch 94/700\n",
      "67/67 - 1s - loss: 370.0358 - val_loss: 155.0942 - 546ms/epoch - 8ms/step\n",
      "Epoch 95/700\n",
      "67/67 - 1s - loss: 334.3177 - val_loss: 167.4622 - 513ms/epoch - 8ms/step\n",
      "Epoch 96/700\n",
      "67/67 - 1s - loss: 383.9747 - val_loss: 162.2050 - 522ms/epoch - 8ms/step\n",
      "Epoch 97/700\n",
      "67/67 - 1s - loss: 382.5550 - val_loss: 162.4031 - 572ms/epoch - 9ms/step\n",
      "Epoch 98/700\n",
      "67/67 - 1s - loss: 375.4163 - val_loss: 153.8411 - 648ms/epoch - 10ms/step\n",
      "Epoch 99/700\n",
      "67/67 - 1s - loss: 333.9771 - val_loss: 164.4367 - 630ms/epoch - 9ms/step\n",
      "Epoch 100/700\n",
      "67/67 - 1s - loss: 382.7075 - val_loss: 155.6811 - 1s/epoch - 15ms/step\n",
      "Epoch 101/700\n",
      "67/67 - 1s - loss: 363.7623 - val_loss: 159.8921 - 911ms/epoch - 14ms/step\n",
      "Epoch 102/700\n",
      "67/67 - 1s - loss: 350.8608 - val_loss: 173.2906 - 623ms/epoch - 9ms/step\n",
      "Epoch 103/700\n",
      "67/67 - 1s - loss: 353.0181 - val_loss: 164.5203 - 528ms/epoch - 8ms/step\n",
      "Epoch 104/700\n",
      "67/67 - 1s - loss: 382.2755 - val_loss: 183.9123 - 593ms/epoch - 9ms/step\n",
      "Epoch 105/700\n",
      "67/67 - 1s - loss: 364.9280 - val_loss: 198.5882 - 625ms/epoch - 9ms/step\n",
      "Epoch 106/700\n",
      "67/67 - 1s - loss: 373.3962 - val_loss: 181.4193 - 610ms/epoch - 9ms/step\n",
      "Epoch 107/700\n",
      "67/67 - 0s - loss: 304.1873 - val_loss: 193.5495 - 485ms/epoch - 7ms/step\n",
      "Epoch 108/700\n",
      "67/67 - 1s - loss: 345.9885 - val_loss: 161.9003 - 694ms/epoch - 10ms/step\n",
      "Epoch 109/700\n",
      "67/67 - 1s - loss: 399.8835 - val_loss: 165.4134 - 523ms/epoch - 8ms/step\n",
      "Epoch 110/700\n",
      "67/67 - 1s - loss: 352.2469 - val_loss: 147.6181 - 501ms/epoch - 7ms/step\n",
      "Epoch 111/700\n",
      "67/67 - 1s - loss: 345.7171 - val_loss: 159.5250 - 529ms/epoch - 8ms/step\n",
      "Epoch 112/700\n",
      "67/67 - 0s - loss: 378.8529 - val_loss: 163.4976 - 478ms/epoch - 7ms/step\n",
      "Epoch 113/700\n",
      "67/67 - 1s - loss: 373.8924 - val_loss: 194.7899 - 585ms/epoch - 9ms/step\n",
      "Epoch 114/700\n",
      "67/67 - 1s - loss: 334.0144 - val_loss: 164.4214 - 544ms/epoch - 8ms/step\n",
      "Epoch 115/700\n",
      "67/67 - 1s - loss: 344.0153 - val_loss: 160.8522 - 644ms/epoch - 10ms/step\n",
      "Epoch 116/700\n",
      "67/67 - 1s - loss: 349.7451 - val_loss: 173.2893 - 622ms/epoch - 9ms/step\n",
      "Epoch 117/700\n",
      "67/67 - 1s - loss: 338.1227 - val_loss: 156.3357 - 641ms/epoch - 10ms/step\n",
      "Epoch 118/700\n",
      "67/67 - 1s - loss: 367.3545 - val_loss: 176.8046 - 578ms/epoch - 9ms/step\n",
      "Epoch 119/700\n",
      "67/67 - 1s - loss: 338.4601 - val_loss: 188.7564 - 638ms/epoch - 10ms/step\n",
      "Epoch 120/700\n",
      "67/67 - 1s - loss: 385.9216 - val_loss: 151.1024 - 542ms/epoch - 8ms/step\n",
      "Epoch 121/700\n",
      "67/67 - 1s - loss: 329.3097 - val_loss: 205.1871 - 543ms/epoch - 8ms/step\n",
      "Epoch 122/700\n",
      "67/67 - 1s - loss: 379.1945 - val_loss: 166.0580 - 519ms/epoch - 8ms/step\n",
      "Epoch 123/700\n",
      "67/67 - 1s - loss: 385.6450 - val_loss: 151.7969 - 516ms/epoch - 8ms/step\n",
      "Epoch 124/700\n",
      "67/67 - 1s - loss: 371.9050 - val_loss: 150.1484 - 614ms/epoch - 9ms/step\n",
      "Epoch 125/700\n",
      "67/67 - 1s - loss: 370.4943 - val_loss: 187.9921 - 582ms/epoch - 9ms/step\n",
      "Epoch 126/700\n",
      "67/67 - 1s - loss: 353.1580 - val_loss: 159.4120 - 616ms/epoch - 9ms/step\n",
      "Epoch 127/700\n",
      "67/67 - 1s - loss: 353.0858 - val_loss: 159.4049 - 694ms/epoch - 10ms/step\n",
      "Epoch 128/700\n",
      "67/67 - 0s - loss: 340.5726 - val_loss: 166.2187 - 474ms/epoch - 7ms/step\n",
      "Epoch 129/700\n",
      "67/67 - 1s - loss: 352.8574 - val_loss: 149.0166 - 537ms/epoch - 8ms/step\n",
      "Epoch 130/700\n",
      "67/67 - 1s - loss: 394.4819 - val_loss: 160.3154 - 561ms/epoch - 8ms/step\n"
     ]
    }
   ],
   "source": [
    "import tensorflow as tf\n",
    "from tensorflow import keras\n",
    "\n",
    "keras.utils.set_random_seed(42) # make things reproducible\n",
    "n_hidden = 256 # number of nodes in hidden layers\n",
    "\n",
    "# model = keras.models.Sequential([\n",
    "#     keras.layers.BatchNormalization(),\n",
    "#     keras.layers.Dense(n_hidden, activation='elu', input_shape=X_train.shape[1:]),\n",
    "#     keras.layers.BatchNormalization(),\n",
    "#     keras.layers.Dense(n_hidden, activation='elu'),\n",
    "#     keras.layers.BatchNormalization(),\n",
    "#     keras.layers.Dense(Y_train.shape[1])\n",
    "# ])\n",
    "\n",
    "# model = keras.models.Sequential([\n",
    "#     keras.layers.BatchNormalization(),\n",
    "#     keras.layers.Dense(n_hidden, activation='elu', kernel_initializer='he_normal', input_shape=X_train.shape[1:]),\n",
    "#     keras.layers.BatchNormalization(),\n",
    "#     keras.layers.Dense(n_hidden, activation='elu', kernel_initializer='he_normal'),\n",
    "#     keras.layers.BatchNormalization(),\n",
    "#     keras.layers.Dense(Y_train.shape[1])\n",
    "# ])\n",
    "\n",
    "# model = keras.models.Sequential([\n",
    "#     keras.layers.BatchNormalization(),\n",
    "#     keras.layers.Dense(n_hidden, activation='selu', kernel_initializer='lecun_normal', input_shape=X_train.shape[1:]),\n",
    "#     keras.layers.BatchNormalization(),\n",
    "#     keras.layers.Dense(n_hidden, activation='selu', kernel_initializer='lecun_normal'),\n",
    "#     keras.layers.BatchNormalization(),\n",
    "#     keras.layers.Dense(Y_train.shape[1])\n",
    "# ])\n",
    "\n",
    "## Monte Carlo dropout\n",
    "# class MCDropout(keras.layers.Dropout):\n",
    "#     def call(self, inputs):\n",
    "#         return super().call(inputs, training=True)\n",
    "\n",
    "# model = keras.models.Sequential([\n",
    "#     keras.layers.BatchNormalization(),\n",
    "#     keras.layers.Dense(n_hidden, input_shape=X_train.shape[1:]),\n",
    "#     keras.layers.LeakyReLU(alpha=0.01),\n",
    "#     keras.layers.BatchNormalization(),\n",
    "#     MCDropout(rate=0.1),\n",
    "#     keras.layers.Dense(n_hidden),\n",
    "#     keras.layers.LeakyReLU(alpha=0.01),\n",
    "#     keras.layers.BatchNormalization(),\n",
    "#     MCDropout(rate=0.1),\n",
    "#     keras.layers.Dense(Y_train.shape[1])\n",
    "# ])\n",
    "\n",
    "model = keras.models.Sequential([\n",
    "    keras.layers.BatchNormalization(),\n",
    "    keras.layers.Dense(n_hidden, input_shape=X_train.shape[1:]),\n",
    "    keras.layers.LeakyReLU(alpha=0.01),\n",
    "    keras.layers.BatchNormalization(),\n",
    "    keras.layers.Dense(n_hidden),\n",
    "    keras.layers.LeakyReLU(alpha=0.01),\n",
    "    keras.layers.BatchNormalization(),\n",
    "    keras.layers.Dense(Y_train.shape[1])\n",
    "])\n",
    "\n",
    "# model = keras.models.Sequential([\n",
    "#     keras.layers.BatchNormalization(),\n",
    "#     keras.layers.Dense(n_hidden, kernel_initializer='he_normal', input_shape=X_train.shape[1:]),\n",
    "#     keras.layers.LeakyReLU(alpha=0.01),\n",
    "#     keras.layers.BatchNormalization(),\n",
    "#     keras.layers.Dense(n_hidden, kernel_initializer='he_normal'),\n",
    "#     keras.layers.LeakyReLU(alpha=0.01),\n",
    "#     keras.layers.BatchNormalization(),\n",
    "#     keras.layers.Dense(Y_train.shape[1])\n",
    "# ])\n",
    "\n",
    "early_stopping_cb = keras.callbacks.EarlyStopping(patience=20, restore_best_weights=True)\n",
    "model.compile(loss='mean_squared_error', optimizer=keras.optimizers.Adam())\n",
    "history = model.fit(X_train, Y_train, epochs=700, verbose=2, validation_split=0.2, callbacks=[early_stopping_cb])"
   ]
  },
  {
   "cell_type": "code",
   "execution_count": 8,
   "id": "bac4911a-5fc8-4d73-a5f1-57494bfa23a9",
   "metadata": {},
   "outputs": [
    {
     "data": {
      "image/png": "[encoded data removed]",
      "text/plain": [
       "<Figure size 500x500 with 1 Axes>"
      ]
     },
     "metadata": {},
     "output_type": "display_data"
    }
   ],
   "source": [
    "df_history = pd.DataFrame(history.history)\n",
    "df_history.index = df_history.index + 1\n",
    "df_history.index.name = 'epoch'\n",
    "\n",
    "t = 40\n",
    "fig, ax = plt.subplots()\n",
    "_ = sns.lineplot(x=df_history[t:].index-0.5, y='loss', data=df_history[t:], ax=ax, label='training')\n",
    "_ = sns.lineplot(x=df_history[t:].index, y='val_loss', data=df_history[t:], ax=ax, label='validation')\n",
    "# _ = ax.set(yscale='log')"
   ]
  },
  {
   "cell_type": "code",
   "execution_count": 9,
   "id": "8523274f-260a-44a7-925b-47c5c10b1388",
   "metadata": {},
   "outputs": [],
   "source": [
    "# from sklearn.metrics import r2_score\n",
    "\n",
    "# # y_preds = np.stack([model(X_test, training=True) for s in range(500)])\n",
    "# y_preds = np.stack([model(X_test) for s in range(500)])\n",
    "# y_pred = y_preds.mean(axis=0)\n",
    "# print('Test set R squared:         {:.3f}'.format(r2_score(Y_test, y_pred)))"
   ]
  },
  {
   "cell_type": "markdown",
   "id": "1d61a4c7-1c7c-4763-a3b9-95cf7e90a778",
   "metadata": {},
   "source": [
    "MSE on training set"
   ]
  },
  {
   "cell_type": "code",
   "execution_count": 10,
   "id": "d3d763f6-508b-45d4-bdae-f2d6432b9904",
   "metadata": {},
   "outputs": [
    {
     "name": "stdout",
     "output_type": "stream",
     "text": [
      "83/83 [==============================] - 0s 4ms/step - loss: 139.0847\n"
     ]
    },
    {
     "data": {
      "text/plain": [
       "139.08465576171875"
      ]
     },
     "execution_count": 10,
     "metadata": {},
     "output_type": "execute_result"
    }
   ],
   "source": [
    "model.evaluate(X_train, Y_train)"
   ]
  },
  {
   "cell_type": "markdown",
   "id": "d517b44d-6ef6-4b3e-b298-bf608156f22e",
   "metadata": {},
   "source": [
    "MSE on test set"
   ]
  },
  {
   "cell_type": "code",
   "execution_count": 11,
   "id": "c683ea25-0567-4538-b688-32dd2f5f70bf",
   "metadata": {},
   "outputs": [
    {
     "name": "stdout",
     "output_type": "stream",
     "text": [
      "28/28 [==============================] - 0s 6ms/step - loss: 145.0471\n"
     ]
    },
    {
     "data": {
      "text/plain": [
       "145.04710388183594"
      ]
     },
     "execution_count": 11,
     "metadata": {},
     "output_type": "execute_result"
    }
   ],
   "source": [
    "model.evaluate(X_test, Y_test)"
   ]
  },
  {
   "cell_type": "code",
   "execution_count": 12,
   "id": "088695c1-3f9e-43a6-ae82-29e2a10674d9",
   "metadata": {},
   "outputs": [
    {
     "name": "stdout",
     "output_type": "stream",
     "text": [
      "83/83 [==============================] - 1s 5ms/step\n",
      "Training set R squared:         0.974\n",
      "Training set R squared for DIC: 0.966\n",
      "Training set R squared for TA:  0.983\n",
      "\n",
      "28/28 [==============================] - 0s 4ms/step\n",
      "Test set R squared:         0.973\n",
      "Test set R squared for DIC: 0.963\n",
      "Test set R squared for TA:  0.982\n"
     ]
    }
   ],
   "source": [
    "from sklearn.metrics import r2_score\n",
    "\n",
    "Y_pred_train = model.predict(X_train)\n",
    "print('Training set R squared:         {:.3f}'.format(r2_score(Y_train, Y_pred_train)))\n",
    "print('Training set R squared for DIC: {:.3f}'.format(r2_score(Y_train[:,0], Y_pred_train[:,0])))\n",
    "print('Training set R squared for TA:  {:.3f}\\n'.format(r2_score(Y_train[:,1], Y_pred_train[:,1])))\n",
    "\n",
    "Y_pred_test = model.predict(X_test)\n",
    "print('Test set R squared:         {:.3f}'.format(r2_score(Y_test, Y_pred_test)))\n",
    "print('Test set R squared for DIC: {:.3f}'.format(r2_score(Y_test[:,0], Y_pred_test[:,0])))\n",
    "print('Test set R squared for TA:  {:.3f}'.format(r2_score(Y_test[:,1], Y_pred_test[:,1])))"
   ]
  },
  {
   "cell_type": "code",
   "execution_count": 13,
   "id": "292bf8f2-9104-4ec5-844d-ff991f4d7ee7",
   "metadata": {},
   "outputs": [
    {
     "data": {
      "text/plain": [
       "(1930.56260945, 2430.60939955, 1909.8516845703125, 2428.4656982421875)"
      ]
     },
     "execution_count": 13,
     "metadata": {},
     "output_type": "execute_result"
    },
    {
     "data": {
      "image/png": "[encoded data removed]",
      "text/plain": [
       "<Figure size 1100x500 with 2 Axes>"
      ]
     },
     "metadata": {},
     "output_type": "display_data"
    }
   ],
   "source": [
    "fig, (ax0, ax1) = plt.subplots(1, 2, figsize=(11, 5))\n",
    "_ = sns.scatterplot(x=Y_test[:,0], y=Y_pred_test[:,0], ax=ax0)\n",
    "_ = sns.scatterplot(x=Y_test[:,1], y=Y_pred_test[:,1], ax=ax1)\n",
    "_ = ax0.set(xlabel='observed DIC', ylabel='predicted DIC', title='Neural Network - Test data set')\n",
    "_ = ax1.set(xlabel='observed TA', ylabel='predicted TA', title='Neural Network - Test data set')\n",
    "ax0.axis('equal')\n",
    "ax1.axis('equal')"
   ]
  },
  {
   "cell_type": "markdown",
   "id": "0f32a061-33b4-43c8-8188-bc5c0697b0ac",
   "metadata": {},
   "source": [
    "## Do k-fold cross-validation"
   ]
  },
  {
   "cell_type": "code",
   "execution_count": 14,
   "id": "94e3cd9b-3cd1-403b-99db-c1b42a6fa885",
   "metadata": {},
   "outputs": [
    {
     "name": "stdout",
     "output_type": "stream",
     "text": [
      "17/17 [==============================] - 0s 5ms/step\n",
      "Fold 1 test set R squared: 0.973\n",
      "17/17 [==============================] - 0s 5ms/step\n",
      "Fold 2 test set R squared: 0.974\n",
      "17/17 [==============================] - 0s 6ms/step\n",
      "Fold 3 test set R squared: 0.973\n",
      "17/17 [==============================] - 0s 5ms/step\n",
      "Fold 4 test set R squared: 0.978\n",
      "17/17 [==============================] - 0s 5ms/step\n",
      "Fold 5 test set R squared: 0.972\n",
      "\n",
      "Best R squared:  0.978\n",
      "Worst R squared: 0.972\n",
      "Mean R squared:  0.974\n"
     ]
    }
   ],
   "source": [
    "from sklearn.model_selection import KFold\n",
    "\n",
    "kf = KFold(n_splits=5, shuffle=True, random_state=42)\n",
    "score_vals = [] # store score values\n",
    "\n",
    "nn_reg = keras.models.Sequential([\n",
    "    keras.layers.BatchNormalization(),\n",
    "    keras.layers.Dense(n_hidden, input_shape=X_train.shape[1:]),\n",
    "    keras.layers.LeakyReLU(alpha=0.01),\n",
    "    keras.layers.BatchNormalization(),\n",
    "    keras.layers.Dense(n_hidden),\n",
    "    keras.layers.LeakyReLU(alpha=0.01),\n",
    "    keras.layers.BatchNormalization(),\n",
    "    keras.layers.Dense(Y_train.shape[1])\n",
    "])\n",
    "nn_reg.compile(loss='mean_squared_error', optimizer=keras.optimizers.Adam())\n",
    "\n",
    "for k, (train_idx, test_idx) in enumerate(kf.split(X_train)):\n",
    "    X_tr, X_te = X_train[train_idx], X_train[test_idx]\n",
    "    Y_tr, Y_te = Y_train[train_idx], Y_train[test_idx]\n",
    "    history_cv = nn_reg.fit(X_tr, Y_tr, epochs=700, verbose=0, validation_split=0.2, callbacks=[early_stopping_cb])\n",
    "    Y_pred = model.predict(X_te)\n",
    "    score = r2_score(Y_te, Y_pred)\n",
    "    score_vals.append(score)\n",
    "    print('Fold {} test set R squared: {:.3f}'.format(k+1, score))\n",
    "\n",
    "scores = np.array(score_vals)\n",
    "print('\\nBest R squared:  {:.3f}'.format(scores.max()))\n",
    "print('Worst R squared: {:.3f}'.format(scores.min()))\n",
    "print('Mean R squared:  {:.3f}'.format(scores.mean()))"
   ]
  },
  {
   "cell_type": "code",
   "execution_count": 15,
   "id": "cb58fce7-9ef8-48ff-863c-fa797920d173",
   "metadata": {},
   "outputs": [],
   "source": [
    "# from sklearn.model_selection import cross_val_score\n",
    "\n",
    "# def build_model(n_hidden=256, input_shape=X_train.shape[1:], alpha=0.01):\n",
    "#     nn_model = keras.models.Sequential([\n",
    "#         keras.layers.BatchNormalization(),\n",
    "#         keras.layers.Dense(n_hidden, input_shape=input_shape),\n",
    "#         keras.layers.LeakyReLU(alpha=alpha),\n",
    "#         keras.layers.BatchNormalization(),\n",
    "#         keras.layers.Dense(n_hidden),\n",
    "#         keras.layers.LeakyReLU(alpha=alpha),\n",
    "#         keras.layers.BatchNormalization(),\n",
    "#         keras.layers.Dense(Y_train.shape[1])\n",
    "#     ])\n",
    "#     nn_model.compile(loss='mean_squared_error', optimizer=keras.optimizers.Adam())\n",
    "#     return nn_model\n",
    "\n",
    "# # keras_reg = keras.wrappers.scikit_learn.KerasRegressor(build_model)\n",
    "# # keras_reg.fit(X_train, Y_train, epochs=300, verbose=2, validation_split=0.2, callbacks=[early_stopping_cb])\n",
    "\n",
    "# keras_reg = keras.wrappers.scikit_learn.KerasRegressor(build_fn=build_model, epochs=300, verbose=0,\n",
    "#                                                        validation_split=0.2, callbacks=[early_stopping_cb])\n",
    "# # estimator= KerasRegressor(build_fn=buildmodel, epochs=100, batch_size=10, verbose=0)\n",
    "\n",
    "# scores = cross_val_score(keras_reg, X_train, Y_train, n_jobs=-1)\n",
    "# scores"
   ]
  },
  {
   "cell_type": "markdown",
   "id": "5586c8ec-e9a2-4705-80a9-03cea81ec7e5",
   "metadata": {},
   "source": [
    "## Results"
   ]
  },
  {
   "cell_type": "markdown",
   "id": "ae35a32c-8c4e-4885-9078-cd6551525db2",
   "metadata": {},
   "source": [
    "Model $R^2$ scores on test set (using all variables):\n",
    "\n",
    "Configuration     | Total |  DIC  | TA\n",
    "------------------|-------|-------|------\n",
    "LeakyReLU + BN    | 0.974 | 0.964 | 0.985\n",
    "ELU + He + BN     | 0.972 | 0.961 | 0.983\n",
    "ELU + BN          | 0.969 | 0.957 | 0.981\n",
    "SELU + Lecun + BN | 0.968 | 0.957 | 0.980\n",
    "ELU + He          | 0.956 | 0.937 | 0.976\n",
    "LeakyReLU         | 0.950 | 0.930 | 0.970\n",
    "SELU + Lecun      | 0.947 | 0.933 | 0.961\n",
    "ELU               | 0.933 | 0.912 | 0.955"
   ]
  },
  {
   "cell_type": "code",
   "execution_count": 16,
   "id": "176c2b28-85ec-4d48-95fb-77c016df5f2f",
   "metadata": {},
   "outputs": [],
   "source": [
    "# def int2str(x):\n",
    "#     return '{:02d}'.format(x)\n",
    "\n",
    "# df['Month_str'] = df.Month.map(int2str)\n",
    "# pd.get_dummies(df[['Month_str']])"
   ]
  }
 ],
 "metadata": {
  "kernelspec": {
   "display_name": "Python 3 (ipykernel)",
   "language": "python",
   "name": "python3"
  },
  "language_info": {
   "codemirror_mode": {
    "name": "ipython",
    "version": 3
   },
   "file_extension": ".py",
   "mimetype": "text/x-python",
   "name": "python",
   "nbconvert_exporter": "python",
   "pygments_lexer": "ipython3",
   "version": "3.9.15"
  },
  "widgets": {
   "application/vnd.jupyter.widget-state+json": {
    "state": {},
    "version_major": 2,
    "version_minor": 0
   }
  }
 },
 "nbformat": 4,
 "nbformat_minor": 5
}
