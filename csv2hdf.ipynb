{
 "cells": [
  {
   "cell_type": "markdown",
   "id": "bcb30bb5-8ca6-42a7-af21-42bfd4ac6cac",
   "metadata": {},
   "source": [
    "# Convert CTD data from CSV to HDF5\n",
    "Created by Ivan Lima on Wed Nov  3 2021 09:22:12 -0400"
   ]
  },
  {
   "cell_type": "code",
   "execution_count": 1,
   "id": "50d96237-000b-446a-bc68-e9406086092c",
   "metadata": {},
   "outputs": [],
   "source": [
    "import pandas as pd\n",
    "\n",
    "# read CSV file\n",
    "df_ctd = pd.read_csv('data/modelledmoderncarbchem.csv', index_col=0)\n",
    "df_ctd['Date'] = pd.to_datetime(df_ctd[['Year','Month','Day']])\n",
    "\n",
    "# convert to HDF5 to save space\n",
    "df_ctd.to_hdf('data/modelledmoderncarbchem.h5', key='df_ctd', mode='w', complevel=9)"
   ]
  },
  {
   "cell_type": "code",
   "execution_count": 2,
   "id": "4f91fb5f-b1ab-49f1-8802-cdd386d85042",
   "metadata": {},
   "outputs": [
    {
     "name": "stderr",
     "output_type": "stream",
     "text": [
      "  data/modelledmoderncarbchem.csv:  4.223:1,  1.894 bits/byte, 76.32% saved, 459243520 in, 108753530 out.\n"
     ]
    }
   ],
   "source": [
    "%%bash\n",
    "bzip2 -v data/modelledmoderncarbchem.csv"
   ]
  }
 ],
 "metadata": {
  "kernelspec": {
   "display_name": "Python 3 (ipykernel)",
   "language": "python",
   "name": "python3"
  },
  "language_info": {
   "codemirror_mode": {
    "name": "ipython",
    "version": 3
   },
   "file_extension": ".py",
   "mimetype": "text/x-python",
   "name": "python",
   "nbconvert_exporter": "python",
   "pygments_lexer": "ipython3",
   "version": "3.9.7"
  },
  "widgets": {
   "application/vnd.jupyter.widget-state+json": {
    "state": {},
    "version_major": 2,
    "version_minor": 0
   }
  }
 },
 "nbformat": 4,
 "nbformat_minor": 5
}
