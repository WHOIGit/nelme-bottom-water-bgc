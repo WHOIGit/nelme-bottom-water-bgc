{
 "cells": [
  {
   "cell_type": "markdown",
   "id": "9ebe8c12-97c6-48eb-a62d-19d69f8063ce",
   "metadata": {},
   "source": [
    "# Apply pytorch neural network model to CTD data\n",
    "Created by Ivan Lima on Fri Dec 10 2021 11:38:55 -0500"
   ]
  },
  {
   "cell_type": "code",
   "execution_count": 1,
   "id": "e3ddd371-5c9f-419b-a1b1-8d42aa0203ae",
   "metadata": {},
   "outputs": [
    {
     "name": "stdout",
     "output_type": "stream",
     "text": [
      "Last updated on Wed Apr  6 16:30:57 2022\n"
     ]
    }
   ],
   "source": [
    "import pandas as pd\n",
    "import numpy as np\n",
    "import os, datetime, warnings\n",
    "print('Last updated on {}'.format(datetime.datetime.now().ctime()))"
   ]
  },
  {
   "cell_type": "code",
   "execution_count": 2,
   "id": "7171fe01-96f9-4f73-933e-d947e9ed61c6",
   "metadata": {},
   "outputs": [],
   "source": [
    "pd.options.display.max_columns = 50\n",
    "warnings.filterwarnings('ignore')"
   ]
  },
  {
   "cell_type": "markdown",
   "id": "1be43c6b-d68e-40ef-a344-2002dd034a3c",
   "metadata": {},
   "source": [
    "## Read merged CTD & satellite data "
   ]
  },
  {
   "cell_type": "code",
   "execution_count": 3,
   "id": "f1d2c115-0289-48fd-b025-1fdb3487de0a",
   "metadata": {},
   "outputs": [
    {
     "name": "stdout",
     "output_type": "stream",
     "text": [
      "Total number of valid CTD points: 11,015,435\n",
      "\n",
      "<class 'pandas.core.frame.DataFrame'>\n",
      "Int64Index: 11015435 entries, 3298535 to 14539801\n",
      "Data columns (total 21 columns):\n",
      " #   Column         Dtype         \n",
      "---  ------         -----         \n",
      " 0   Cast           float64       \n",
      " 1   Latitude       float64       \n",
      " 2   Longitude      float64       \n",
      " 3   Date           datetime64[ns]\n",
      " 4   Depth          float64       \n",
      " 5   Temperature    float64       \n",
      " 6   Salinity       float64       \n",
      " 7   Oxygen         float64       \n",
      " 8   pCO2_yearhave  float64       \n",
      " 9   pCO2_monthave  float64       \n",
      " 10  Platform_Type  float64       \n",
      " 11  Temp_flag      float64       \n",
      " 12  Salt_flag      float64       \n",
      " 13  DO_flag        float64       \n",
      " 14  bottom_depth   int64         \n",
      " 15  SLA            float64       \n",
      " 16  SST            float64       \n",
      " 17  SST_hires      float64       \n",
      " 18  Chl            float64       \n",
      " 19  KD490          float64       \n",
      " 20  log_KD490      float64       \n",
      "dtypes: datetime64[ns](1), float64(19), int64(1)\n",
      "memory usage: 1.8 GB\n"
     ]
    }
   ],
   "source": [
    "# Set input variables\n",
    "features = ['Depth', 'bottom_depth', 'Temperature', 'Salinity', 'pCO2_monthave', 'SLA', 'SST_hires', 'log_KD490']\n",
    "\n",
    "df_ctd = pd.read_hdf('data/CombinedCTD_satellite_1981-2021.h5', key='df_ctd_sat')\n",
    "df_ctd['log_KD490'] = np.log(df_ctd.KD490) # log-transformed KD490\n",
    "df_ctd = df_ctd.rename(columns={'pCO2_year':'pCO2_yearhave', 'pCO2_month':'pCO2_monthave'})\n",
    "df_ctd = df_ctd[~df_ctd[features].isnull().any(axis=1)]\n",
    "\n",
    "print('Total number of valid CTD points: {:,}\\n'.format(len(df_ctd)))\n",
    "df_ctd.info()"
   ]
  },
  {
   "cell_type": "markdown",
   "id": "7ffbaf8a-4071-4fdd-b523-2c247e564092",
   "metadata": {},
   "source": [
    "## Load neural network model and data scaler"
   ]
  },
  {
   "cell_type": "code",
   "execution_count": 4,
   "id": "d6eb5d97-5301-424d-963e-4f8cfffcb087",
   "metadata": {},
   "outputs": [
    {
     "data": {
      "text/plain": [
       "MLPReg(\n",
       "  (l1): Linear(in_features=8, out_features=256, bias=True)\n",
       "  (l2): Linear(in_features=256, out_features=256, bias=True)\n",
       "  (l3): Linear(in_features=256, out_features=2, bias=True)\n",
       "  (activ): LeakyReLU(negative_slope=0.01)\n",
       ")"
      ]
     },
     "execution_count": 4,
     "metadata": {},
     "output_type": "execute_result"
    }
   ],
   "source": [
    "import torch, joblib\n",
    "import torch.nn as nn\n",
    "\n",
    "scaler = joblib.load('models/scaler.joblib')\n",
    "\n",
    "n_features = 8 # number of input variables\n",
    "n_targets = 2  # number of output variables\n",
    "n_hidden = 256 # number of hidden layers\n",
    "learning_rate = 0.001\n",
    "\n",
    "class MLPReg(nn.Module):\n",
    "    def __init__(self, n_features, n_hidden, n_targets):\n",
    "        super(MLPReg, self).__init__()\n",
    "        self.l1    = nn.Linear(n_features, n_hidden)\n",
    "        self.l2    = nn.Linear(n_hidden, n_hidden)\n",
    "        self.l3    = nn.Linear(n_hidden, n_targets)\n",
    "        self.activ = nn.LeakyReLU()\n",
    "    \n",
    "    def forward(self, x):\n",
    "        out = self.l1(x)\n",
    "        out = self.activ(out)\n",
    "        out = self.l2(out)\n",
    "        out = self.activ(out)\n",
    "        out = self.l3(out)\n",
    "        return out\n",
    "\n",
    "nn_reg = MLPReg(n_features=n_features, n_hidden=n_hidden, n_targets=n_targets) # create model instance\n",
    "loss_func = nn.MSELoss()                                                       # loss function (mean square error)\n",
    "optimizer = torch.optim.Adam(nn_reg.parameters(), lr=learning_rate)            # optimizer\n",
    "\n",
    "nn_reg.load_state_dict(torch.load('models/nn_reg_noO2_state.pth'))\n",
    "nn_reg.eval()"
   ]
  },
  {
   "cell_type": "markdown",
   "id": "3c9d103e-2a70-43bc-9b0a-6fa7e639bba6",
   "metadata": {},
   "source": [
    "## Apply neural network model to CTD data"
   ]
  },
  {
   "cell_type": "code",
   "execution_count": 5,
   "id": "c366cecc-5a29-49ac-a2e8-3765b2bce49e",
   "metadata": {},
   "outputs": [
    {
     "data": {
      "text/html": [
       "<div>\n",
       "<style scoped>\n",
       "    .dataframe tbody tr th:only-of-type {\n",
       "        vertical-align: middle;\n",
       "    }\n",
       "\n",
       "    .dataframe tbody tr th {\n",
       "        vertical-align: top;\n",
       "    }\n",
       "\n",
       "    .dataframe thead th {\n",
       "        text-align: right;\n",
       "    }\n",
       "</style>\n",
       "<table border=\"1\" class=\"dataframe\">\n",
       "  <thead>\n",
       "    <tr style=\"text-align: right;\">\n",
       "      <th></th>\n",
       "      <th>Depth</th>\n",
       "      <th>bottom_depth</th>\n",
       "      <th>Temperature</th>\n",
       "      <th>Salinity</th>\n",
       "      <th>pCO2_monthave</th>\n",
       "      <th>SLA</th>\n",
       "      <th>SST_hires</th>\n",
       "      <th>log_KD490</th>\n",
       "      <th>DIC</th>\n",
       "      <th>TA</th>\n",
       "    </tr>\n",
       "  </thead>\n",
       "  <tbody>\n",
       "    <tr>\n",
       "      <th>3298535</th>\n",
       "      <td>1.984350</td>\n",
       "      <td>158</td>\n",
       "      <td>8.57</td>\n",
       "      <td>32.401001</td>\n",
       "      <td>375.69</td>\n",
       "      <td>0.004074</td>\n",
       "      <td>9.777556</td>\n",
       "      <td>-2.493288</td>\n",
       "      <td>2062.703613</td>\n",
       "      <td>2242.923584</td>\n",
       "    </tr>\n",
       "    <tr>\n",
       "      <th>3298536</th>\n",
       "      <td>2.976518</td>\n",
       "      <td>158</td>\n",
       "      <td>7.91</td>\n",
       "      <td>32.492001</td>\n",
       "      <td>375.69</td>\n",
       "      <td>0.004074</td>\n",
       "      <td>9.777556</td>\n",
       "      <td>-2.493288</td>\n",
       "      <td>2062.651611</td>\n",
       "      <td>2242.545654</td>\n",
       "    </tr>\n",
       "    <tr>\n",
       "      <th>3298537</th>\n",
       "      <td>3.968682</td>\n",
       "      <td>158</td>\n",
       "      <td>7.74</td>\n",
       "      <td>32.466000</td>\n",
       "      <td>375.69</td>\n",
       "      <td>0.004074</td>\n",
       "      <td>9.777556</td>\n",
       "      <td>-2.493288</td>\n",
       "      <td>2062.236572</td>\n",
       "      <td>2241.744629</td>\n",
       "    </tr>\n",
       "    <tr>\n",
       "      <th>3298538</th>\n",
       "      <td>4.960840</td>\n",
       "      <td>158</td>\n",
       "      <td>7.64</td>\n",
       "      <td>32.556999</td>\n",
       "      <td>375.69</td>\n",
       "      <td>0.004074</td>\n",
       "      <td>9.777556</td>\n",
       "      <td>-2.493288</td>\n",
       "      <td>2064.441895</td>\n",
       "      <td>2243.039307</td>\n",
       "    </tr>\n",
       "    <tr>\n",
       "      <th>3298539</th>\n",
       "      <td>5.952994</td>\n",
       "      <td>158</td>\n",
       "      <td>7.57</td>\n",
       "      <td>32.673000</td>\n",
       "      <td>375.69</td>\n",
       "      <td>0.004074</td>\n",
       "      <td>9.777556</td>\n",
       "      <td>-2.493288</td>\n",
       "      <td>2067.389893</td>\n",
       "      <td>2244.982910</td>\n",
       "    </tr>\n",
       "  </tbody>\n",
       "</table>\n",
       "</div>"
      ],
      "text/plain": [
       "            Depth  bottom_depth  Temperature   Salinity  pCO2_monthave  \\\n",
       "3298535  1.984350           158         8.57  32.401001         375.69   \n",
       "3298536  2.976518           158         7.91  32.492001         375.69   \n",
       "3298537  3.968682           158         7.74  32.466000         375.69   \n",
       "3298538  4.960840           158         7.64  32.556999         375.69   \n",
       "3298539  5.952994           158         7.57  32.673000         375.69   \n",
       "\n",
       "              SLA  SST_hires  log_KD490          DIC           TA  \n",
       "3298535  0.004074   9.777556  -2.493288  2062.703613  2242.923584  \n",
       "3298536  0.004074   9.777556  -2.493288  2062.651611  2242.545654  \n",
       "3298537  0.004074   9.777556  -2.493288  2062.236572  2241.744629  \n",
       "3298538  0.004074   9.777556  -2.493288  2064.441895  2243.039307  \n",
       "3298539  0.004074   9.777556  -2.493288  2067.389893  2244.982910  "
      ]
     },
     "execution_count": 5,
     "metadata": {},
     "output_type": "execute_result"
    }
   ],
   "source": [
    "X_numpy = df_ctd[features].values\n",
    "X_numpy_scaled = scaler.transform(X_numpy) # rescale features\n",
    "X = torch.from_numpy(X_numpy_scaled.astype(np.float32)) # convert array to tensor\n",
    "\n",
    "# apply model to rescaled features\n",
    "with torch.no_grad():\n",
    "    Y_pred = nn_reg(X)\n",
    "\n",
    "# add estimated DIC & TA to dataframe\n",
    "df_ctd['DIC'] = Y_pred[:,0]\n",
    "df_ctd['TA'] = Y_pred[:,1]\n",
    "\n",
    "df_ctd[features +['DIC','TA']].head()"
   ]
  },
  {
   "cell_type": "markdown",
   "id": "9a2ecdd4-f37e-4a7a-acf5-41b1af15f390",
   "metadata": {},
   "source": [
    "## Write merged CTD & satellite data with DIC & TA to HDF5 file"
   ]
  },
  {
   "cell_type": "code",
   "execution_count": 6,
   "id": "55f483f4-0c74-440c-a2ae-c739d2d10c68",
   "metadata": {},
   "outputs": [
    {
     "name": "stdout",
     "output_type": "stream",
     "text": [
      "writing data/CombinedCTD_satellite_bgc_pytorch_2002-2019.h5\n"
     ]
    }
   ],
   "source": [
    "yr_min, yr_max = df_ctd.Date.dt.year.min(), df_ctd.Date.dt.year.max()\n",
    "outfile = 'data/CombinedCTD_satellite_bgc_pytorch_{}-{}.h5'.format(yr_min, yr_max)\n",
    "print('writing {}'.format(outfile))\n",
    "df_ctd.to_hdf(outfile, key='df_ctd', mode='w', complevel=9)"
   ]
  },
  {
   "cell_type": "markdown",
   "id": "6cd9c5e7-2e8e-4555-abd5-be6c36cda017",
   "metadata": {},
   "source": [
    "## Use 1/4 degree SST instead of high resolution SST"
   ]
  },
  {
   "cell_type": "code",
   "execution_count": 7,
   "id": "372c9266-48ff-4699-9405-aee18b7eaeaf",
   "metadata": {},
   "outputs": [
    {
     "name": "stdout",
     "output_type": "stream",
     "text": [
      "Total number of valid CTD points: 11,546,497\n",
      "\n"
     ]
    }
   ],
   "source": [
    "features2 = ['Depth', 'bottom_depth', 'Temperature', 'Salinity', 'pCO2_monthave', 'SLA', 'SST', 'log_KD490']\n",
    "\n",
    "df_ctd = pd.read_hdf('data/CombinedCTD_satellite_1981-2021.h5', key='df_ctd_sat')\n",
    "df_ctd['log_KD490'] = np.log(df_ctd.KD490) # log-transformed KD490\n",
    "df_ctd = df_ctd.rename(columns={'pCO2_year':'pCO2_yearhave', 'pCO2_month':'pCO2_monthave'})\n",
    "df_ctd = df_ctd[~df_ctd[features2].isnull().any(axis=1)]\n",
    "\n",
    "print('Total number of valid CTD points: {:,}\\n'.format(len(df_ctd)))"
   ]
  },
  {
   "cell_type": "code",
   "execution_count": 8,
   "id": "8fb98a33-100a-4929-8095-a13f96f48b19",
   "metadata": {},
   "outputs": [
    {
     "name": "stdout",
     "output_type": "stream",
     "text": [
      "writing data/CombinedCTD_satellite_bgc_pytorch_1998-2019.h5\n"
     ]
    }
   ],
   "source": [
    "X_numpy = df_ctd[features2].values\n",
    "X_numpy_scaled = scaler.transform(X_numpy) # rescale features\n",
    "X = torch.from_numpy(X_numpy_scaled.astype(np.float32)) # convert array to tensor\n",
    "with torch.no_grad(): # apply model to rescaled features\n",
    "    Y_pred = nn_reg(X)\n",
    "\n",
    "# add estimated DIC & TA to dataframe\n",
    "df_ctd['DIC'] = Y_pred[:,0]\n",
    "df_ctd['TA'] = Y_pred[:,1]\n",
    "\n",
    "yr_min, yr_max = df_ctd.Date.dt.year.min(), df_ctd.Date.dt.year.max()\n",
    "outfile = 'data/CombinedCTD_satellite_bgc_pytorch_{}-{}.h5'.format(yr_min, yr_max)\n",
    "print('writing {}'.format(outfile))\n",
    "df_ctd.to_hdf(outfile, key='df_ctd', mode='w', complevel=9)"
   ]
  }
 ],
 "metadata": {
  "kernelspec": {
   "display_name": "Python 3 (ipykernel)",
   "language": "python",
   "name": "python3"
  },
  "language_info": {
   "codemirror_mode": {
    "name": "ipython",
    "version": 3
   },
   "file_extension": ".py",
   "mimetype": "text/x-python",
   "name": "python",
   "nbconvert_exporter": "python",
   "pygments_lexer": "ipython3",
   "version": "3.9.15"
  },
  "widgets": {
   "application/vnd.jupyter.widget-state+json": {
    "state": {},
    "version_major": 2,
    "version_minor": 0
   }
  }
 },
 "nbformat": 4,
 "nbformat_minor": 5
}
