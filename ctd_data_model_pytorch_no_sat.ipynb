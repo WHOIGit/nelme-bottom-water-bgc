{
 "cells": [
  {
   "cell_type": "markdown",
   "id": "9ebe8c12-97c6-48eb-a62d-19d69f8063ce",
   "metadata": {},
   "source": [
    "# Apply pytorch neural network model to CTD data\n",
    "Created by Ivan Lima on Wed Dec 15 2021 16:11:53 -0500"
   ]
  },
  {
   "cell_type": "markdown",
   "id": "3379cb2d-0de1-4912-8d9a-53d6dd6d0d37",
   "metadata": {},
   "source": [
    "This version of the neural network model does not include satellite data as input features."
   ]
  },
  {
   "cell_type": "code",
   "execution_count": 1,
   "id": "e3ddd371-5c9f-419b-a1b1-8d42aa0203ae",
   "metadata": {},
   "outputs": [
    {
     "name": "stdout",
     "output_type": "stream",
     "text": [
      "Last updated on Mon Mar  7 10:49:12 2022\n"
     ]
    }
   ],
   "source": [
    "%matplotlib inline\n",
    "import pandas as pd\n",
    "import numpy as np\n",
    "import seaborn as sns\n",
    "import matplotlib.pyplot as plt\n",
    "import os, datetime, warnings\n",
    "print('Last updated on {}'.format(datetime.datetime.now().ctime()))"
   ]
  },
  {
   "cell_type": "code",
   "execution_count": 2,
   "id": "7171fe01-96f9-4f73-933e-d947e9ed61c6",
   "metadata": {},
   "outputs": [],
   "source": [
    "sns.set_theme(context='paper', style='ticks', palette='tab10', rc={'figure.dpi':100, 'figure.figsize':[5, 5], 'axes.grid':True})\n",
    "pd.options.display.max_columns = 50\n",
    "warnings.filterwarnings('ignore')"
   ]
  },
  {
   "cell_type": "markdown",
   "id": "1be43c6b-d68e-40ef-a344-2002dd034a3c",
   "metadata": {},
   "source": [
    "## Read merged CTD data "
   ]
  },
  {
   "cell_type": "code",
   "execution_count": 3,
   "id": "f1d2c115-0289-48fd-b025-1fdb3487de0a",
   "metadata": {},
   "outputs": [
    {
     "name": "stdout",
     "output_type": "stream",
     "text": [
      "Total number of valid CTD points: 11,976,547\n",
      "\n",
      "<class 'pandas.core.frame.DataFrame'>\n",
      "Int64Index: 11976547 entries, 46495 to 12023041\n",
      "Data columns (total 15 columns):\n",
      " #   Column         Dtype         \n",
      "---  ------         -----         \n",
      " 0   Cast           float64       \n",
      " 1   Latitude       float64       \n",
      " 2   Longitude      float64       \n",
      " 3   Depth          float64       \n",
      " 4   Temperature    float64       \n",
      " 5   Temp_flag      float64       \n",
      " 6   Salinity       float64       \n",
      " 7   Salt_flag      float64       \n",
      " 8   Oxygen         float64       \n",
      " 9   DO_flag        float64       \n",
      " 10  Platform_Type  float64       \n",
      " 11  pCO2_yearhave  float64       \n",
      " 12  pCO2_monthave  float64       \n",
      " 13  Date           datetime64[ns]\n",
      " 14  bottom_depth   int64         \n",
      "dtypes: datetime64[ns](1), float64(13), int64(1)\n",
      "memory usage: 1.4 GB\n"
     ]
    }
   ],
   "source": [
    "# Set input variables\n",
    "features = ['Depth', 'bottom_depth', 'Temperature', 'Salinity', 'pCO2_monthave']\n",
    "\n",
    "df_ctd = pd.read_hdf('data/CombinedCTD_600m_1873-2021.h5', key='df_ctd')\n",
    "df_ctd = df_ctd.rename(columns={'pCO2_year':'pCO2_yearhave', 'pCO2_month':'pCO2_monthave'})\n",
    "df_ctd = df_ctd[~df_ctd[features].isnull().any(axis=1)]\n",
    "print('Total number of valid CTD points: {:,}\\n'.format(len(df_ctd)))\n",
    "df_ctd.info()"
   ]
  },
  {
   "cell_type": "markdown",
   "id": "7ffbaf8a-4071-4fdd-b523-2c247e564092",
   "metadata": {},
   "source": [
    "## Load neural network model and data scaler"
   ]
  },
  {
   "cell_type": "code",
   "execution_count": 4,
   "id": "d6eb5d97-5301-424d-963e-4f8cfffcb087",
   "metadata": {},
   "outputs": [
    {
     "data": {
      "text/plain": [
       "MLPReg(\n",
       "  (l1): Linear(in_features=5, out_features=256, bias=True)\n",
       "  (l2): Linear(in_features=256, out_features=256, bias=True)\n",
       "  (l3): Linear(in_features=256, out_features=2, bias=True)\n",
       "  (activ): LeakyReLU(negative_slope=0.01)\n",
       ")"
      ]
     },
     "execution_count": 4,
     "metadata": {},
     "output_type": "execute_result"
    }
   ],
   "source": [
    "import torch, joblib\n",
    "import torch.nn as nn\n",
    "\n",
    "scaler = joblib.load('models/scaler_nosat.joblib')\n",
    "\n",
    "n_features = len(features) # number of input variables\n",
    "n_targets = 2  # number of output variables\n",
    "n_hidden = 256 # number of hidden layers\n",
    "learning_rate = 0.001\n",
    "\n",
    "class MLPReg(nn.Module):\n",
    "    def __init__(self, n_features, n_hidden, n_targets):\n",
    "        super(MLPReg, self).__init__()\n",
    "        self.l1    = nn.Linear(n_features, n_hidden)\n",
    "        self.l2    = nn.Linear(n_hidden, n_hidden)\n",
    "        self.l3    = nn.Linear(n_hidden, n_targets)\n",
    "        self.activ = nn.LeakyReLU()\n",
    "    \n",
    "    def forward(self, x):\n",
    "        out = self.l1(x)\n",
    "        out = self.activ(out)\n",
    "        out = self.l2(out)\n",
    "        out = self.activ(out)\n",
    "        out = self.l3(out)\n",
    "        return out\n",
    "\n",
    "nn_reg = MLPReg(n_features=n_features, n_hidden=n_hidden, n_targets=n_targets) # create model instance\n",
    "loss_func = nn.MSELoss()                                                       # loss function (mean square error)\n",
    "optimizer = torch.optim.Adam(nn_reg.parameters(), lr=learning_rate)            # optimizer\n",
    "\n",
    "nn_reg.load_state_dict(torch.load('models/nn_reg_nosat_state.pth'))\n",
    "nn_reg.eval()"
   ]
  },
  {
   "cell_type": "markdown",
   "id": "3c9d103e-2a70-43bc-9b0a-6fa7e639bba6",
   "metadata": {},
   "source": [
    "## Apply neural network model to CTD data"
   ]
  },
  {
   "cell_type": "code",
   "execution_count": 5,
   "id": "c366cecc-5a29-49ac-a2e8-3765b2bce49e",
   "metadata": {},
   "outputs": [
    {
     "data": {
      "text/html": [
       "<div>\n",
       "<style scoped>\n",
       "    .dataframe tbody tr th:only-of-type {\n",
       "        vertical-align: middle;\n",
       "    }\n",
       "\n",
       "    .dataframe tbody tr th {\n",
       "        vertical-align: top;\n",
       "    }\n",
       "\n",
       "    .dataframe thead th {\n",
       "        text-align: right;\n",
       "    }\n",
       "</style>\n",
       "<table border=\"1\" class=\"dataframe\">\n",
       "  <thead>\n",
       "    <tr style=\"text-align: right;\">\n",
       "      <th></th>\n",
       "      <th>Depth</th>\n",
       "      <th>bottom_depth</th>\n",
       "      <th>Temperature</th>\n",
       "      <th>Salinity</th>\n",
       "      <th>pCO2_monthave</th>\n",
       "      <th>Date</th>\n",
       "      <th>DIC</th>\n",
       "      <th>TA</th>\n",
       "    </tr>\n",
       "  </thead>\n",
       "  <tbody>\n",
       "    <tr>\n",
       "      <th>46495</th>\n",
       "      <td>54.0</td>\n",
       "      <td>55</td>\n",
       "      <td>15.770</td>\n",
       "      <td>36.000000</td>\n",
       "      <td>315.7</td>\n",
       "      <td>1958-03-01</td>\n",
       "      <td>2879.596680</td>\n",
       "      <td>3238.353271</td>\n",
       "    </tr>\n",
       "    <tr>\n",
       "      <th>46496</th>\n",
       "      <td>0.0</td>\n",
       "      <td>55</td>\n",
       "      <td>6.660</td>\n",
       "      <td>32.659000</td>\n",
       "      <td>315.7</td>\n",
       "      <td>1958-03-02</td>\n",
       "      <td>3030.841797</td>\n",
       "      <td>3282.488525</td>\n",
       "    </tr>\n",
       "    <tr>\n",
       "      <th>46497</th>\n",
       "      <td>0.0</td>\n",
       "      <td>55</td>\n",
       "      <td>5.380</td>\n",
       "      <td>32.569000</td>\n",
       "      <td>315.7</td>\n",
       "      <td>1958-03-03</td>\n",
       "      <td>3055.965576</td>\n",
       "      <td>3295.482178</td>\n",
       "    </tr>\n",
       "    <tr>\n",
       "      <th>46498</th>\n",
       "      <td>0.0</td>\n",
       "      <td>55</td>\n",
       "      <td>4.555</td>\n",
       "      <td>32.039001</td>\n",
       "      <td>315.7</td>\n",
       "      <td>1958-03-04</td>\n",
       "      <td>3071.268311</td>\n",
       "      <td>3307.949463</td>\n",
       "    </tr>\n",
       "    <tr>\n",
       "      <th>46499</th>\n",
       "      <td>0.0</td>\n",
       "      <td>55</td>\n",
       "      <td>4.880</td>\n",
       "      <td>32.519001</td>\n",
       "      <td>315.7</td>\n",
       "      <td>1958-03-05</td>\n",
       "      <td>3066.236816</td>\n",
       "      <td>3300.008545</td>\n",
       "    </tr>\n",
       "  </tbody>\n",
       "</table>\n",
       "</div>"
      ],
      "text/plain": [
       "       Depth  bottom_depth  Temperature   Salinity  pCO2_monthave       Date  \\\n",
       "46495   54.0            55       15.770  36.000000          315.7 1958-03-01   \n",
       "46496    0.0            55        6.660  32.659000          315.7 1958-03-02   \n",
       "46497    0.0            55        5.380  32.569000          315.7 1958-03-03   \n",
       "46498    0.0            55        4.555  32.039001          315.7 1958-03-04   \n",
       "46499    0.0            55        4.880  32.519001          315.7 1958-03-05   \n",
       "\n",
       "               DIC           TA  \n",
       "46495  2879.596680  3238.353271  \n",
       "46496  3030.841797  3282.488525  \n",
       "46497  3055.965576  3295.482178  \n",
       "46498  3071.268311  3307.949463  \n",
       "46499  3066.236816  3300.008545  "
      ]
     },
     "execution_count": 5,
     "metadata": {},
     "output_type": "execute_result"
    }
   ],
   "source": [
    "X_numpy = df_ctd[features].values\n",
    "X_numpy_scaled = scaler.transform(X_numpy) # rescale features\n",
    "X = torch.from_numpy(X_numpy_scaled.astype(np.float32)) # convert array to tensor\n",
    "\n",
    "# apply model to rescaled features\n",
    "with torch.no_grad():\n",
    "    Y_pred = nn_reg(X)\n",
    "\n",
    "# add estimated DIC & TA to dataframe\n",
    "df_ctd['DIC'] = Y_pred[:,0]\n",
    "df_ctd['TA'] = Y_pred[:,1]\n",
    "\n",
    "df_ctd[features + ['Date','DIC','TA']].head()"
   ]
  },
  {
   "cell_type": "markdown",
   "id": "9a2ecdd4-f37e-4a7a-acf5-41b1af15f390",
   "metadata": {},
   "source": [
    "## Write merged CTD data with DIC & TA to HDF5 file"
   ]
  },
  {
   "cell_type": "code",
   "execution_count": 6,
   "id": "55f483f4-0c74-440c-a2ae-c739d2d10c68",
   "metadata": {},
   "outputs": [
    {
     "name": "stdout",
     "output_type": "stream",
     "text": [
      "writing data/CombinedCTD_600m_bgc_pytorch_1958-2021.h5\n"
     ]
    }
   ],
   "source": [
    "yr_min, yr_max = df_ctd.Date.dt.year.min(), df_ctd.Date.dt.year.max()\n",
    "outfile = 'data/CombinedCTD_600m_bgc_pytorch_{}-{}.h5'.format(yr_min, yr_max)\n",
    "print('writing {}'.format(outfile))\n",
    "df_ctd.to_hdf(outfile, key='df_ctd', mode='w', complevel=9)"
   ]
  }
 ],
 "metadata": {
  "kernelspec": {
   "display_name": "Python 3 (ipykernel)",
   "language": "python",
   "name": "python3"
  },
  "language_info": {
   "codemirror_mode": {
    "name": "ipython",
    "version": 3
   },
   "file_extension": ".py",
   "mimetype": "text/x-python",
   "name": "python",
   "nbconvert_exporter": "python",
   "pygments_lexer": "ipython3",
   "version": "3.9.10"
  },
  "widgets": {
   "application/vnd.jupyter.widget-state+json": {
    "state": {},
    "version_major": 2,
    "version_minor": 0
   }
  }
 },
 "nbformat": 4,
 "nbformat_minor": 5
}
