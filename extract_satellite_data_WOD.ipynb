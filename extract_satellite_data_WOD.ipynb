{
 "cells": [
  {
   "cell_type": "markdown",
   "id": "b51fa8ce-0767-4e11-b698-36f0ac3b2fd5",
   "metadata": {},
   "source": [
    "# Extract satellite data at time and location of WOD data\n",
    "Crrated by Ivan Lima on Tue Nov 30 2021 14:13:34 -0500"
   ]
  },
  {
   "cell_type": "markdown",
   "id": "655df375-f13b-4982-a1df-d98ccc078d18",
   "metadata": {},
   "source": [
    "This notebook is used for development and testing. The satellite data extraction is done using the Python script `extract_satellite_data_WOD.py`"
   ]
  },
  {
   "cell_type": "code",
   "execution_count": 1,
   "id": "136727d9-baa9-4b8d-83eb-d1bd7575ca2e",
   "metadata": {},
   "outputs": [
    {
     "name": "stdout",
     "output_type": "stream",
     "text": [
      "Last updated on Thu Dec  2 10:26:54 2021\n"
     ]
    }
   ],
   "source": [
    "%matplotlib inline\n",
    "import pandas as pd\n",
    "import xarray as xr\n",
    "import numpy as np\n",
    "import datetime, os, glob, warnings\n",
    "import matplotlib.pyplot as plt\n",
    "import seaborn as sns\n",
    "from tqdm import tnrange, notebook\n",
    "from ccsm_utils import find_stn, find_stn_idx, find_closest_pt, extract_loc\n",
    "from cesm_utils import da2ma\n",
    "print('Last updated on {}'.format(datetime.datetime.now().ctime()))"
   ]
  },
  {
   "cell_type": "code",
   "execution_count": 2,
   "id": "e92a37ad-c4f8-4012-a12c-8c2dc0b5075c",
   "metadata": {},
   "outputs": [],
   "source": [
    "sns.set_theme(context='paper', style='ticks', palette='tab10', rc={'figure.dpi':100, 'figure.figsize':[5, 5], 'axes.grid':True})\n",
    "pd.options.display.max_columns = 20\n",
    "warnings.filterwarnings('ignore')"
   ]
  },
  {
   "cell_type": "code",
   "execution_count": 3,
   "id": "d14c640a-cebc-4d13-8822-6568f7613676",
   "metadata": {},
   "outputs": [],
   "source": [
    "df_in = pd.read_csv('data/CombinedCTD_metadata_bathy_600m_sorted.csv', parse_dates=['Date'], index_col=0)"
   ]
  },
  {
   "cell_type": "code",
   "execution_count": 4,
   "id": "4323b67e-c269-4fb0-ba1c-937cdf0a1c49",
   "metadata": {},
   "outputs": [
    {
     "data": {
      "image/png": "[encoded data removed]",
      "text/plain": [
       "<Figure size 1100x500 with 2 Axes>"
      ]
     },
     "metadata": {},
     "output_type": "display_data"
    }
   ],
   "source": [
    "fig, axs = plt.subplots(1, 2, figsize=(11,5))\n",
    "_ = sns.histplot(data=df_in, x='Year', binwidth=1, stat='frequency', ax=axs[0])\n",
    "_ = sns.histplot(data=df_in, x='Year', binwidth=1, cumulative=True, stat='percent', ax=axs[1])\n",
    "_ = axs[0].set_title('Distribution')\n",
    "_ = axs[1].set_title('Cummulative Distribution')\n",
    "sns.despine(fig)"
   ]
  },
  {
   "cell_type": "code",
   "execution_count": 6,
   "id": "1194bf85-883d-457d-b494-85568e889876",
   "metadata": {},
   "outputs": [
    {
     "name": "stdout",
     "output_type": "stream",
     "text": [
      "Year 1873:     1 points\n",
      "Year 1912:    37 points\n",
      "Year 1913:    64 points\n",
      "Year 1914:    45 points\n",
      "Year 1915:   121 points\n",
      "Year 1916:    42 points\n",
      "Year 1917:     8 points\n",
      "Year 1918:     1 points\n",
      "Year 1919:    36 points\n",
      "Year 1920:   447 points\n",
      "Year 1921:   181 points\n",
      "Year 1922:   116 points\n",
      "Year 1923:     1 points\n",
      "Year 1924:    26 points\n",
      "Year 1925:    91 points\n",
      "Year 1926:    31 points\n",
      "Year 1927:    50 points\n",
      "Year 1928:    56 points\n",
      "Year 1929:   156 points\n",
      "Year 1930:   182 points\n",
      "Year 1931:   147 points\n",
      "Year 1932:   455 points\n",
      "Year 1933:   327 points\n",
      "Year 1934:   450 points\n",
      "Year 1935:   106 points\n",
      "Year 1936:   180 points\n",
      "Year 1937:   127 points\n",
      "Year 1938:   140 points\n",
      "Year 1939:   149 points\n",
      "Year 1940:   233 points\n",
      "Year 1941:   139 points\n",
      "Year 1942:     6 points\n",
      "Year 1943:     9 points\n",
      "Year 1944:    10 points\n",
      "Year 1945:    44 points\n",
      "Year 1946:   428 points\n",
      "Year 1947:   148 points\n",
      "Year 1948:   279 points\n",
      "Year 1949:   236 points\n",
      "Year 1950:   726 points\n",
      "Year 1951:   992 points\n",
      "Year 1952:   923 points\n",
      "Year 1953:   264 points\n",
      "Year 1954:   212 points\n",
      "Year 1955:   175 points\n",
      "Year 1956:   145 points\n",
      "Year 1957:   534 points\n",
      "Year 1958:  1293 points\n",
      "Year 1959:   864 points\n",
      "Year 1960:  1017 points\n",
      "Year 1961:   735 points\n",
      "Year 1962:   533 points\n",
      "Year 1963:   576 points\n",
      "Year 1964:   716 points\n",
      "Year 1965:  1050 points\n",
      "Year 1966:  1498 points\n",
      "Year 1967:  2257 points\n",
      "Year 1968:  1093 points\n",
      "Year 1969:  1999 points\n",
      "Year 1970:  2001 points\n",
      "Year 1971:  1364 points\n",
      "Year 1972:  1353 points\n",
      "Year 1973:  1427 points\n",
      "Year 1974:  2013 points\n",
      "Year 1975:  2278 points\n",
      "Year 1976:  3609 points\n",
      "Year 1977:  3897 points\n",
      "Year 1978:  4497 points\n",
      "Year 1979:  4016 points\n",
      "Year 1980:  3335 points\n",
      "Year 1981:  2200 points\n",
      "Year 1982:  2362 points\n",
      "Year 1983:  2697 points\n",
      "Year 1984:  2072 points\n",
      "Year 1985:  2376 points\n",
      "Year 1986:  1390 points\n",
      "Year 1987:  2778 points\n",
      "Year 1988:  1980 points\n",
      "Year 1989:  2267 points\n",
      "Year 1990:  1984 points\n",
      "Year 1991:  2399 points\n",
      "Year 1992:  2920 points\n",
      "Year 1993:  2938 points\n",
      "Year 1994:  2634 points\n",
      "Year 1995:  2557 points\n",
      "Year 1996:  4098 points\n",
      "Year 1997:  3821 points\n",
      "Year 1998:  3981 points\n",
      "Year 1999:  4055 points\n",
      "Year 2000:  2522 points\n",
      "Year 2001:  2923 points\n",
      "Year 2002:  2390 points\n",
      "Year 2003:  2081 points\n",
      "Year 2004:  2435 points\n",
      "Year 2005:  2944 points\n",
      "Year 2006:  2543 points\n",
      "Year 2007:  2233 points\n",
      "Year 2008:  2455 points\n",
      "Year 2009:  2707 points\n",
      "Year 2010:  3668 points\n",
      "Year 2011:  2426 points\n",
      "Year 2012:  4186 points\n",
      "Year 2013: 50163 points\n",
      "Year 2014: 36681 points\n",
      "Year 2015: 14914 points\n",
      "Year 2016: 21346 points\n",
      "Year 2017: 21738 points\n",
      "Year 2018: 38062 points\n",
      "Year 2019: 11772 points\n",
      "Year 2020:  1389 points\n",
      "Year 2021:   572 points\n"
     ]
    }
   ],
   "source": [
    "for year in df_in.Year.unique():\n",
    "    df = df_in[df_in.Year==year]\n",
    "    print('Year {}: {:5d} points'.format(year, len(df)))"
   ]
  },
  {
   "cell_type": "code",
   "execution_count": 6,
   "id": "ba2e9c97-29e5-4dc0-b36e-86df6358a625",
   "metadata": {},
   "outputs": [
    {
     "name": "stdout",
     "output_type": "stream",
     "text": [
      "Year 1998: 3981 points\n"
     ]
    },
    {
     "data": {
      "application/vnd.jupyter.widget-view+json": {
       "model_id": "54202a6c9ba54b1fa9956ea5a4ea39d2",
       "version_major": 2,
       "version_minor": 0
      },
      "text/plain": [
       "  0%|          | 0/3981 [00:00<?, ?it/s]"
      ]
     },
     "metadata": {},
     "output_type": "display_data"
    },
    {
     "name": "stdout",
     "output_type": "stream",
     "text": [
      "writing data/by_year/test/CombinedCTD_metadata_satellite_1998.csv\n",
      "\n"
     ]
    }
   ],
   "source": [
    "ssh_dir = '/bali/data/ilima/Satellite_Data/AVISO/daily/'\n",
    "sst_dir = '/bali/data/ilima/Satellite_Data/SST/NOAA_OI/'\n",
    "# sst_hr_dir = '/bali/data/ilima/Satellite_Data/SST/PO.DAAC/'\n",
    "# chl_dir = '/bali/data/ilima/Satellite_Data/Ocean_Color/Chl/daily/'\n",
    "# kd490_dir = '/bali/data/ilima/Satellite_Data/Ocean_Color/KD490/daily/'\n",
    "sst_hr_dir = '/home/ivan/Data/Postproc/Satellite_Data/PO.DAAC/'\n",
    "chl_dir = '/home/ivan/Data/Postproc/Satellite_Data/CHL/'\n",
    "kd490_dir = '/home/ivan/Data/Postproc/Satellite_Data/KD490/'\n",
    "\n",
    "cols = ['Cast', 'Latitude', 'Longitude', 'Year', 'Month', 'Day', 'Platform_Type',\n",
    "        'bottom_depth', 'Date', 'SLA', 'SST', 'SST_hires', 'Chl', 'KD490']\n",
    "\n",
    "# for year in range(2020, df.Year.max()+1):\n",
    "for year in range(1998, 1999):\n",
    "    df_obs = df_in[df_in.Year==year]\n",
    "    print('Year {}: {} points'.format(year, len(df_obs)))\n",
    "\n",
    "    for i in notebook.tqdm(df_obs.index):\n",
    "        year, month, day = df_obs.loc[i,'Date'].year, df_obs.loc[i,'Date'].month, df_obs.loc[i,'Date'].day\n",
    "        doy = df_obs.loc[i,'Date'].day_of_year\n",
    "\n",
    "        # print('record {:6d}/{}, year={}'.format(i, df_obs.index.max(), df_obs.loc[i,'Year']))\n",
    "\n",
    "        # extract AVISO SSH data\n",
    "        ssh_file = glob.glob(ssh_dir + '{}/{:02}/dt_global_allsat_phy_l4_{}{:02}{:02}_????????.nc'.format(year,month,year,month,day))\n",
    "        if ssh_file:\n",
    "            with xr.open_dataset(ssh_file[0]) as ds:\n",
    "                lon_sat, lat_sat = np.meshgrid(ds.longitude, ds.latitude)\n",
    "                lon_obs, lat_obs = df_obs.loc[i,['Longitude','Latitude']]\n",
    "                lon_obs = lon_obs + 360.\n",
    "                for var in ['sla']:\n",
    "                    df_obs.loc[i,var.upper()] = extract_loc(lon_obs, lat_obs, lon_sat, lat_sat, da2ma(ds[var]))\n",
    "        else:\n",
    "            for var in ['sla']:\n",
    "                df_obs.loc[i,var.upper()] = np.nan\n",
    "\n",
    "        # extract SST (0.25 x 0.25 degree) data\n",
    "        sst_file = glob.glob(sst_dir + '{}/{:03d}/{}*AVHRR_OI*.nc'.format(year,doy,year))\n",
    "        if sst_file:\n",
    "            with xr.open_dataset(sst_file[0]) as ds:\n",
    "                lon_sat, lat_sat = np.meshgrid(ds.lon, ds.lat)\n",
    "                lon_obs, lat_obs = df_obs.loc[i,['Longitude','Latitude']]\n",
    "                data = da2ma(ds['analysed_sst'].squeeze() - 273.15) # Kelvin -> Celsius\n",
    "                df_obs.loc[i,'SST'] = extract_loc(lon_obs, lat_obs, lon_sat, lat_sat, data)\n",
    "        else:\n",
    "            df_obs.loc[i,'SST'] = np.nan\n",
    "\n",
    "        # extract high res SST (0.01 x 0.01 degree) data\n",
    "        # sst_hr_file = sst_hr_dir + '{}/{:03d}/{}{:02}{:02}090000-JPL-L4_GHRSST-SSTfnd-MUR-GLOB-v02.0-fv04.1.nc'.format(year,doy,year,month,day)\n",
    "        sst_hr_file = sst_hr_dir + 'subset_{}{:02}{:02}090000-JPL-L4_GHRSST-SSTfnd-MUR-GLOB-v02.0-fv04.1.nc'.format(year,month,day)\n",
    "        if os.path.isfile(sst_hr_file):\n",
    "            with xr.open_dataset(sst_hr_file) as ds:\n",
    "                lon_sat, lat_sat = np.meshgrid(ds.lon, ds.lat)\n",
    "                lon_obs, lat_obs = df_obs.loc[i,['Longitude','Latitude']]\n",
    "                data = da2ma(ds['analysed_sst'].squeeze() - 273.15) # Kelvin -> Celsius\n",
    "                df_obs.loc[i,'SST_hires'] = extract_loc(lon_obs, lat_obs, lon_sat, lat_sat, data)\n",
    "        else:\n",
    "            df_obs.loc[i,'SST_hires'] = np.nan\n",
    "\n",
    "        # extract surface Chl (~4.64 Km resolution)\n",
    "        # chl_file = chl_dir + '{}/{:02}/{}{:02}{:02}_d-ACRI-L4-CHL-MULTI_4KM-GLO-REP.nc'.format(year,month,year,month,day)\n",
    "        chl_file = chl_dir + 'subset_{}{:02}{:02}_d-ACRI-L4-CHL-MULTI_4KM-GLO-REP.nc'.format(year,month,day)\n",
    "        if os.path.isfile(chl_file):\n",
    "            with xr.open_dataset(chl_file) as ds:\n",
    "                lon_sat, lat_sat = np.meshgrid(ds.lon, ds.lat)\n",
    "                lon_obs, lat_obs = df_obs.loc[i,['Longitude','Latitude']]\n",
    "                data = da2ma(ds['CHL'].squeeze())\n",
    "                df_obs.loc[i,'Chl'] = extract_loc(lon_obs, lat_obs, lon_sat, lat_sat, data)\n",
    "        else:\n",
    "            df_obs.loc[i,'Chl'] = np.nan\n",
    "\n",
    "        # extract surface KD490 (~4.64 Km resolution)\n",
    "        # kd490_file = kd490_dir + '{}/{:02}/{}{:02}{:02}_d-ACRI-L4-KD490-MULTI_4KM-GLO-REP.nc'.format(year,month,year,month,day)\n",
    "        kd490_file = kd490_dir + '/subset_{}{:02}{:02}_d-ACRI-L4-KD490-MULTI_4KM-GLO-REP.nc'.format(year,month,day)\n",
    "        if os.path.isfile(kd490_file):\n",
    "            with xr.open_dataset(kd490_file) as ds:\n",
    "                lon_sat, lat_sat = np.meshgrid(ds.lon, ds.lat)\n",
    "                lon_obs, lat_obs = df_obs.loc[i,['Longitude','Latitude']]\n",
    "                data = da2ma(ds['KD490'].squeeze())\n",
    "                df_obs.loc[i,'KD490'] = extract_loc(lon_obs, lat_obs, lon_sat, lat_sat, data)\n",
    "        else:\n",
    "            df_obs.loc[i,'KD490'] = np.nan\n",
    "            \n",
    "    df_out = df_obs[cols]\n",
    "    df_out = df_out.fillna('NA')\n",
    "    outfile = 'data/by_year/test/CombinedCTD_metadata_satellite_{}.csv'.format(year)\n",
    "    print('writing {}\\n'.format(outfile))\n",
    "    df_out.to_csv(outfile)"
   ]
  }
 ],
 "metadata": {
  "kernelspec": {
   "display_name": "Python 3 (ipykernel)",
   "language": "python",
   "name": "python3"
  },
  "language_info": {
   "codemirror_mode": {
    "name": "ipython",
    "version": 3
   },
   "file_extension": ".py",
   "mimetype": "text/x-python",
   "name": "python",
   "nbconvert_exporter": "python",
   "pygments_lexer": "ipython3",
   "version": "3.9.7"
  },
  "widgets": {
   "application/vnd.jupyter.widget-state+json": {
    "state": {},
    "version_major": 2,
    "version_minor": 0
   }
  }
 },
 "nbformat": 4,
 "nbformat_minor": 5
}
