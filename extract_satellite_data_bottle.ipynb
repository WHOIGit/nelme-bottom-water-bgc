{
 "cells": [
  {
   "cell_type": "markdown",
   "metadata": {},
   "source": [
    "# Extract satellite data at time and location of observations\n",
    "Created by Ivan Lima on Thu Feb  4 2021 15:13:52 -0500"
   ]
  },
  {
   "cell_type": "code",
   "execution_count": null,
   "metadata": {},
   "outputs": [],
   "source": [
    "%matplotlib inline\n",
    "import pandas as pd\n",
    "import xarray as xr\n",
    "import numpy as np\n",
    "import matplotlib.pyplot as plt\n",
    "import datetime, os, glob\n",
    "from tqdm import tnrange, notebook\n",
    "from ccsm_utils import find_stn, find_stn_idx, find_closest_pt, extract_loc\n",
    "from cesm_utils import da2ma\n",
    "print('Last updated on {}'.format(datetime.datetime.now().ctime()))"
   ]
  },
  {
   "cell_type": "markdown",
   "metadata": {},
   "source": [
    "## Read observational data"
   ]
  },
  {
   "cell_type": "code",
   "execution_count": null,
   "metadata": {},
   "outputs": [],
   "source": [
    "df_obs = pd.read_csv('data/Bottle_metadata.csv', index_col=1, parse_dates={'Date':['Year','Month','Day']})\n",
    "# df_obs[:25]"
   ]
  },
  {
   "cell_type": "markdown",
   "metadata": {},
   "source": [
    "## Extract satellite data at observation dates & locations"
   ]
  },
  {
   "cell_type": "code",
   "execution_count": null,
   "metadata": {},
   "outputs": [],
   "source": [
    "ssh_dir = '/bali/data/ilima/Satellite_Data/AVISO/daily/'\n",
    "sst_dir = '/bali/data/ilima/Satellite_Data/SST/NOAA_OI/'\n",
    "sst_hr_dir = '/bali/data/ilima/Satellite_Data/SST/PO.DAAC/'\n",
    "chl_dir = '/bali/data/ilima/Satellite_Data/Ocean_Color/Chl/daily/'\n",
    "kd490_dir = '/bali/data/ilima/Satellite_Data/Ocean_Color/KD490/daily/'\n",
    "\n",
    "for i in notebook.tqdm(df_obs.index):\n",
    "    year, month, day = df_obs.loc[i,'Date'].year, df_obs.loc[i,'Date'].month, df_obs.loc[i,'Date'].day\n",
    "    doy = df_obs.loc[i,'Date'].day_of_year\n",
    "    \n",
    "    # extract AVISO SSH data\n",
    "    ssh_file = glob.glob(ssh_dir + '{}/{:02}/dt_global_allsat_phy_l4_{}{:02}{:02}_????????.nc'.format(year,month,year,month,day))\n",
    "    if ssh_file:\n",
    "        with xr.open_dataset(ssh_file[0]) as ds:\n",
    "            lon_sat, lat_sat = np.meshgrid(ds.longitude, ds.latitude)\n",
    "            lon_obs, lat_obs = df_obs.loc[i,['Longitude','Latitude']]\n",
    "            lon_obs = lon_obs + 360.\n",
    "            for var in ['adt','ugos','vgos','sla','ugosa','vgosa']:\n",
    "                df_obs.loc[i,var.upper()] = extract_loc(lon_obs, lat_obs, lon_sat, lat_sat, da2ma(ds[var]))\n",
    "    else:\n",
    "        print('SSH i={} ({}-{:02}-{:02})'.format(i, year, month, day), end=', ')\n",
    "    \n",
    "    # extract SST (0.25 x 0.25 degree) data\n",
    "    sst_file = glob.glob(sst_dir + '{}/{:03d}/{}*AVHRR_OI*.nc'.format(year,doy,year))\n",
    "    if sst_file:\n",
    "        with xr.open_dataset(sst_file[0]) as ds:\n",
    "            lon_sat, lat_sat = np.meshgrid(ds.lon, ds.lat)\n",
    "            lon_obs, lat_obs = df_obs.loc[i,['Longitude','Latitude']]\n",
    "            data = da2ma(ds['analysed_sst'].squeeze() - 273.15) # Kelvin -> Celsius\n",
    "            df_obs.loc[i,'SST'] = extract_loc(lon_obs, lat_obs, lon_sat, lat_sat, data)\n",
    "    else:\n",
    "        print('SST1 i={} ({}-{:02}-{:02})'.format(i, year, month, day), end=', ')\n",
    "    \n",
    "    # extract high res SST (0.01 x 0.01 degree) data\n",
    "    # sst_hr_file = sst_hr_dir + '{}/{:03d}/{}{:02}{:02}090000-JPL-L4_GHRSST-SSTfnd-MUR-GLOB-v02.0-fv04.1.nc'.format(year,doy,year,month,day)\n",
    "    sst_hr_file = '/home/ivan/Data/Postproc/PO.DAAC/' + 'subset_{}{:02}{:02}090000-JPL-L4_GHRSST-SSTfnd-MUR-GLOB-v02.0-fv04.1.nc'.format(year,month,day)\n",
    "    if os.path.isfile(sst_hr_file):\n",
    "        with xr.open_dataset(sst_hr_file) as ds:\n",
    "            lon_sat, lat_sat = np.meshgrid(ds.lon, ds.lat)\n",
    "            lon_obs, lat_obs = df_obs.loc[i,['Longitude','Latitude']]\n",
    "            data = da2ma(ds['analysed_sst'].squeeze() - 273.15) # Kelvin -> Celsius\n",
    "            df_obs.loc[i,'SST_hires'] = extract_loc(lon_obs, lat_obs, lon_sat, lat_sat, data)\n",
    "    else:\n",
    "        print('SST2 i={} ({}-{:02}-{:02})'.format(i, year, month, day), end=', ')\n",
    "        \n",
    "    # extract surface Chl (~4.64 Km resolution)\n",
    "    chl_file = chl_dir + '{}/{:02}/{}{:02}{:02}_d-ACRI-L4-CHL-MULTI_4KM-GLO-REP.nc'.format(year,month,year,month,day)\n",
    "    if os.path.isfile(chl_file):\n",
    "        with xr.open_dataset(chl_file) as ds:\n",
    "            lon_sat, lat_sat = np.meshgrid(ds.lon, ds.lat)\n",
    "            lon_obs, lat_obs = df_obs.loc[i,['Longitude','Latitude']]\n",
    "            data = da2ma(ds['CHL'].squeeze())\n",
    "            df_obs.loc[i,'Chl'] = extract_loc(lon_obs, lat_obs, lon_sat, lat_sat, data)\n",
    "    else:\n",
    "        print('Chl i={} ({}-{:02}-{:02})'.format(i, year, month, day), end=', ')\n",
    "\n",
    "    # extract surface KD490 (~4.64 Km resolution)\n",
    "    kd490_file = kd490_dir + '{}/{:02}/{}{:02}{:02}_d-ACRI-L4-KD490-MULTI_4KM-GLO-REP.nc'.format(year,month,year,month,day)\n",
    "    if os.path.isfile(kd490_file):\n",
    "        with xr.open_dataset(kd490_file) as ds:\n",
    "            lon_sat, lat_sat = np.meshgrid(ds.lon, ds.lat)\n",
    "            lon_obs, lat_obs = df_obs.loc[i,['Longitude','Latitude']]\n",
    "            data = da2ma(ds['KD490'].squeeze())\n",
    "            df_obs.loc[i,'KD490'] = extract_loc(lon_obs, lat_obs, lon_sat, lat_sat, data)\n",
    "    else:\n",
    "        print('KD490 i={} ({}-{:02}-{:02})'.format(i, year, month, day), end=' | ')"
   ]
  },
  {
   "cell_type": "markdown",
   "metadata": {},
   "source": [
    "## Write data to CSV file"
   ]
  },
  {
   "cell_type": "code",
   "execution_count": null,
   "metadata": {},
   "outputs": [],
   "source": [
    "df_obs['Year'] = df_obs.Date.dt.year\n",
    "df_obs['Month'] = df_obs.Date.dt.month\n",
    "df_obs['Day'] = df_obs.Date.dt.day\n",
    "cols = ['Latitude', 'Longitude', 'Year', 'Month', 'Day', 'CASTNO_Database', 'DOI', 'EXPOCODE',\n",
    "        'Accession', 'Cruise_ID', 'ADT', 'UGOS', 'VGOS', 'SLA', 'UGOSA', 'VGOSA', 'SST',\n",
    "        'SST_hires', 'Chl', 'KD490']\n",
    "df_out = df_obs[cols]\n",
    "df_out = df_out.fillna('NA')\n",
    "df_out.to_csv('data/Bottle_metadata_satellite.csv')"
   ]
  }
 ],
 "metadata": {
  "kernelspec": {
   "display_name": "Python 3",
   "language": "python",
   "name": "python3"
  },
  "language_info": {
   "codemirror_mode": {
    "name": "ipython",
    "version": 3
   },
   "file_extension": ".py",
   "mimetype": "text/x-python",
   "name": "python",
   "nbconvert_exporter": "python",
   "pygments_lexer": "ipython3",
   "version": "3.7.10"
  },
  "widgets": {
   "application/vnd.jupyter.widget-state+json": {
    "state": {},
    "version_major": 2,
    "version_minor": 0
   }
  }
 },
 "nbformat": 4,
 "nbformat_minor": 4
}
