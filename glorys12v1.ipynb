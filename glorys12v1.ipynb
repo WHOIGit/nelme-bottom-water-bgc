{
 "cells": [
  {
   "cell_type": "markdown",
   "id": "f8ed06fe-3f7d-492d-9431-63f50015e0ee",
   "metadata": {},
   "source": [
    "# Extract GLORYS12V1 data for NW Atlantic region\n",
    "Created by Ivan Lima on Tue May  3 2022 16:51:50 -0400"
   ]
  },
  {
   "cell_type": "code",
   "execution_count": null,
   "id": "386a653a-d3ae-4a24-94af-df17a0cd869f",
   "metadata": {},
   "outputs": [],
   "source": [
    "%matplotlib inline\n",
    "import xarray as xr\n",
    "import numpy as np\n",
    "import pandas as pd\n",
    "import seaborn as sns\n",
    "import matplotlib.pyplot as plt\n",
    "import os, datetime\n",
    "print('Last updated on {}'.format(datetime.datetime.now().ctime()))"
   ]
  },
  {
   "cell_type": "markdown",
   "id": "9168c87f-332a-4157-95c4-74d30aa1f1f5",
   "metadata": {},
   "source": [
    "## OPeNDAP/CMEM settings"
   ]
  },
  {
   "cell_type": "code",
   "execution_count": null,
   "id": "1b60851e-b1b5-4cc7-bd60-4f204bdc10f3",
   "metadata": {},
   "outputs": [],
   "source": [
    "from pydap.client import open_url\n",
    "# from pydap.cas.urs import setup_session\n",
    "from pydap.cas.get_cookies import setup_session\n",
    "\n",
    "creds = open('.cmems_creds').readlines()\n",
    "username = creds[0].strip()\n",
    "password = creds[1].strip()\n",
    "\n",
    "cas_url = 'https://cmems-cas.cls.fr/cas/login'\n",
    "session = setup_session(cas_url, username, password)\n",
    "session.cookies.set('CASTGC', session.cookies.get_dict()['CASTGC'])"
   ]
  },
  {
   "cell_type": "markdown",
   "id": "20ebcd04-bfe7-4ff3-834c-24563320abd4",
   "metadata": {},
   "source": [
    "## Monthly data"
   ]
  },
  {
   "cell_type": "code",
   "execution_count": null,
   "id": "a3fd7dbb-c8aa-4b5e-a495-1e01c93f880b",
   "metadata": {},
   "outputs": [],
   "source": [
    "url = 'https://my.cmems-du.eu/thredds/dodsC/cmems_mod_glo_phy_my_0.083_P1M-m'\n",
    "store = xr.backends.PydapDataStore.open(url, session=session)\n",
    "# store = xr.backends.PydapDataStore(open_url(url, session=session, user_charset='utf-8'))\n",
    "\n",
    "ybeg, yend = 1993, 2020\n",
    "start_str, end_str = '{}-01-16T12:00:00.000000000', '{}-12-16T12:00:00.000000000'\n",
    "start_yr = [start_str.format(y) for y in range(ybeg, yend)]\n",
    "end_yr = [end_str.format(y) for y in range(ybeg, yend)]\n",
    "\n",
    "outdir = '/bali/data/ilima/GLORYS12V1/monthly'\n",
    "with xr.open_dataset(store, drop_variables=['sithick', 'siconc', 'usi', 'vsi']) as ds:\n",
    "    for start, end in zip(start_yr, end_yr):\n",
    "        ds_yr = ds.sel(time=slice(start, end), latitude=slice(34, 46), longitude=slice(-78, -64))\n",
    "        ds_yr.load()\n",
    "        filename = 'GLORYS12V1_NW_Atlantic_{}_monthly.nc'.format(ds_yr.time.dt.year[0].item())\n",
    "        outfile = os.path.join(outdir, filename)\n",
    "        print('writing {}'.format(outfile))\n",
    "        ds_yr.to_netcdf(outfile, 'w')"
   ]
  },
  {
   "cell_type": "code",
   "execution_count": null,
   "id": "09842daa-028a-4bcb-ac1a-dac27081ec94",
   "metadata": {},
   "outputs": [],
   "source": [
    "# ds.zos.sel(time='1993-01-16T12:00:00.000000000', latitude=slice(34,46), longitude=slice(-78, -64)).plot()"
   ]
  },
  {
   "cell_type": "markdown",
   "id": "89be4104-cbf2-4129-b48a-5b854a73c285",
   "metadata": {},
   "source": [
    "## Daily data"
   ]
  },
  {
   "cell_type": "code",
   "execution_count": null,
   "id": "7ed97ff8-e668-4cc6-9536-ba3db6c09d4d",
   "metadata": {},
   "outputs": [],
   "source": [
    "url = 'https://my.cmems-du.eu/thredds/dodsC/cmems_mod_glo_phy_my_0.083_P1D-m' # daily data\n",
    "store = xr.backends.PydapDataStore.open(url, session=session)\n",
    "# store = xr.backends.PydapDataStore(open_url(url, session=session, user_charset='utf-8'))\n",
    "\n",
    "ybeg, yend = 1993, 2020\n",
    "start_str, end_str = '{}-01-01T12:00:00.000000000', '{}-12-31T12:00:00.000000000'\n",
    "start_yr = [start_str.format(y) for y in range(ybeg, yend)]\n",
    "end_yr = [end_str.format(y) for y in range(ybeg, yend)]\n",
    "\n",
    "outdir = '/bali/data/ilima/GLORYS12V1/daily'\n",
    "with xr.open_dataset(store, drop_variables=['sithick', 'siconc', 'usi', 'vsi', 'uo', 'vo']) as ds:\n",
    "    for start, end in zip(start_yr, end_yr):\n",
    "        ds_yr = ds.sel(time=slice(start, end), latitude=slice(34, 46), longitude=slice(-78, -64))\n",
    "        ds_yr.load()\n",
    "        filename = 'GLORYS12V1_NW_Atlantic_{}_daily.nc'.format(ds_yr.time.dt.year[0].item())\n",
    "        outfile = os.path.join(outdir, filename)\n",
    "        print('writing {}'.format(outfile))\n",
    "        ds_yr.to_netcdf(outfile, 'w')"
   ]
  }
 ],
 "metadata": {
  "kernelspec": {
   "display_name": "Python 3 (ipykernel)",
   "language": "python",
   "name": "python3"
  },
  "language_info": {
   "codemirror_mode": {
    "name": "ipython",
    "version": 3
   },
   "file_extension": ".py",
   "mimetype": "text/x-python",
   "name": "python",
   "nbconvert_exporter": "python",
   "pygments_lexer": "ipython3",
   "version": "3.9.10"
  },
  "widgets": {
   "application/vnd.jupyter.widget-state+json": {
    "state": {},
    "version_major": 2,
    "version_minor": 0
   }
  }
 },
 "nbformat": 4,
 "nbformat_minor": 5
}
