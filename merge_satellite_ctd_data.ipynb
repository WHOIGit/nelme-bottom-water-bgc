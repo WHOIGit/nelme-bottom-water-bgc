{
 "cells": [
  {
   "cell_type": "markdown",
   "id": "32d2d822-ce52-4ac4-9bfd-5e9340dcd597",
   "metadata": {},
   "source": [
    "# Merge CTD and satellite data extracted at observation locations\n",
    "Created by Ivan Lima on Tue Nov  2 2021 14:42:35 -0400"
   ]
  },
  {
   "cell_type": "code",
   "execution_count": 1,
   "id": "d7891b84-7692-4bea-bb71-dca567a50576",
   "metadata": {},
   "outputs": [
    {
     "name": "stdout",
     "output_type": "stream",
     "text": [
      "Last updated on Mon Dec  6 11:42:29 2021\n"
     ]
    }
   ],
   "source": [
    "%matplotlib inline\n",
    "import pandas as pd\n",
    "import xarray as xr\n",
    "import numpy as np\n",
    "import seaborn as sns\n",
    "import matplotlib.pyplot as plt\n",
    "import datetime, warnings, os\n",
    "print('Last updated on {}'.format(datetime.datetime.now().ctime()))"
   ]
  },
  {
   "cell_type": "code",
   "execution_count": 2,
   "id": "b988dabe-8429-431b-90e6-f40ff170c96b",
   "metadata": {},
   "outputs": [],
   "source": [
    "sns.set_theme(context='paper', style='ticks', palette='tab10', rc={'figure.dpi':100, 'figure.figsize':[5, 5], 'axes.grid':True})\n",
    "pd.options.display.max_columns = 50\n",
    "warnings.filterwarnings('ignore')"
   ]
  },
  {
   "cell_type": "markdown",
   "id": "f086419a-38ce-4685-aaf0-e5a4d47151fa",
   "metadata": {},
   "source": [
    "## Read satellite & CTD data"
   ]
  },
  {
   "cell_type": "code",
   "execution_count": 3,
   "id": "97f31937-04a8-46ee-af66-a59b9f4a191f",
   "metadata": {},
   "outputs": [
    {
     "data": {
      "text/html": [
       "<div>\n",
       "<style scoped>\n",
       "    .dataframe tbody tr th:only-of-type {\n",
       "        vertical-align: middle;\n",
       "    }\n",
       "\n",
       "    .dataframe tbody tr th {\n",
       "        vertical-align: top;\n",
       "    }\n",
       "\n",
       "    .dataframe thead th {\n",
       "        text-align: right;\n",
       "    }\n",
       "</style>\n",
       "<table border=\"1\" class=\"dataframe\">\n",
       "  <thead>\n",
       "    <tr style=\"text-align: right;\">\n",
       "      <th></th>\n",
       "      <th>Cast</th>\n",
       "      <th>Latitude</th>\n",
       "      <th>Longitude</th>\n",
       "      <th>Year</th>\n",
       "      <th>Month</th>\n",
       "      <th>Day</th>\n",
       "      <th>Platform_Type</th>\n",
       "      <th>bottom_depth</th>\n",
       "      <th>Date</th>\n",
       "      <th>SLA</th>\n",
       "      <th>SST</th>\n",
       "      <th>SST_hires</th>\n",
       "      <th>Chl</th>\n",
       "      <th>KD490</th>\n",
       "    </tr>\n",
       "  </thead>\n",
       "  <tbody>\n",
       "    <tr>\n",
       "      <th>52697</th>\n",
       "      <td>804172</td>\n",
       "      <td>44.083332</td>\n",
       "      <td>-63.000000</td>\n",
       "      <td>1981</td>\n",
       "      <td>1</td>\n",
       "      <td>6</td>\n",
       "      <td>3</td>\n",
       "      <td>211</td>\n",
       "      <td>1981-01-06</td>\n",
       "      <td>NaN</td>\n",
       "      <td>NaN</td>\n",
       "      <td>NaN</td>\n",
       "      <td>NaN</td>\n",
       "      <td>NaN</td>\n",
       "    </tr>\n",
       "    <tr>\n",
       "      <th>52698</th>\n",
       "      <td>804175</td>\n",
       "      <td>43.766666</td>\n",
       "      <td>-62.983334</td>\n",
       "      <td>1981</td>\n",
       "      <td>1</td>\n",
       "      <td>6</td>\n",
       "      <td>3</td>\n",
       "      <td>265</td>\n",
       "      <td>1981-01-06</td>\n",
       "      <td>NaN</td>\n",
       "      <td>NaN</td>\n",
       "      <td>NaN</td>\n",
       "      <td>NaN</td>\n",
       "      <td>NaN</td>\n",
       "    </tr>\n",
       "    <tr>\n",
       "      <th>52699</th>\n",
       "      <td>804165</td>\n",
       "      <td>44.066666</td>\n",
       "      <td>-63.183334</td>\n",
       "      <td>1981</td>\n",
       "      <td>1</td>\n",
       "      <td>6</td>\n",
       "      <td>3</td>\n",
       "      <td>160</td>\n",
       "      <td>1981-01-06</td>\n",
       "      <td>NaN</td>\n",
       "      <td>NaN</td>\n",
       "      <td>NaN</td>\n",
       "      <td>NaN</td>\n",
       "      <td>NaN</td>\n",
       "    </tr>\n",
       "    <tr>\n",
       "      <th>52700</th>\n",
       "      <td>804170</td>\n",
       "      <td>43.950001</td>\n",
       "      <td>-62.916668</td>\n",
       "      <td>1981</td>\n",
       "      <td>1</td>\n",
       "      <td>6</td>\n",
       "      <td>3</td>\n",
       "      <td>256</td>\n",
       "      <td>1981-01-06</td>\n",
       "      <td>NaN</td>\n",
       "      <td>NaN</td>\n",
       "      <td>NaN</td>\n",
       "      <td>NaN</td>\n",
       "      <td>NaN</td>\n",
       "    </tr>\n",
       "    <tr>\n",
       "      <th>52701</th>\n",
       "      <td>804181</td>\n",
       "      <td>43.983334</td>\n",
       "      <td>-63.099998</td>\n",
       "      <td>1981</td>\n",
       "      <td>1</td>\n",
       "      <td>7</td>\n",
       "      <td>3</td>\n",
       "      <td>184</td>\n",
       "      <td>1981-01-07</td>\n",
       "      <td>NaN</td>\n",
       "      <td>NaN</td>\n",
       "      <td>NaN</td>\n",
       "      <td>NaN</td>\n",
       "      <td>NaN</td>\n",
       "    </tr>\n",
       "  </tbody>\n",
       "</table>\n",
       "</div>"
      ],
      "text/plain": [
       "         Cast   Latitude  Longitude  Year  Month  Day  Platform_Type  \\\n",
       "52697  804172  44.083332 -63.000000  1981      1    6              3   \n",
       "52698  804175  43.766666 -62.983334  1981      1    6              3   \n",
       "52699  804165  44.066666 -63.183334  1981      1    6              3   \n",
       "52700  804170  43.950001 -62.916668  1981      1    6              3   \n",
       "52701  804181  43.983334 -63.099998  1981      1    7              3   \n",
       "\n",
       "       bottom_depth       Date  SLA  SST  SST_hires  Chl  KD490  \n",
       "52697           211 1981-01-06  NaN  NaN        NaN  NaN    NaN  \n",
       "52698           265 1981-01-06  NaN  NaN        NaN  NaN    NaN  \n",
       "52699           160 1981-01-06  NaN  NaN        NaN  NaN    NaN  \n",
       "52700           256 1981-01-06  NaN  NaN        NaN  NaN    NaN  \n",
       "52701           184 1981-01-07  NaN  NaN        NaN  NaN    NaN  "
      ]
     },
     "execution_count": 3,
     "metadata": {},
     "output_type": "execute_result"
    }
   ],
   "source": [
    "# Read & concatenate annual satellite data files into one\n",
    "datadir = 'data/by_year'\n",
    "filelist = sorted([os.path.join(datadir, file) for file in os.listdir('data/by_year/')])\n",
    "df_list = []\n",
    "for file in filelist:\n",
    "    df_list.append(pd.read_csv(file, parse_dates=['Date'], index_col=0))\n",
    "    \n",
    "df_sat = pd.concat(df_list, axis=0)\n",
    "df_sat.head()"
   ]
  },
  {
   "cell_type": "code",
   "execution_count": 4,
   "id": "fbf28eab-c3cc-4246-b935-3fda2095a6f9",
   "metadata": {},
   "outputs": [],
   "source": [
    "ds_ctd = xr.open_dataset('data/CombinedCTD.nc')\n",
    "df_ctd = ds_ctd.to_dataframe()\n",
    "df_ctd = df_ctd.droplevel(0) # drop \"column\" index\n",
    "df_ctd.index.name = None\n",
    "df_ctd = df_ctd[df_ctd.Date_YYYYMMDD!=19220100] # remove invalid dates\n",
    "df_ctd['Date'] = pd.to_datetime(df_ctd['Date_YYYYMMDD'], format='%Y%m%d')\n",
    "df_ctd = df_ctd.drop(['Date_YYYYMMDD','Time_DaysSince1_1_1770'],axis=1)\n",
    "df_ctd = df_ctd[df_ctd.Date.dt.year > 1980] # only data from satellite era\n",
    "col_names = {'CastID':'Cast', 'Lat':'Latitude', 'Lon':'Longitude', 'Depth_m':'Depth',\n",
    "             'Temp_C':'Temperature', 'Sal_PSU':'Salinity', 'DO_umolkg':'Oxygen',\n",
    "             'Temp_Flag':'Temp_flag', 'Sal_Flag':'Salt_flag'}\n",
    "df_ctd = df_ctd.rename(columns=col_names) # rename columns"
   ]
  },
  {
   "cell_type": "code",
   "execution_count": 5,
   "id": "51cf5b08-39d3-4c9c-8abb-e1e300e53e9c",
   "metadata": {},
   "outputs": [
    {
     "data": {
      "text/html": [
       "<div>\n",
       "<style scoped>\n",
       "    .dataframe tbody tr th:only-of-type {\n",
       "        vertical-align: middle;\n",
       "    }\n",
       "\n",
       "    .dataframe tbody tr th {\n",
       "        vertical-align: top;\n",
       "    }\n",
       "\n",
       "    .dataframe thead th {\n",
       "        text-align: right;\n",
       "    }\n",
       "</style>\n",
       "<table border=\"1\" class=\"dataframe\">\n",
       "  <thead>\n",
       "    <tr style=\"text-align: right;\">\n",
       "      <th></th>\n",
       "      <th>Cast</th>\n",
       "      <th>Latitude</th>\n",
       "      <th>Longitude</th>\n",
       "      <th>Depth</th>\n",
       "      <th>Temperature</th>\n",
       "      <th>Temp_flag</th>\n",
       "      <th>Salinity</th>\n",
       "      <th>Salt_flag</th>\n",
       "      <th>Oxygen</th>\n",
       "      <th>DO_flag</th>\n",
       "      <th>Platform_Type</th>\n",
       "      <th>pCO2_year</th>\n",
       "      <th>pCO2_month</th>\n",
       "      <th>Date</th>\n",
       "    </tr>\n",
       "  </thead>\n",
       "  <tbody>\n",
       "    <tr>\n",
       "      <th>864823</th>\n",
       "      <td>3344598.0</td>\n",
       "      <td>41.450001</td>\n",
       "      <td>-64.150002</td>\n",
       "      <td>19.260000</td>\n",
       "      <td>NaN</td>\n",
       "      <td>NaN</td>\n",
       "      <td>32.700001</td>\n",
       "      <td>0.0</td>\n",
       "      <td>NaN</td>\n",
       "      <td>NaN</td>\n",
       "      <td>1.0</td>\n",
       "      <td>340.12</td>\n",
       "      <td>341.63</td>\n",
       "      <td>1981-03-05</td>\n",
       "    </tr>\n",
       "    <tr>\n",
       "      <th>864824</th>\n",
       "      <td>3344598.0</td>\n",
       "      <td>41.450001</td>\n",
       "      <td>-64.150002</td>\n",
       "      <td>20.959999</td>\n",
       "      <td>NaN</td>\n",
       "      <td>NaN</td>\n",
       "      <td>32.700001</td>\n",
       "      <td>0.0</td>\n",
       "      <td>NaN</td>\n",
       "      <td>NaN</td>\n",
       "      <td>1.0</td>\n",
       "      <td>340.12</td>\n",
       "      <td>341.63</td>\n",
       "      <td>1981-03-05</td>\n",
       "    </tr>\n",
       "    <tr>\n",
       "      <th>864825</th>\n",
       "      <td>3344598.0</td>\n",
       "      <td>41.450001</td>\n",
       "      <td>-64.150002</td>\n",
       "      <td>23.230000</td>\n",
       "      <td>NaN</td>\n",
       "      <td>NaN</td>\n",
       "      <td>32.701000</td>\n",
       "      <td>0.0</td>\n",
       "      <td>NaN</td>\n",
       "      <td>NaN</td>\n",
       "      <td>1.0</td>\n",
       "      <td>340.12</td>\n",
       "      <td>341.63</td>\n",
       "      <td>1981-03-05</td>\n",
       "    </tr>\n",
       "    <tr>\n",
       "      <th>864826</th>\n",
       "      <td>3344598.0</td>\n",
       "      <td>41.450001</td>\n",
       "      <td>-64.150002</td>\n",
       "      <td>24.850000</td>\n",
       "      <td>NaN</td>\n",
       "      <td>NaN</td>\n",
       "      <td>32.701000</td>\n",
       "      <td>0.0</td>\n",
       "      <td>NaN</td>\n",
       "      <td>NaN</td>\n",
       "      <td>1.0</td>\n",
       "      <td>340.12</td>\n",
       "      <td>341.63</td>\n",
       "      <td>1981-03-05</td>\n",
       "    </tr>\n",
       "    <tr>\n",
       "      <th>864827</th>\n",
       "      <td>3344598.0</td>\n",
       "      <td>41.450001</td>\n",
       "      <td>-64.150002</td>\n",
       "      <td>26.830000</td>\n",
       "      <td>NaN</td>\n",
       "      <td>NaN</td>\n",
       "      <td>32.701000</td>\n",
       "      <td>0.0</td>\n",
       "      <td>NaN</td>\n",
       "      <td>NaN</td>\n",
       "      <td>1.0</td>\n",
       "      <td>340.12</td>\n",
       "      <td>341.63</td>\n",
       "      <td>1981-03-05</td>\n",
       "    </tr>\n",
       "  </tbody>\n",
       "</table>\n",
       "</div>"
      ],
      "text/plain": [
       "             Cast   Latitude  Longitude      Depth  Temperature  Temp_flag  \\\n",
       "864823  3344598.0  41.450001 -64.150002  19.260000          NaN        NaN   \n",
       "864824  3344598.0  41.450001 -64.150002  20.959999          NaN        NaN   \n",
       "864825  3344598.0  41.450001 -64.150002  23.230000          NaN        NaN   \n",
       "864826  3344598.0  41.450001 -64.150002  24.850000          NaN        NaN   \n",
       "864827  3344598.0  41.450001 -64.150002  26.830000          NaN        NaN   \n",
       "\n",
       "         Salinity  Salt_flag  Oxygen  DO_flag  Platform_Type  pCO2_year  \\\n",
       "864823  32.700001        0.0     NaN      NaN            1.0     340.12   \n",
       "864824  32.700001        0.0     NaN      NaN            1.0     340.12   \n",
       "864825  32.701000        0.0     NaN      NaN            1.0     340.12   \n",
       "864826  32.701000        0.0     NaN      NaN            1.0     340.12   \n",
       "864827  32.701000        0.0     NaN      NaN            1.0     340.12   \n",
       "\n",
       "        pCO2_month       Date  \n",
       "864823      341.63 1981-03-05  \n",
       "864824      341.63 1981-03-05  \n",
       "864825      341.63 1981-03-05  \n",
       "864826      341.63 1981-03-05  \n",
       "864827      341.63 1981-03-05  "
      ]
     },
     "execution_count": 5,
     "metadata": {},
     "output_type": "execute_result"
    }
   ],
   "source": [
    "df_ctd.head()"
   ]
  },
  {
   "cell_type": "markdown",
   "id": "3e00a5a6-6868-4809-9d1a-2c935f0c4765",
   "metadata": {},
   "source": [
    "## Do inner join "
   ]
  },
  {
   "cell_type": "code",
   "execution_count": 6,
   "id": "3d7a29bc-1c43-42ac-8cbd-16a4cfb1696b",
   "metadata": {},
   "outputs": [
    {
     "name": "stdout",
     "output_type": "stream",
     "text": [
      "Original data: 26,330,017 rows\n",
      "New merged data: 14,539,802 rows\n",
      "Difference: -11,790,215 rows\n"
     ]
    }
   ],
   "source": [
    "# sat_cols = ['Cast', 'Latitude', 'Longitude', 'Year', 'Month', 'Day', 'Date', 'ADT',\n",
    "#             'UGOS', 'VGOS', 'SLA', 'UGOSA', 'VGOSA', 'SST', 'SST_hires', 'Chl', 'KD490']\n",
    "\n",
    "# ctd_cols = ['X', 'Cast', 'Latitude', 'Longitude', 'Year', 'Month', 'Day', 'Date', 'Depth', 'Temperature', 'Salinity',\n",
    "#             'Dissolved.oxygen', 'Pressure', 'pCO2_yearave', 'pCO2_monthave', 'Lat', 'Long', 'bottom_depth',\n",
    "#             'lat', 'long', 'Oxygen', 'OmegaA','OmegaC', 'CO3', 'fCO2', 'pCO2', 'pH', 'HCO3']\n",
    "\n",
    "sat_cols = ['Cast', 'Latitude', 'Longitude', 'Date', 'bottom_depth', 'SLA', 'SST', 'SST_hires', 'Chl', 'KD490']\n",
    "\n",
    "ctd_cols = ['Cast', 'Latitude', 'Longitude', 'Date', 'Depth', 'Temperature', 'Salinity', 'Oxygen',\n",
    "            'pCO2_year', 'pCO2_month', 'Platform_Type', 'Temp_flag', 'Salt_flag', 'DO_flag']\n",
    "\n",
    "# df_merged = pd.merge(df_ctd[ctd_cols], df_sat[sat_cols], on=['Date','Latitude','Longitude'],\n",
    "#                      how='inner', suffixes=['_ctd', '_sat'])\n",
    "df_merged = pd.merge(df_ctd[ctd_cols], df_sat[sat_cols], on=['Cast'],\n",
    "                     how='inner', suffixes=['_ctd', '_sat'])\n",
    "\n",
    "print('Original data: {:,} rows'.format(len(df_ctd)))\n",
    "print('New merged data: {:,} rows'.format(len(df_merged)))\n",
    "print('Difference: {:,} rows'.format(len(df_merged)-len(df_ctd)))"
   ]
  },
  {
   "cell_type": "markdown",
   "id": "f67008b6-6884-4674-8feb-8b34170415eb",
   "metadata": {},
   "source": [
    "## Check if records match for merged variables "
   ]
  },
  {
   "cell_type": "code",
   "execution_count": 7,
   "id": "5c6a9057-a66c-496e-a246-c69d6cf86963",
   "metadata": {},
   "outputs": [
    {
     "name": "stdout",
     "output_type": "stream",
     "text": [
      "Latitude: 13,039,876 records do not match\n",
      "Longitude: 11,775,196 records do not match\n",
      "Date: OK\n"
     ]
    }
   ],
   "source": [
    "def check(vname):\n",
    "    vname_ctd, vname_sat = vname+'_ctd', vname+'_sat'\n",
    "    df_work = df_merged[[vname_ctd, vname_sat]].dropna()\n",
    "    if len(df_work) == (df_work[vname_ctd]==df_work[vname_sat]).sum():\n",
    "        print('{}: OK'.format(vname))\n",
    "    else:\n",
    "        n = len(df_work) - (df_work[vname_ctd]==df_work[vname_sat]).sum()\n",
    "        print('{}: {:,} records do not match'.format(vname, n))\n",
    "\n",
    "varcols = [c[:-4] for c in df_merged.columns if c.endswith('_ctd')]\n",
    "for vname in varcols:\n",
    "    check(vname)"
   ]
  },
  {
   "cell_type": "markdown",
   "id": "71a584f3-a390-4364-9944-ccc72b800603",
   "metadata": {},
   "source": [
    "**Note:** The *Date* matches for all records but *Latitude* and *Longitude* don't due to differences in precision."
   ]
  },
  {
   "cell_type": "code",
   "execution_count": 8,
   "id": "dd064eaa-2f6b-49a5-882e-039c700e48db",
   "metadata": {},
   "outputs": [
    {
     "data": {
      "text/html": [
       "<div>\n",
       "<style scoped>\n",
       "    .dataframe tbody tr th:only-of-type {\n",
       "        vertical-align: middle;\n",
       "    }\n",
       "\n",
       "    .dataframe tbody tr th {\n",
       "        vertical-align: top;\n",
       "    }\n",
       "\n",
       "    .dataframe thead th {\n",
       "        text-align: right;\n",
       "    }\n",
       "</style>\n",
       "<table border=\"1\" class=\"dataframe\">\n",
       "  <thead>\n",
       "    <tr style=\"text-align: right;\">\n",
       "      <th></th>\n",
       "      <th>Date_ctd</th>\n",
       "      <th>Date_sat</th>\n",
       "      <th>Latitude_ctd</th>\n",
       "      <th>Latitude_sat</th>\n",
       "      <th>Longitude_ctd</th>\n",
       "      <th>Longitude_sat</th>\n",
       "    </tr>\n",
       "  </thead>\n",
       "  <tbody>\n",
       "    <tr>\n",
       "      <th>0</th>\n",
       "      <td>1981-03-10</td>\n",
       "      <td>1981-03-10</td>\n",
       "      <td>42.25</td>\n",
       "      <td>42.25</td>\n",
       "      <td>-65.466698</td>\n",
       "      <td>-65.466698</td>\n",
       "    </tr>\n",
       "    <tr>\n",
       "      <th>1</th>\n",
       "      <td>1981-03-10</td>\n",
       "      <td>1981-03-10</td>\n",
       "      <td>42.25</td>\n",
       "      <td>42.25</td>\n",
       "      <td>-65.466698</td>\n",
       "      <td>-65.466698</td>\n",
       "    </tr>\n",
       "    <tr>\n",
       "      <th>2</th>\n",
       "      <td>1981-03-10</td>\n",
       "      <td>1981-03-10</td>\n",
       "      <td>42.25</td>\n",
       "      <td>42.25</td>\n",
       "      <td>-65.466698</td>\n",
       "      <td>-65.466698</td>\n",
       "    </tr>\n",
       "    <tr>\n",
       "      <th>3</th>\n",
       "      <td>1981-03-10</td>\n",
       "      <td>1981-03-10</td>\n",
       "      <td>42.25</td>\n",
       "      <td>42.25</td>\n",
       "      <td>-65.466698</td>\n",
       "      <td>-65.466698</td>\n",
       "    </tr>\n",
       "    <tr>\n",
       "      <th>4</th>\n",
       "      <td>1981-03-10</td>\n",
       "      <td>1981-03-10</td>\n",
       "      <td>42.25</td>\n",
       "      <td>42.25</td>\n",
       "      <td>-65.466698</td>\n",
       "      <td>-65.466698</td>\n",
       "    </tr>\n",
       "  </tbody>\n",
       "</table>\n",
       "</div>"
      ],
      "text/plain": [
       "    Date_ctd   Date_sat  Latitude_ctd  Latitude_sat  Longitude_ctd  \\\n",
       "0 1981-03-10 1981-03-10         42.25         42.25     -65.466698   \n",
       "1 1981-03-10 1981-03-10         42.25         42.25     -65.466698   \n",
       "2 1981-03-10 1981-03-10         42.25         42.25     -65.466698   \n",
       "3 1981-03-10 1981-03-10         42.25         42.25     -65.466698   \n",
       "4 1981-03-10 1981-03-10         42.25         42.25     -65.466698   \n",
       "\n",
       "   Longitude_sat  \n",
       "0     -65.466698  \n",
       "1     -65.466698  \n",
       "2     -65.466698  \n",
       "3     -65.466698  \n",
       "4     -65.466698  "
      ]
     },
     "execution_count": 8,
     "metadata": {},
     "output_type": "execute_result"
    }
   ],
   "source": [
    "df_merged[['Date_ctd','Date_sat','Latitude_ctd','Latitude_sat','Longitude_ctd','Longitude_sat']].head()"
   ]
  },
  {
   "cell_type": "code",
   "execution_count": 9,
   "id": "bb6a412a-2cd3-427e-8ce6-e9b455fbf3c3",
   "metadata": {},
   "outputs": [
    {
     "data": {
      "text/plain": [
       "(-4.973799150320701e-14, 4.973799150320701e-14)"
      ]
     },
     "execution_count": 9,
     "metadata": {},
     "output_type": "execute_result"
    }
   ],
   "source": [
    "lat_diff  = df_merged.Latitude_ctd - df_merged.Latitude_sat\n",
    "lat_diff.min(), lat_diff.max()"
   ]
  },
  {
   "cell_type": "code",
   "execution_count": 10,
   "id": "424fa610-6a02-4116-b103-65d669746237",
   "metadata": {},
   "outputs": [
    {
     "data": {
      "text/plain": [
       "(-4.973799150320701e-14, 5.684341886080802e-14)"
      ]
     },
     "execution_count": 10,
     "metadata": {},
     "output_type": "execute_result"
    }
   ],
   "source": [
    "lon_diff  = df_merged.Longitude_ctd - df_merged.Longitude_sat\n",
    "lon_diff.min(), lon_diff.max()"
   ]
  },
  {
   "cell_type": "markdown",
   "id": "285d4086-018c-4d4c-9a35-046f688b78e5",
   "metadata": {},
   "source": [
    "## Save merged data set to HDF file "
   ]
  },
  {
   "cell_type": "code",
   "execution_count": 11,
   "id": "3198f0fc-4ed9-4389-a705-d762fa22ba4f",
   "metadata": {},
   "outputs": [
    {
     "name": "stdout",
     "output_type": "stream",
     "text": [
      "writing data/CombinedCTD_satellite_1981-2021.h5\n"
     ]
    }
   ],
   "source": [
    "df_merged_final = df_merged.drop(['Latitude_sat','Longitude_sat','Date_sat'], axis=1).rename(columns={'Latitude_ctd':'Latitude',\n",
    "                                                                                                        'Longitude_ctd':'Longitude',\n",
    "                                                                                                        'Date_ctd':'Date'})\n",
    "yr_min, yr_max = df_merged_final.Date.dt.year.min(), df_merged_final.Date.dt.year.max()\n",
    "outfile = 'data/CombinedCTD_satellite_{}-{}.h5'.format(yr_min, yr_max)\n",
    "print('writing {}'.format(outfile))\n",
    "df_merged_final.to_hdf(outfile, key='df_ctd_sat', mode='w', complevel=9)"
   ]
  }
 ],
 "metadata": {
  "kernelspec": {
   "display_name": "Python 3 (ipykernel)",
   "language": "python",
   "name": "python3"
  },
  "language_info": {
   "codemirror_mode": {
    "name": "ipython",
    "version": 3
   },
   "file_extension": ".py",
   "mimetype": "text/x-python",
   "name": "python",
   "nbconvert_exporter": "python",
   "pygments_lexer": "ipython3",
   "version": "3.9.7"
  },
  "widgets": {
   "application/vnd.jupyter.widget-state+json": {
    "state": {},
    "version_major": 2,
    "version_minor": 0
   }
  }
 },
 "nbformat": 4,
 "nbformat_minor": 5
}
